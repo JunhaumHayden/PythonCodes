{
 "cells": [
  {
   "metadata": {
    "ExecuteTime": {
     "end_time": "2025-07-03T23:52:28.653848Z",
     "start_time": "2025-07-03T23:52:28.628028Z"
    }
   },
   "cell_type": "code",
   "source": "import numpy as np",
   "id": "e08d0f105f7588f6",
   "outputs": [],
   "execution_count": 1
  },
  {
   "cell_type": "code",
   "id": "initial_id",
   "metadata": {
    "collapsed": true,
    "ExecuteTime": {
     "end_time": "2025-07-03T23:52:32.239362Z",
     "start_time": "2025-07-03T23:52:32.237065Z"
    }
   },
   "source": [
    "\n",
    "\n",
    "def vandermonde(x, y):\n",
    "    num_points = x.shape[0]\n",
    "    A = np.zeros((num_points, num_points), np.float64)\n",
    "\n",
    "    for i in range(num_points):\n",
    "        for j in range(num_points):\n",
    "            A[i, j] = x[i] ** j\n",
    "\n",
    "    coef = np.linalg.inv(A) @ np.transpose(y)\n",
    "\n",
    "    return coef\n",
    "\n"
   ],
   "outputs": [],
   "execution_count": 3
  },
  {
   "metadata": {
    "ExecuteTime": {
     "end_time": "2025-07-03T23:52:34.616249Z",
     "start_time": "2025-07-03T23:52:34.613596Z"
    }
   },
   "cell_type": "code",
   "source": [
    "\n",
    "# Exemplo 6.1, 6.2, 6.3\n",
    "x = np.array([1.5, 3.5, 7., 11.5, 14])\n",
    "y = np.array([3, 6, 2.5, 9.5, 7.4])\n",
    "x_interpol = 10\n",
    "\n",
    "# Retorna Coeficientes do Polinômio\n",
    "coefs_vander = vandermonde(x, y)\n",
    "\n",
    "\n",
    "print('Polinômio obtido método de Vandermonde')\n",
    "print(round(coefs_vander[0], 6)),\n",
    "for i in range(1, len(coefs_vander)):\n",
    "    print(f'{round(coefs_vander[i], 6)}x^{i}'),"
   ],
   "id": "6c7febeb279753dc",
   "outputs": [
    {
     "name": "stdout",
     "output_type": "stream",
     "text": [
      "Polinômio obtido método de Vandermonde\n",
      "-9.228203\n",
      "12.500419x^1\n",
      "-3.385649x^2\n",
      "0.341379x^3\n",
      "-0.011233x^4\n"
     ]
    }
   ],
   "execution_count": 4
  },
  {
   "metadata": {
    "ExecuteTime": {
     "end_time": "2025-07-03T23:54:07.704930Z",
     "start_time": "2025-07-03T23:54:07.702281Z"
    }
   },
   "cell_type": "code",
   "source": [
    "num_points = x.shape[0]\n",
    "num_points\n"
   ],
   "id": "5286be2e5b4e3a49",
   "outputs": [
    {
     "data": {
      "text/plain": [
       "5"
      ]
     },
     "execution_count": 6,
     "metadata": {},
     "output_type": "execute_result"
    }
   ],
   "execution_count": 6
  },
  {
   "metadata": {
    "ExecuteTime": {
     "end_time": "2025-07-03T23:54:22.752199Z",
     "start_time": "2025-07-03T23:54:22.749966Z"
    }
   },
   "cell_type": "code",
   "source": [
    "A = np.zeros((num_points, num_points), np.float64)\n",
    "A"
   ],
   "id": "9d145adae9ea2a89",
   "outputs": [
    {
     "data": {
      "text/plain": [
       "array([[0., 0., 0., 0., 0.],\n",
       "       [0., 0., 0., 0., 0.],\n",
       "       [0., 0., 0., 0., 0.],\n",
       "       [0., 0., 0., 0., 0.],\n",
       "       [0., 0., 0., 0., 0.]])"
      ]
     },
     "execution_count": 7,
     "metadata": {},
     "output_type": "execute_result"
    }
   ],
   "execution_count": 7
  },
  {
   "metadata": {
    "ExecuteTime": {
     "end_time": "2025-07-03T23:55:22.768934Z",
     "start_time": "2025-07-03T23:55:22.766452Z"
    }
   },
   "cell_type": "code",
   "source": [
    "# x = ([1.5, 3.5, 7., 11.5, 14])\n",
    "for i in range(num_points):\n",
    "        for j in range(num_points):\n",
    "            A[i, j] = x[i] ** j\n",
    "A"
   ],
   "id": "60db62eb558ad34",
   "outputs": [
    {
     "data": {
      "text/plain": [
       "array([[1.00000000e+00, 1.50000000e+00, 2.25000000e+00, 3.37500000e+00,\n",
       "        5.06250000e+00],\n",
       "       [1.00000000e+00, 3.50000000e+00, 1.22500000e+01, 4.28750000e+01,\n",
       "        1.50062500e+02],\n",
       "       [1.00000000e+00, 7.00000000e+00, 4.90000000e+01, 3.43000000e+02,\n",
       "        2.40100000e+03],\n",
       "       [1.00000000e+00, 1.15000000e+01, 1.32250000e+02, 1.52087500e+03,\n",
       "        1.74900625e+04],\n",
       "       [1.00000000e+00, 1.40000000e+01, 1.96000000e+02, 2.74400000e+03,\n",
       "        3.84160000e+04]])"
      ]
     },
     "execution_count": 8,
     "metadata": {},
     "output_type": "execute_result"
    }
   ],
   "execution_count": 8
  },
  {
   "metadata": {
    "ExecuteTime": {
     "end_time": "2025-07-04T00:01:01.041800Z",
     "start_time": "2025-07-04T00:01:01.039622Z"
    }
   },
   "cell_type": "code",
   "source": [
    "# Computes the inverse of the Vandermonde matrix A.\n",
    "b= np.linalg.inv(A)\n",
    "b"
   ],
   "id": "38afaff68fe10eae",
   "outputs": [
    {
     "data": {
      "text/plain": [
       "array([[ 2.86872727e+00, -2.87500000e+00,  1.39393939e+00,\n",
       "        -5.71666667e-01,  1.84000000e-01],\n",
       "       [-1.68381818e+00,  2.78273810e+00, -1.54834055e+00,\n",
       "         6.66944444e-01, -2.17523810e-01],\n",
       "       [ 3.29636364e-01, -6.60289116e-01,  4.84436199e-01,\n",
       "        -2.31388889e-01,  7.76054422e-02],\n",
       "       [-2.61818182e-02,  5.78231293e-02, -5.02989074e-02,\n",
       "         2.88888889e-02, -1.02312925e-02],\n",
       "       [ 7.27272727e-04, -1.70068027e-03,  1.64914451e-03,\n",
       "        -1.11111111e-03,  4.35374150e-04]])"
      ]
     },
     "execution_count": 9,
     "metadata": {},
     "output_type": "execute_result"
    }
   ],
   "execution_count": 9
  },
  {
   "metadata": {
    "ExecuteTime": {
     "end_time": "2025-07-04T00:02:04.272279Z",
     "start_time": "2025-07-04T00:02:04.270162Z"
    }
   },
   "cell_type": "code",
   "source": [
    "# y = np.array([3, 6, 2.5, 9.5, 7.4])\n",
    "c = np.transpose(y)\n",
    "c"
   ],
   "id": "bbd92b45ece9cb8",
   "outputs": [
    {
     "data": {
      "text/plain": [
       "array([3. , 6. , 2.5, 9.5, 7.4])"
      ]
     },
     "execution_count": 10,
     "metadata": {},
     "output_type": "execute_result"
    }
   ],
   "execution_count": 10
  },
  {
   "metadata": {
    "ExecuteTime": {
     "end_time": "2025-07-04T00:03:11.933343Z",
     "start_time": "2025-07-04T00:03:11.931398Z"
    }
   },
   "cell_type": "code",
   "source": [
    "coef = b @ c\n",
    "coef"
   ],
   "id": "94419cb321e2ae7d",
   "outputs": [
    {
     "data": {
      "text/plain": [
       "array([-9.22820303e+00,  1.25004187e+01, -3.38564928e+00,  3.41378932e-01,\n",
       "       -1.12331890e-02])"
      ]
     },
     "execution_count": 12,
     "metadata": {},
     "output_type": "execute_result"
    }
   ],
   "execution_count": 12
  },
  {
   "metadata": {},
   "cell_type": "code",
   "outputs": [],
   "execution_count": null,
   "source": "",
   "id": "d6c5ca4f73c0cbf8"
  }
 ],
 "metadata": {
  "kernelspec": {
   "display_name": "Python 3",
   "language": "python",
   "name": "python3"
  },
  "language_info": {
   "codemirror_mode": {
    "name": "ipython",
    "version": 2
   },
   "file_extension": ".py",
   "mimetype": "text/x-python",
   "name": "python",
   "nbconvert_exporter": "python",
   "pygments_lexer": "ipython2",
   "version": "2.7.6"
  }
 },
 "nbformat": 4,
 "nbformat_minor": 5
}
