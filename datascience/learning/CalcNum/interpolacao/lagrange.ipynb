{
 "cells": [
  {
   "metadata": {
    "ExecuteTime": {
     "end_time": "2025-07-04T13:05:26.269416Z",
     "start_time": "2025-07-04T13:05:25.982835Z"
    }
   },
   "cell_type": "code",
   "source": [
    "import numpy as np\n",
    "import matplotlib.pyplot as plt"
   ],
   "id": "99a8cdefe208b1f4",
   "outputs": [],
   "execution_count": 1
  },
  {
   "metadata": {},
   "cell_type": "markdown",
   "source": [
    "|       | x₀  | x₁  | x₂  | x₃   | x₄  |\n",
    "|-------|-----|-----|-----|------|-----|\n",
    "| **x**     | 1.5 | 3.5 | 7.0 | 11.5 | 14  |\n",
    "| **f(x)**  | 3.0 | 6.0 | 2.5 | 9.5  | 7.4 |\n"
   ],
   "id": "ed363dc8b330ed8a"
  },
  {
   "cell_type": "code",
   "id": "initial_id",
   "metadata": {
    "collapsed": true,
    "ExecuteTime": {
     "end_time": "2025-07-04T13:08:26.251610Z",
     "start_time": "2025-07-04T13:08:26.248882Z"
    }
   },
   "source": [
    "def lagrange(x,y,x_interpol):\n",
    "    #programa de interpolação pela Forma de Lagrange\n",
    "    #dados de entrada\n",
    "    #quantidade de pontos\n",
    "    n=x.shape[0]\n",
    "    L = np.zeros(n)\n",
    "    for i in range(n):\n",
    "        L[i] = 1\n",
    "        for j in range(n):\n",
    "            if (j != i):\n",
    "                L[i]=L[i]*(x_interpol-x[j])/(x[i]-x[j])\n",
    "\n",
    "    #valor interpolado\n",
    "    y_interpol=0\n",
    "    for i in range(n):\n",
    "        y_interpol=y_interpol+y[i]*L[i]\n",
    "\n",
    "    return y_interpol"
   ],
   "outputs": [],
   "execution_count": 2
  },
  {
   "metadata": {
    "ExecuteTime": {
     "end_time": "2025-07-04T13:08:29.762178Z",
     "start_time": "2025-07-04T13:08:29.760238Z"
    }
   },
   "cell_type": "code",
   "source": [
    "#Exemplo 6.1, 6.2, 6.3\n",
    "x = np.array([1.5, 3.5, 7. ,11.5, 14])\n",
    "y = np.array([3,6,2.5,9.5,7.4])\n",
    "x_interpol = 10\n",
    "\n",
    "# Retorna o valor y referente ao valor x\n",
    "y_lagrange = lagrange(x,y,x_interpol)\n",
    "\n",
    "print(f'Valor de f({x_interpol}), obtido pelo método de Lagrange')\n",
    "print(y_lagrange)"
   ],
   "id": "81b4c3cec7a8dc1e",
   "outputs": [
    {
     "name": "stdout",
     "output_type": "stream",
     "text": [
      "Valor de f(10), obtido pelo método de Lagrange\n",
      "6.258097835497834\n"
     ]
    }
   ],
   "execution_count": 3
  },
  {
   "metadata": {
    "ExecuteTime": {
     "end_time": "2025-07-04T13:11:27.927368Z",
     "start_time": "2025-07-04T13:11:27.925455Z"
    }
   },
   "cell_type": "code",
   "source": [
    "n=x.shape[0]\n",
    "n"
   ],
   "id": "a1296a1960f3caec",
   "outputs": [
    {
     "data": {
      "text/plain": [
       "5"
      ]
     },
     "execution_count": 6,
     "metadata": {},
     "output_type": "execute_result"
    }
   ],
   "execution_count": 6
  },
  {
   "metadata": {
    "ExecuteTime": {
     "end_time": "2025-07-04T13:11:31.381166Z",
     "start_time": "2025-07-04T13:11:31.379203Z"
    }
   },
   "cell_type": "code",
   "source": [
    "L = np.zeros(n)\n",
    "L"
   ],
   "id": "7e856f18cf453ee1",
   "outputs": [
    {
     "data": {
      "text/plain": [
       "array([0., 0., 0., 0., 0.])"
      ]
     },
     "execution_count": 7,
     "metadata": {},
     "output_type": "execute_result"
    }
   ],
   "execution_count": 7
  },
  {
   "metadata": {
    "ExecuteTime": {
     "end_time": "2025-07-04T14:27:29.594202Z",
     "start_time": "2025-07-04T14:27:29.591570Z"
    }
   },
   "cell_type": "code",
   "source": [
    "for i in range(n):\n",
    "    L[i] = 1\n",
    "    for j in range(n):\n",
    "        if (j != i):\n",
    "            print(f'L[{i}] = {L[i]} * ({x_interpol} - {x[j]}) / ({x[i]} - {x[j]})')\n",
    "            L[i]=L[i]*(x_interpol-x[j])/(x[i]-x[j])\n",
    "L\n"
   ],
   "id": "b6503b63c1c0926",
   "outputs": [
    {
     "name": "stdout",
     "output_type": "stream",
     "text": [
      "L[0] = 1.0 * (10 - 3.5) / (1.5 - 3.5)\n",
      "L[0] = -3.25 * (10 - 7.0) / (1.5 - 7.0)\n",
      "L[0] = 1.7727272727272727 * (10 - 11.5) / (1.5 - 11.5)\n",
      "L[0] = 0.26590909090909093 * (10 - 14.0) / (1.5 - 14.0)\n",
      "L[1] = 1.0 * (10 - 1.5) / (3.5 - 1.5)\n",
      "L[1] = 4.25 * (10 - 7.0) / (3.5 - 7.0)\n",
      "L[1] = -3.642857142857143 * (10 - 11.5) / (3.5 - 11.5)\n",
      "L[1] = -0.6830357142857143 * (10 - 14.0) / (3.5 - 14.0)\n",
      "L[2] = 1.0 * (10 - 1.5) / (7.0 - 1.5)\n",
      "L[2] = 1.5454545454545454 * (10 - 3.5) / (7.0 - 3.5)\n",
      "L[2] = 2.87012987012987 * (10 - 11.5) / (7.0 - 11.5)\n",
      "L[2] = 0.9567099567099567 * (10 - 14.0) / (7.0 - 14.0)\n",
      "L[3] = 1.0 * (10 - 1.5) / (11.5 - 1.5)\n",
      "L[3] = 0.85 * (10 - 3.5) / (11.5 - 3.5)\n",
      "L[3] = 0.6906249999999999 * (10 - 7.0) / (11.5 - 7.0)\n",
      "L[3] = 0.46041666666666664 * (10 - 14.0) / (11.5 - 14.0)\n",
      "L[4] = 1.0 * (10 - 1.5) / (14.0 - 1.5)\n",
      "L[4] = 0.68 * (10 - 3.5) / (14.0 - 3.5)\n",
      "L[4] = 0.42095238095238097 * (10 - 7.0) / (14.0 - 7.0)\n",
      "L[4] = 0.18040816326530612 * (10 - 11.5) / (14.0 - 11.5)\n"
     ]
    },
    {
     "data": {
      "text/plain": [
       "array([ 0.08509091, -0.26020408,  0.5466914 ,  0.73666667, -0.1082449 ])"
      ]
     },
     "execution_count": 13,
     "metadata": {},
     "output_type": "execute_result"
    }
   ],
   "execution_count": 13
  },
  {
   "metadata": {
    "ExecuteTime": {
     "end_time": "2025-07-04T13:46:04.701581Z",
     "start_time": "2025-07-04T13:46:04.699642Z"
    }
   },
   "cell_type": "code",
   "source": [
    "y_interpol=0\n",
    "for i in range(n):\n",
    "    y_interpol=y_interpol+y[i]*L[i]\n",
    "y_interpol"
   ],
   "id": "cb0092cda362ded1",
   "outputs": [
    {
     "data": {
      "text/plain": [
       "np.float64(6.258097835497834)"
      ]
     },
     "execution_count": 10,
     "metadata": {},
     "output_type": "execute_result"
    }
   ],
   "execution_count": 10
  }
 ],
 "metadata": {
  "kernelspec": {
   "display_name": "Python 3",
   "language": "python",
   "name": "python3"
  },
  "language_info": {
   "codemirror_mode": {
    "name": "ipython",
    "version": 2
   },
   "file_extension": ".py",
   "mimetype": "text/x-python",
   "name": "python",
   "nbconvert_exporter": "python",
   "pygments_lexer": "ipython2",
   "version": "2.7.6"
  }
 },
 "nbformat": 4,
 "nbformat_minor": 5
}
