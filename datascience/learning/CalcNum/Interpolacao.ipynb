{
 "cells": [
  {
   "cell_type": "code",
   "execution_count": 95,
   "id": "0ebc1a27",
   "metadata": {},
   "outputs": [],
   "source": [
    "import numpy as np\n",
    "import pandas as pd\n",
    "import scipy as sp\n",
    "import matplotlib.pyplot as plt"
   ]
  },
  {
   "cell_type": "markdown",
   "id": "dfb15173",
   "metadata": {},
   "source": [
    "Se $\\{l_i(x)\\}_{i=0}^n$ é uma base para o espaço vetorial de splines, então qualquer elemento deste espaço pode ser esendpointrito na forma:\n",
    "$$\n",
    "s(x) = \\sum_{i=0}^{n} endpoint_i \\cdot lì(x)\n",
    "$$\n",
    "$$\n",
    "s(x) = c_il_i(x) + c_il_i(x) + ... + c_kl_k(x) \n",
    "$$\n",
    "\n",
    "onde $c_i$ são os coeficientes da combinação linear e $k$ é a dimensão do espaço vetorial"
   ]
  },
  {
   "cell_type": "markdown",
   "id": "703ffa8c",
   "metadata": {},
   "source": [
    "A base para os splines lineares é dada por:\n",
    "\n",
    "$$\n",
    "l_i(x)=\\left\\{\n",
    "\\begin{array}{ll}\n",
    "\\dfrac{x - x_{i-1}}{x_i - x_{i-1}}, & \\text{se } x_{i-1} \\le x \\le x_i \\\\\\\\\n",
    "\\dfrac{x_{i+1} - x}{x_{i+1} - x_i}, & \\text{se } x_i \\le x \\le x_{i+1} \\\\\\\\\n",
    "0, & \\text{se } x < x_{i-1} \\text{ ou } x > x_{i+1}\n",
    "\\end{array}\n",
    "\\right.\n",
    "$$\n"
   ]
  },
  {
   "cell_type": "code",
   "execution_count": null,
   "id": "f1a7b6bb",
   "metadata": {},
   "outputs": [],
   "source": [
    "#funcao base splite linear\n",
    "def funcao_spline_lineares(x, startpoint, midpoint, endpoint):\n",
    "    result = 0 # se x < x(i-1) or x > x(i+1)\n",
    "\n",
    "    if startpoint < x < midpoint: # se x(i-1) < x < x(i)\n",
    "        result = (x - startpoint)/(midpoint - startpoint)\n",
    "\n",
    "    if midpoint < x < endpoint:   # se x(i) < x < x(i+1)\n",
    "        result = (endpoint - x)/(endpoint - midpoint)\n",
    "\n",
    "    return result"
   ]
  },
  {
   "cell_type": "code",
   "execution_count": null,
   "id": "4e2356a0",
   "metadata": {},
   "outputs": [
    {
     "data": {
      "image/png": "[encoded data removed]",
      "text/plain": [
       "<Figure size 650x400 with 1 Axes>"
      ]
     },
     "metadata": {},
     "output_type": "display_data"
    }
   ],
   "source": [
    "# Example usage of the spline interpolation function\n",
    "\n",
    "\n",
    "x = np.arange(10) # x to find the spline interpolation\n",
    "a = 0.2 # x(i-1)\n",
    "b = 0.5 # x(i)\n",
    "c = 0.8 # x(i+1)\n",
    "\n",
    "x = np.linspace(a-1, c+1, 200) # x to find the spline interpolation\n",
    "y = np.zeros(len(x)) # \n",
    "\n",
    "for i in range(len(x)):\n",
    "    y[i] = funcao_spline_lineares(x[i], a, b, c)\n",
    "\n",
    "# Plotting the results\n",
    "fig, ax = plt.subplots(figsize=(6.5, 4))\n",
    "ax.plot(x, y, \"-\", label='Linear Spline Interpolation', color='blue')\n",
    "ax.legend(loc='upper left', ncol=2)\n",
    "plt.show()"
   ]
  },
  {
   "cell_type": "markdown",
   "id": "4144e13c",
   "metadata": {},
   "source": [
    "### Spline Cúbico $(s_3(x))$\n",
    "\n",
    "A base é composta de funções $B_i(x)$ (chamadas de *sinos*) com vértice em $x_i$.  \n",
    "Em uma partição igualmente espaçada, ou seja, \n",
    "\n",
    "$h = x_i - x_{i-1}$ para todo $i = 1, 2, \\ldots, n$, temos:\n",
    "\n",
    "$$\n",
    "B_i(x) = \\dfrac{1}{h^3} \\left\\{\n",
    "\\begin{array}{ll}\n",
    "(x - x_{i-2})^3, & \\text{se } x_{i-2} \\le x \\le x_{i-1} \\\\\\\\\n",
    "h^3 + 3h^2(x - x_{i-1}) + 3h(x - x_{i-1})^2 - 3(x - x_{i-1})^3, & \\text{se } x_{i-1} \\le x \\le x_i \\\\\\\\\n",
    "h^3 + 3h^2(x_{i+1} - x) + 3h(x_{i+1} - x)^2 - 3(x_{i+1} - x)^3, & \\text{se } x_i \\le x \\le x_{i+1} \\\\\\\\\n",
    "(x_{i+2} - x)^3, & \\text{se } x_{i+1} \\le x \\le x_{i+2} \\\\\\\\\n",
    "0, & \\text{se } x < x_{i-2} \\text{ ou } x > x_{i+2}\n",
    "\\end{array}\n",
    "\\right.\n",
    "$$\n",
    "\n",
    "No caso da interpolação por splines cúbicos, queremos determinar os coeficientes $a_i$ tais que:\n",
    "\n",
    "$$\n",
    "s_3(x) = \\sum_{i=-1}^{n+1} a_i B_i(x) \\quad \\text{e} \\quad s_3(x_j) = y_j,\\quad j = 0, 1, \\ldots, n,\n",
    "$$\n",
    "\n",
    "onde $B_i(x)$ são as funções da base dos splines cúbicos.\n"
   ]
  },
  {
   "cell_type": "code",
   "execution_count": 91,
   "id": "357724d7",
   "metadata": {},
   "outputs": [],
   "source": [
    "# função base spline cúbica\n",
    "\n",
    "def funcao_spline_cubica(x, table):\n",
    "    result = 0                          # se x < x(i-2) or x > x(i+2)\n",
    "    h = table[1] - table[0]             # h = x(i) - x(i-1) condição de existencia\n",
    "\n",
    "    if x > table[0] and x < table[1]:   # se x(i-2) <= x <= x(i-1)\n",
    "        result = (x - table[0])**3\n",
    "\n",
    "    if x > table[1] and x < table[2]:   # se x(i-1) <= x <= x(i)\n",
    "        result = h**3+3*h**2*(x-table[1])+3*h*(x-table[1])**2-3*(x-table[1])**3\n",
    "\n",
    "    if x > table[2] and x < table[3]:   # se x(i) < x < x(i+1)\n",
    "        result = h**3+3*h**2*(table[3]-x)+3*h*(table[3]-x)**2-3*(table[3]-x)**3\n",
    "\n",
    "    if x > table[3] and x < table[4]:   # se x(i+1) < x < x(i+2)\n",
    "        result = (table[4] - x)**3\n",
    "\n",
    "    return (1/h**3)*result"
   ]
  },
  {
   "cell_type": "code",
   "execution_count": null,
   "id": "71a4cd0e",
   "metadata": {},
   "outputs": [
    {
     "data": {
      "image/png": "[encoded data removed]",
      "text/plain": [
       "<Figure size 650x400 with 1 Axes>"
      ]
     },
     "metadata": {},
     "output_type": "display_data"
    }
   ],
   "source": [
    "a = [0.2, 0.4, 0.6, 0.8, 1]\n",
    "x = np.linspace(0,1,200)\n",
    "y = np.zeros(len(x))\n",
    "\n",
    "for i in range(len(x)):\n",
    "    y[i] = funcao_spline_cubica(x[i],a)\n",
    "\n",
    "# Plotting the results for cubic spline\n",
    "fig, ax = plt.subplots(figsize=(6.5, 4))\n",
    "ax.plot(x, y, '-', label ='Base spline cúbico')\n",
    "ax.legend(loc='upper left', ncol=2)\n",
    "plt.show()"
   ]
  },
  {
   "cell_type": "markdown",
   "id": "754c568d",
   "metadata": {},
   "source": [
    "No Pandas, o método `.interpolate()` realiza interpolação de valores ausentes (`NaN`) com base em diferentes métodos matemáticos, sendo o padrão o `método linear`. A escolha da técnica depende do argumento method.\n",
    "\n",
    "> Para métodos mais avançados como spline, polynomial, pchip, akima, etc., é necessário ter o pacote scipy instalado:\n",
    "\n",
    "## Outros métodos disponíveis (method):\n",
    "| Método (`method`)         | Descrição                                                                 |\n",
    "|---------------------------|---------------------------------------------------------------------------|\n",
    "| `linear`                  | Interpolação linear (default).                                            |\n",
    "| `time`                    | Interpolação baseada em índices de tempo (`DatetimeIndex`).               |\n",
    "| `index`                   | Usa os valores do índice como base para interpolação.                     |\n",
    "| `pad` / `ffill`           | Preenche para frente com o último valor conhecido.                        |\n",
    "| `backfill` / `bfill`      | Preenche com o próximo valor conhecido.                                   |\n",
    "| `polynomial`              | Interpolação polinomial (requer `order=`).                                |\n",
    "| `spline`                  | Usa splines (requer `order=`).                                            |\n",
    "| `barycentric`             | Interpolação de Lagrange com método baricêntrico.                         |\n",
    "| `nearest`                 | Usa o valor conhecido mais próximo.                                       |\n",
    "| `quadratic`               | Polinômio de 2ª ordem (equivalente a `method='polynomial', order=2`).     |\n",
    "| `cubic`                   | Polinômio de 3ª ordem.                                                    |\n",
    "| `pchip`                   | Interpolação suave com monotonicidade garantida.                          |\n",
    "| `akima`                   | Interpolação suave (menos sensível a ruídos extremos).                    |\n",
    "| `from_derivatives`        | Usa derivadas conhecidas (caso raro).                                     |\n"
   ]
  },
  {
   "cell_type": "code",
   "execution_count": 99,
   "id": "2d52e141",
   "metadata": {},
   "outputs": [
    {
     "data": {
      "text/plain": [
       "0     1.0\n",
       "1     2.0\n",
       "2     3.0\n",
       "3     4.0\n",
       "4     5.0\n",
       "5     6.0\n",
       "6     7.0\n",
       "7     8.0\n",
       "8     9.0\n",
       "9    10.0\n",
       "dtype: float64"
      ]
     },
     "execution_count": 99,
     "metadata": {},
     "output_type": "execute_result"
    }
   ],
   "source": [
    "s = pd.Series([1, np.nan, 3, np.nan, 5, 6, np.nan, 8, 9, 10])\n",
    "s.interpolate()\n",
    "# Resultado: [1.0, 2.0, 3.0, 4.0]"
   ]
  },
  {
   "cell_type": "code",
   "execution_count": 110,
   "id": "60bf3c74",
   "metadata": {},
   "outputs": [
    {
     "data": {
      "text/plain": [
       "0     1.0\n",
       "1     NaN\n",
       "2     3.0\n",
       "3     NaN\n",
       "4     5.0\n",
       "5     6.0\n",
       "6     NaN\n",
       "7     8.0\n",
       "8     9.0\n",
       "9    10.0\n",
       "dtype: float64"
      ]
     },
     "execution_count": 110,
     "metadata": {},
     "output_type": "execute_result"
    }
   ],
   "source": [
    "s"
   ]
  },
  {
   "cell_type": "code",
   "execution_count": 120,
   "id": "6171fab4",
   "metadata": {},
   "outputs": [
    {
     "name": "stdout",
     "output_type": "stream",
     "text": [
      "3.0\n",
      "2.0\n",
      "-----\n",
      "5.0\n",
      "4.0\n",
      "-----\n",
      "8.0\n",
      "7.0\n",
      "-----\n"
     ]
    },
    {
     "data": {
      "text/plain": [
       "0     1.0\n",
       "1     0.0\n",
       "2     3.0\n",
       "3     0.0\n",
       "4     5.0\n",
       "5     6.0\n",
       "6     0.0\n",
       "7     8.0\n",
       "8     9.0\n",
       "9    10.0\n",
       "dtype: float64"
      ]
     },
     "execution_count": 120,
     "metadata": {},
     "output_type": "execute_result"
    }
   ],
   "source": [
    "# Interpolação linear para valores NaN em uma série\n",
    "y = s.copy()  # Inicializa o vetor de saída\n",
    "for i in range(len(s)):\n",
    "    if np.isnan(s[i]):\n",
    "        # Interpolação linear para valores NaN\n",
    "        if i == 0:\n",
    "            y[i] = s[i+1]  # Se for o primeiro elemento, usa o próximo\n",
    "        elif i == len(s) - 1:\n",
    "            y[i] = s[i-1]  # Se for o último elemento, usa o anterior\n",
    "        else:\n",
    "            # Encontrar o próximo valor válido após o NaN\n",
    "            #proximo_valido = next((s[j] for j in range(i+1, len(s)) if not np.isnan(s[j])), None)\n",
    "            proximo_valido\n",
    "            for j in range(i+1, len(s)):\n",
    "                if not np.isnan(s[j]):\n",
    "                    proximo_valido = s[j]\n",
    "                    break\n",
    "            \n",
    "            print(proximo_valido)\n",
    "            # Encontrar o valor válido anterior ao NaN\n",
    "            # Função lambda para calcular a média entre o valor anterior e o próximo valor não nulo\n",
    "            #media_entre_vizinhos = lambda s, i: (s[i-1] + next((s[j] for j in range(i+1, len(s)) if not np.isnan(s[j])), None)) / 2\n",
    "            ponto_medio = (s[i-1] + proximo_valido) / 2  # Média entre o anterior e o próximo\n",
    "            print(ponto_medio)\n",
    "            print(\"-----\")\n",
    "            #y[i] = (ponto_medio + proximo_valido) / 2  # Interpolação linear simples\n",
    "            y[i] = funcao_spline_lineares(i, y[i-1], ponto_medio, proximo_valido)\n",
    "y\n"
   ]
  },
  {
   "cell_type": "code",
   "execution_count": 116,
   "id": "2324c1d6",
   "metadata": {},
   "outputs": [
    {
     "data": {
      "text/plain": [
       "array([ 1.,  2.,  3.,  4.,  5.,  6.,  7.,  8.,  9., 10.])"
      ]
     },
     "execution_count": 116,
     "metadata": {},
     "output_type": "execute_result"
    }
   ],
   "source": [
    "# Interpolação linear para valores NaN em uma série\n",
    "y = np.zeros(len(s))  # Inicializa o vetor de saída\n",
    "for i in range(len(s)):\n",
    "    if np.isnan(s[i]):\n",
    "        # Interpolação linear para valores NaN\n",
    "        if i == 0:\n",
    "            y[i] = s[i+1]  # Se for o primeiro elemento, usa o próximo\n",
    "        elif i == len(s) - 1:\n",
    "            y[i] = s[i-1]  # Se for o último elemento, usa o anterior\n",
    "        else:\n",
    "            proximo_valido = next((s[j] for j in range(i+1, len(s)) if not np.isnan(s[j])), None)\n",
    "            ponto_medio = next((s[j] for j in range(i-1, -1, -1) if not np.isnan(s[j])), None)\n",
    "            y[i] = (ponto_medio + proximo_valido) / 2  # Interpolação linear simples\n",
    "    else:\n",
    "        y[i] = s[i]\n",
    "y"
   ]
  },
  {
   "cell_type": "code",
   "execution_count": 121,
   "id": "2af81be8",
   "metadata": {},
   "outputs": [
    {
     "data": {
      "text/plain": [
       "0     1.0\n",
       "1     2.0\n",
       "2     3.0\n",
       "3     4.0\n",
       "4     5.0\n",
       "5     6.0\n",
       "6     7.0\n",
       "7     8.0\n",
       "8     9.0\n",
       "9    10.0\n",
       "dtype: float64"
      ]
     },
     "execution_count": 121,
     "metadata": {},
     "output_type": "execute_result"
    }
   ],
   "source": [
    "s.interpolate(method='spline', order=2)\n"
   ]
  },
  {
   "cell_type": "code",
   "execution_count": 122,
   "id": "7872ec97",
   "metadata": {},
   "outputs": [
    {
     "data": {
      "text/plain": [
       "2024-01-01    1.000000\n",
       "2024-01-02    1.666667\n",
       "2024-01-04    3.000000\n",
       "dtype: float64"
      ]
     },
     "execution_count": 122,
     "metadata": {},
     "output_type": "execute_result"
    }
   ],
   "source": [
    "s = pd.Series([1, np.nan, 3], index=pd.to_datetime(['2024-01-01', '2024-01-02', '2024-01-04']))\n",
    "s.interpolate(method='time')\n"
   ]
  }
 ],
 "metadata": {
  "kernelspec": {
   "display_name": "ds_env",
   "language": "python",
   "name": "python3"
  },
  "language_info": {
   "codemirror_mode": {
    "name": "ipython",
    "version": 3
   },
   "file_extension": ".py",
   "mimetype": "text/x-python",
   "name": "python",
   "nbconvert_exporter": "python",
   "pygments_lexer": "ipython3",
   "version": "3.12.11"
  }
 },
 "nbformat": 4,
 "nbformat_minor": 5
}
