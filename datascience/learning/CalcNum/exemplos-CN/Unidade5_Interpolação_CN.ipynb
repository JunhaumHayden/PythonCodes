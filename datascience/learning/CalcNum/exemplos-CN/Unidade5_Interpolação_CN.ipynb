{
  "nbformat": 4,
  "nbformat_minor": 0,
  "metadata": {
    "colab": {
      "provenance": [],
      "authorship_tag": "ABX9TyPlzNzEMeAF5scqQM+GzHPC",
      "include_colab_link": true
    },
    "kernelspec": {
      "name": "python3",
      "display_name": "Python 3"
    },
    "language_info": {
      "name": "python"
    }
  },
  "cells": [
    {
      "cell_type": "markdown",
      "metadata": {
        "id": "view-in-github",
        "colab_type": "text"
      },
      "source": [
        "<a href=\"https://colab.research.google.com/github/pccalegari/exemplos-CN/blob/main/Unidade5_Interpola%C3%A7%C3%A3o_CN.ipynb\" target=\"_parent\"><img src=\"https://colab.research.google.com/assets/colab-badge.svg\" alt=\"Open In Colab\"/></a>"
      ]
    },
    {
      "cell_type": "markdown",
      "source": [
        "#Aproximação de funções: Interpolação\n",
        "\n",
        "\n",
        "\n",
        "Nesta unidade, vamos estudar métodos para aproximar funções e dados tabelados. Veremos duas maneiras de aproximar funções: o Método dos Mínimos Quadrados e a Interpolação polinomial. A seguir, apresentamos alguns exemplos de resolução em Python. Vamos utilizar as bibliotecas numpy e scipy.\n",
        "\n",
        "**Interpolação Polinomial**\n",
        "\n",
        "Vamos estudar métodos numéricos que permitem determinar um polinômio que passe por $n+1$ pontos conhecidos, denotados por $(x_0,y_0)$, $(x_1,y_1)$, $\\ldots$, $(x_n,y_n)$, com $x_0\\neq x_1\\neq \\ldots \\neq x_n$. Em outras palavras, considere a tabela\n",
        "\n",
        "$$\\begin{array}{c|cccc}\n",
        "x & x_0 & x_1 & \\ldots & x_n \\\\\n",
        "\\hline\n",
        "f(x) & f(x_0) & f(x_1) & \\ldots & f(x_n) \\\\\n",
        "\\end{array}$$\n",
        "sendo $f(x_i)=y_i$ para $i=0,1,\\ldots, n$. Interpolar $x$ a tabela significa calcular $f(x)$, ou seja, incluir $(x,f(x))$ à tabela. Neste caso, vamos obter um polinômio aproximador $p(x)$ tal que $p(x_i) = y_i$, para $i=0,1,\\ldots,n.$\n",
        "\n",
        "\n",
        "Vamos estudar três formas de se obter um polinômio interpolador:\n",
        "\n",
        "1.  Resolvendo um sistema linear.\n",
        "2.  Fórmula de Lagrange.\n",
        "3.  Forma de Newton.\n",
        "\n",
        "O próximo resultado garante a existência e unicidade  do polinômio interpolador de uma tabela com $n+1$ pontos dados.\n",
        "\n",
        "**Proposição:**\n",
        "\n",
        "Dados $n+1$ pontos $(x_0,y_0),(x_1,y_1),\\ldots,(x_n,y_n)$, com $x_0,x_1,\\ldots,x_n$ distintos entre si, existe um único polinômio interpolador $p(x)$ de grau menor ou igual a $n$ que passa por esses pontos, ou seja, $p(x_i)=y_i$, para $i=0,1,\\ldots,n$.\n",
        "\n",
        "*demonstração:*\n",
        "\n",
        "Seja $p(x)=a_0+a_1x+a_2x^2+\\ldots+a_nx^n$ um polinômio de grau menor ou igual a $n$. Queremos determinar $a_0,a_1,\\ldots,a_n$ de modo que: $p(x_i)=y_i$. Ou seja,\n",
        "$$\\begin{array}{cccccccccccccc}\n",
        "p(x_0) & = & a_0 & + & a_1x_0 & + a_2x_0^2 & \\ldots & + & a_nx_0^n = y_0\\\\\n",
        "p(x_1) & = & a_0 & + & a_1x_1 & + a_2x_1^2 & \\ldots & + & a_nx_1^n = y_1\\\\\n",
        "\\vdots \\\\\n",
        "p(x_n) & = & a_0 & + & a_1x_n & + a_2x_n^2 & \\ldots & + & a_nx_n^n = y_n\\\\\n",
        "\\end{array}$$\n",
        "\n",
        "Na notação matricial,\n",
        "\n",
        "$$\\left(\\begin{array}{ccccc}\n",
        "1 & x_0 & x_0^2 & \\ldots & x_0^n \\\\\n",
        "1 & x_1 & x_1^2 & \\ldots & x_1^n \\\\\n",
        "\\vdots \\\\\n",
        "1 & x_n & x_n^2 & \\ldots & x_n^n\n",
        "\\end{array}\\right)\\left(\\begin{array}{c}\n",
        "a_0\\\\\n",
        "a_1\\\\\n",
        "\\vdots\\\\\n",
        "a_n\n",
        "\\end{array}\\right)=\\left(\\begin{array}{c}\n",
        "y_0\\\\\n",
        "y_1\\\\\n",
        "\\vdots\\\\\n",
        "y_n\n",
        "\\end{array}\\right)$$\n",
        "\n",
        "Para mostrar a existência e unicidade do polinômio interpolador precisamos mostrar que o sistema linear tenha única solução.\n",
        "\n",
        "Vamos considerar $n=1$ então temos o sistema linear:\n",
        "$$\\left(\\begin{array}{cc}\n",
        "1 & x_0 \\\\\n",
        "1 & x_1\n",
        "\\end{array}\\right)\\left(\\begin{array}{c}\n",
        "a_0\\\\\n",
        "a_1\n",
        "\\end{array}\\right)=\\left(\\begin{array}{c}\n",
        "y_0\\\\\n",
        "y_1\n",
        "\\end{array}\\right)$$\n",
        "\n",
        "Como $x_0\\neq x_1$ a matriz possui linhas linearmente independentes  e portanto o determinante é diferente de zero. Logo, a matriz é inversível e o sistema linear possui única solução. De forma análoga, usando o princípio da indução, verificamos para o caso geral, onde obtemos um sistema $(n+1)\\times (n+1)$, já que $x_0\\neq x_1\\neq \\ldots\\neq x_n$.\n",
        "\n",
        "*Exemplo 1:*\n",
        "\n",
        "Dada a tabela de valores da função $f(x)=e^x$. Aproxime (interpole) $f(x)$ em $x=1.32$.\n",
        "\n",
        "$$\\begin{array}{c|ccc}\n",
        "x & 1.3 & 1.4 & 1.5 \\\\\n",
        "\\hline\n",
        "f(x) & 3.669 & 4.055 & 4.482 \\\\\n",
        "\\end{array}$$\n",
        "\n",
        "*Exemplo 2:* Obtenha o polinômio interpolador da tabela e compare com a aproximação via MMQ.\n",
        "\n",
        "$$\\begin{array}{c|ccccc}\n",
        "x_i & 0 & 0.25 & 0.5 & 0.75 & 1\\\\\n",
        "\\hline\n",
        "y_i & 1 & 1.2840 & 1.6487 & 2.1170 & 2.7183 \\\\\n",
        "\\end{array}$$\n",
        "\n"
      ],
      "metadata": {
        "id": "G8I6mAVy70iU"
      }
    },
    {
      "cell_type": "code",
      "source": [],
      "metadata": {
        "id": "0Kuj8E25Ghci"
      },
      "execution_count": null,
      "outputs": []
    },
    {
      "cell_type": "markdown",
      "source": [
        "2. **Forma de Lagrange:**\n",
        "\n",
        "Seja $f$ uma função tabelada em $n+1$ pontos distintos $x_0,x_1,\\ldots,x_n$ e sejam os polinômios de grau $n$:\n",
        "\n",
        "$$L^n_i(x) = \\dfrac{(x-x_0)(x-x_1)\\ldots(x-x_{i-1})(x-x_{i+1})\\ldots(x-x_n)}{(x_i-x_0)(x_i-x_1)\\ldots(x_i-x_{i-1})(x_i-x_{i+1})\\ldots(x_i-x_n)} = \\prod_{j=0,j\\neq i}^n\\dfrac{x -x_j}{x_i-x_j},$$\n",
        "\n",
        "denominados polinômios de Lagrange.\n",
        "\n",
        "Note que, $L^n_i(x_i) = 1$ e $L^n_i(x_j)=0$ para $i\\neq j$.\n",
        "\n",
        "O polinômio interpolador de $f$ em relação aos pontos $(x_i,y_i)$ é dado por,\n",
        "\n",
        "$$p(x)=L_0^n(x)f(x_0) + L_1^n(x)f(x_1) + \\ldots + L_n^n(x)f(x_n)=\\sum_{j=0}^n f(x_j)L_j^n(x)$$\n",
        "\n",
        "A verificação que $p(x)$ é o polinômio interpolador segue diretamente da substituição dos pontos de interpolação. Por exemplo,\n",
        "\n",
        "$$p(x_0) = f(x_0)L_0^n(x_0) + L_1^n(x)f(x_1) + \\ldots + L_n^n(x)f(x_n) = f(x_0),$$\n",
        "pois $L_0^n(x_0) = 1$ e $L_j^n(x_0)=0$, com $j=1,\\ldots, n$.\n",
        "\n",
        "Retornando ao exemplo (1):\n",
        "\n",
        "Aproximar $f(x)=e^x$ em $x=1.32$, dados\n",
        "\n",
        "$$\\begin{array}{c|ccc}\n",
        "x & 1.3 & 1.4 & 1.5 \\\\\n",
        "\\hline\n",
        "f(x) & 3.669 & 4.055 & 4.482 \\\\\n",
        "\\end{array}$$\n",
        "\n",
        "Utilizando os polinômios de Lagrange, temos:\n",
        "\n",
        "$$\\begin{array}{l}\n",
        "L_0^2(x) = \\dfrac{(x-1.4)(x-1.5)}{(1.3-1.4)(1.3-1.5)} = \\dfrac{x^2-2.9x+2.1}{0.02}\\\\\n",
        "L_1^2(x) = \\dfrac{(x-1.3)(x-1.5)}{(1.4-1.3)(1.4-1.5)} = \\dfrac{-x^2+2.8x-1.95}{0.01}\\\\\n",
        "L_2^2(x) = \\dfrac{(x-1.3)(x-1.4)}{(1.5-1.3)(1.5-1.4)} = \\dfrac{x^2-2.7x+1.82}{0.02}\\\\\n",
        "\\end{array}$$\n",
        "\n",
        "Portanto,\n",
        "$$p(x) = 3.669L_0^2(x) + 4.055L_1^2(x) + 4.482L_2^2(x)$$\n",
        "\n",
        "Assim, $p(1.32) = 3.669\\times 0.72 + 4.055\\times 0.36 + 4.482\\times (-0.08) = 3.74292.$\n",
        "\n",
        "**Exercício:**\n",
        "\n",
        "Determine o polinômio que interpola $f(x)=1/x^2$ nos pontos $x_0=2$, $x_1=2.5$ e $x_2=4$. Avalie $f(3)$ e calcule o erro cometido.\n",
        "\n",
        "**Teorema:**\n",
        "\n",
        "Seja $[a,b]$ um intervalo que contém os pontos $x_, x_1,\\ldots, x_n, (x_i\\neq x_j)$ e $f(x)$ uma função com $n+1$ derivadas contínuas em $[a,b]$. O erro do polinômio interpolador de $f$ avaliado em $x\\in [a,b]$ é dado por\n",
        "\n",
        "$$E(x) = f(x) - p(x)  = \\dfrac{f^{(n+1)}(\\alpha)}{(n+1)!}{[(x-x_0)(x-x_1)\\ldots(x-x_n)]},$$\n",
        "com $\\alpha\\in[a,b]$. Apesar de $\\alpha$ não ser determinado, a expressão acima é importante para que possamos fazer uma estimativa do erro cometido. Podemos limitar a derivada de ordem $n+1$ em $[a,b]$ por\n",
        "\n",
        "$$|f^{(n+1)}(\\alpha)|\\le M = \\max_{x\\in[a,b]}|f^{(n+1)}(x)|,$$\n",
        "e assim, obtemos:\n",
        "\n",
        "$$|f(x) - p(x)|  = \\dfrac{M}{(n+1)!}{|(x-x_0)(x-x_1)\\ldots(x-x_n)|}.$$\n",
        "\n",
        "A estimativa de erro, para o exercício anterior, onde $n+1=3$ e $f(x)=1/x^2$ é dada por:\n",
        "\n",
        "$$|f(3)-p(3)|\\le |(3-2)(3-2.5)(3-4)|\\dfrac{0.75}{3!} = 0.0625,$$\n",
        "\n",
        "pois $M = |f^{(3)}(2)| = 0.75$ e $f^{(3)} =-\\dfrac{24}{x^5}.$\n",
        "\n"
      ],
      "metadata": {
        "id": "w4qYF3RJMCNu"
      }
    },
    {
      "cell_type": "markdown",
      "source": [
        "Exemplo 2:\n",
        "\n",
        "Dada a tabela de valores\n",
        "$$\\begin{array}{c|ccccccc}\n",
        "x & 1 & 2 & 3 & 4 & 5 & 6 & 7 & 8\\\\\n",
        "\\hline\n",
        "f(x) & 0.5 & 0.6 & 0.9 & 0.8 & 1.2 & 1.5 & 1.7 & 2\\\\\n",
        "\\end{array}$$\n",
        "\n",
        "Obtenha o polinômio que interpola os dados da tabela."
      ],
      "metadata": {
        "id": "_tjOzcsZHDUK"
      }
    },
    {
      "cell_type": "markdown",
      "source": [
        "**Forma de Newton**\n",
        "\n",
        "A forma de Newton utiliza uma fórmula de recorrência, ou seja, o polinômio de grau $n$ pode ser calculado a partir do polinômio de grau $n-1$. Vamos escrever o polinômio interpolador na forma:\n",
        "\n",
        "$$\n",
        "p_n(x) = c_0 + c_1(x - x_0) + c_2(x-x_0)(x-x_1) + \\ldots + c_n(x-x_0)(x - x_1)\\ldots(x-x_{n-1})\n",
        "$$\n",
        "\n",
        "As constantes $c_0,c_1,\\ldots,c_n$ serão determinadas pelas condições de interpolação $p_n(x_i) = f(x_i)$, com $i=0,1,\\ldots,n$. Fazendo $x = x_0$,  obtemos:\n",
        "\n",
        "$$c_0 = f(x_0)$$\n",
        "\n",
        "Para determinar $c_1$, usaremos $c_0=f(x_0)$ e reorganizamos a expressão acima, obtemos:\n",
        "\n",
        "$$\\dfrac{p_n(x) - f(x_0)}{x - x_0} = c_1 + c_2(x - x_1) + \\ldots + c_n(x-x_1)\\ldots(x - x_{n-1}).$$\n",
        "\n",
        "Fazendo $x = x_1$, obtemos:\n",
        "\n",
        "$$c_1 = \\dfrac{f(x_1) - f(x_0)}{x_1-x_0}.$$\n",
        "\n",
        "A ideia é continuar este processo para obter os demais coeficientes: $c_2,c_3\\ldots,c_n$.\n",
        "\n",
        "$\\bullet$ Definição de Diferenças Divididas:\n",
        "\n",
        "Seja $f[x_0] = f(x_0)$ e por recorrência definimos para qualquer $k$,\n",
        "$f[x_0,x_1,x_k] = \\dfrac{f[x_1,\\ldots,x_k] - f[x_0,\\ldots,x_{k-1}]}{x_k - x_0}$\n",
        "\n",
        "Por exemplo,\n",
        "\n",
        "$f[x_0] = f(x_0), f[x_0,x_1] = \\dfrac{f(x_1)-f(x_0)}{x_1-x_0}$, $f[x_0,x_1,x_2]=\\dfrac{f[x_1,x_2]-f[x_0,x_1]}{x_2-x_0}$\n",
        "\n",
        "\n",
        "$$c_k = f[x_0,x_1,\\ldots,x_k]$$\n",
        "\n",
        "Assim, o polinômio interpolador na forma de Newton é dado por:\n",
        "\n",
        "$$p_n(x) = f[x_0] + f[x_0,x_1](x - x_0) + f[x_0,x_1,x_2](x-x_0)(x-x_1) + \\ldots + f[x_0,x_1,\\ldots,x_n](x-x_0)(x-x_1)\\ldots(x-x_{n-1})$$\n",
        "\n",
        "**Algoritmo - Tabela de Diferenças Divididas**\n",
        "\n",
        "\n",
        "\n",
        "1.   Dados $x_i$ e $f(x_i)$,  $n+1$ pontos.\n",
        "2.   Para $i=0:n$\n",
        "3.   $\\hspace{1pc}$  $d_{i0}=f(x_i)$\n",
        "4.   Para $k = 1:n$\n",
        "5.   $\\hspace{1pc}$ Para $i=0:n-k$\n",
        "6.   $\\hspace{2pc} d_{ik}=\\dfrac{d_{i+1,k-1}-d_{i,k-1}}{x_{i+k}-x_i}$\n",
        "\n",
        "\n",
        "O polinômio é dado por\n",
        "\n",
        "$$p(x) = f[x_0]+f[x_0,x_1](x-x_0)+f[x_0,x_1,x_2](x-x_0)(x-x_1)+\\ldots+f[x_0,x_1,\\ldots,x_{n-1},x_n](x-x_0)(x-x_1)\\ldots(x-x_{n-1}),$$\n",
        "\n",
        "onde $f[x_0]=f(x_0)$ e para qualquer $k$, $$f[x_0,x_1,\\ldots,x_k,x]=\\dfrac{f[x_0,x_1,\\ldots,x_{k-1},x]-f[x_0,x_1,\\ldots,x_k]}{x-x_k}$$\n",
        "\n",
        "\n",
        "\n",
        "\n",
        "\n",
        "**Exemplo (Fenômeno de Runge)**\n",
        "\n",
        "Seja\n",
        "$f(x)=\\dfrac{1}{1+x^2},x\\in(−4,4)$\n",
        "\n",
        "Para $n$ inteiro, $p_n(x)$ é o polinômio interpolador de $f(x)$ nos pontos igualmente espaçados $x_0,x_1,\\ldots,x_n$, dados por $x_i=−4+i⋅h$ e $h=8/n$. Note que aumentarmos o número de pontos o erro aumenta.\n"
      ],
      "metadata": {
        "id": "GUo7zlpo3dRp"
      }
    },
    {
      "cell_type": "code",
      "source": [],
      "metadata": {
        "id": "12JVQOtovr-2"
      },
      "execution_count": null,
      "outputs": []
    },
    {
      "cell_type": "markdown",
      "source": [
        "**Interpolação por linear partes**\n",
        "\n",
        "Uma alternativa eficiente que consiste em dividir o intervalo em subintervalos e construir polinômios interpoladores em cada subintervalo. Na interpolação linear por partes em cada subintervalo temos uma reta. A desvantagem é que a função aproximadora não é derivável.\n",
        "\n",
        "Interpolação linear por partes da função $$f(x)=\\dfrac{1}{1+x^2}, x\\in(-4,4)$$\n",
        "em $n+1$ pontos igualmente espaçados, $x_0,x_1,\\ldots,x_n$, dados por $x_i=-4 + i\\cdot h$ e $h = 8/n$.\n"
      ],
      "metadata": {
        "id": "TFUMz9i_v7Ib"
      }
    },
    {
      "cell_type": "code",
      "source": [],
      "metadata": {
        "id": "1ZhTJvnEwFZM"
      },
      "execution_count": null,
      "outputs": []
    },
    {
      "cell_type": "markdown",
      "source": [
        "**Splines**\n",
        "\n",
        "Uma propriedade importante dos polinômios é que conseguimos calcular integrais e derivadas facilmente. Entretanto na interpolação linear por partes perdemos esta propriedade. A técnica de interpolação via splines consiste em interpolar cada subintervalo e obter junções  entre os interpoladores da forma mais suave possível.\n",
        "\n",
        "As funções *spline*  estão associadas a uma partição de um intervalo $[a,b]$. Uma partição $P$ será definida pelos pontos : $x_0, x_1,\\ldots,x_n$, tais que $P:a=x_0 < x_1 < \\ldots < x_n=b$. Em cada  subintervalo $(x_{i-1},x_i), i=1,2,\\ldots,n$ os splines são polinômios. Para que consigamos as junções mais suaves precisamos impor algumas restrições.\n",
        "\n",
        "*Definição:*  Uma função $s(x)$ é chamada spline de grau $n$, associada a uma partição $P$ de $[a,b]$ se:\n",
        "\n",
        "> (i) $s(x)$ é um polinômio de grau $n$ em cada subintervalo $(x_{i-1},x_i)$ .\n",
        "\n",
        "\n",
        "> (ii) $s(x)$ tem $(n-1)$ derivadas contínuas em cada $x_i$, isto é, $s(x)$ é uma função com $n-1$ derivadas em $(a,b)$.\n",
        "\n",
        "O termo *spline* se refere a um instrumento de desenho, uma régua flexível que fixada em alguns pontos se encurvava na posição de mínima energia. Pode-se mostrar que essa curvatura de mínima energia é um spline cúbico.\n",
        "\n",
        "*O conjunto dos splines de grau n, associado a uma partição forma um espaço vetorial.*\n",
        "\n",
        "**Bases:**\n",
        "\n",
        "Se $\\{\\phi_i(x)\\}|_{i=1}^k$ é uma base para o espaço vetorial de splines então qualquer elemento deste espaço pode ser escrito na forma:\n",
        "\n",
        "$$s(x)=c_1\\phi_1(x)+c_2\\phi_2(x)+\\ldots+c_k\\phi_k(x),$$\n",
        "\n",
        "onde $c_1,c_2,\\ldots,c_k$ são os coeficientes da combinação linear e $k$ e a dimensão do espaço vetorial.\n",
        "\n",
        "A base para os splines lineares é dada por:\n",
        "\n",
        "$$l_i(x)=\\left\\{\\begin{array}{cc}\n",
        "\\dfrac{x-x_{i-1}}{x_i-x_{i-1}}, & \\mbox{ se } x_{i-1}\\le x \\le x_i\\\\ \\\\\n",
        "\\dfrac{x_{i+1}-x}{x_{i+1}-x_{i}}, & \\mbox{ se } x_{i}\\le x \\le x_{i+1}\\\\ \\\\\n",
        "0, & \\mbox{ se } x > x_{i+1} \\mbox{ ou } x < x_{i-1}\n",
        "\\end{array}\\right .$$\n",
        "\n",
        "Na interpolação por partes da função $f(x)$ nos pontos $x_i, i=0,1,2,\\ldots,n$, de uma partição $P$, queremos determinar os coeficientes $a_i$ tais que\n",
        "\n",
        "$$s_1(x) = \\sum_{i=0}^na_il_i(x) \\mbox{ e } s_1(x_j) = f(x_j)=y_j, \\mbox{ com } j=0,1,\\ldots, n.$$\n",
        "\n",
        "Temos que $l_i(x_j) = 0$ se $i\\ne j$ e $l_i(x_i)=1$. Portanto, $$s_1(x) = \\sum_{i=0}^ny_il_i(x).$$"
      ],
      "metadata": {
        "id": "O0JpiZSc7CEa"
      }
    },
    {
      "cell_type": "code",
      "source": [
        "# função base spline linear\n",
        "import scipy as sp\n",
        "import numpy as np\n",
        "import matplotlib.pyplot as plt\n",
        "#from sp.interpolate import LinearSpline\n",
        "\n",
        "def l(x, a, b, c):\n",
        "    y = 0\n",
        "    if x > a and x <= b:\n",
        "        y = (x - a)/(b - a)\n",
        "    if x > b and x < c:\n",
        "        y = (c - x)/(c - b)\n",
        "    return y\n",
        "\n",
        "x = np.arange(10)\n",
        "\n",
        "a = 0.2\n",
        "b = 0.5\n",
        "c = 0.8\n",
        "x = np.linspace(0,1,200)\n",
        "y = np.zeros(len(x))\n",
        "for i in range(len(x)):\n",
        "    y[i] = l(x[i],a,b,c)\n",
        "fig, ax = plt.subplots(figsize=(6.5, 4))\n",
        "ax.plot(x, y, '-', label ='função chapéu')\n",
        "ax.legend(loc='upper left', ncol=2)\n",
        "plt.show()"
      ],
      "metadata": {
        "colab": {
          "base_uri": "https://localhost:8080/",
          "height": 368
        },
        "id": "2SqsnDq3vtgT",
        "outputId": "c7492872-b2cf-4698-ce8a-3225185b44df"
      },
      "execution_count": 2,
      "outputs": [
        {
          "output_type": "display_data",
          "data": {
            "text/plain": [
              "<Figure size 650x400 with 1 Axes>"
            ],
            "image/png": "[encoded data removed]"
          },
          "metadata": {}
        }
      ]
    },
    {
      "cell_type": "markdown",
      "source": [
        "**Spline Cúbico**\n",
        "\n",
        "A base é composta de funções $B_i(x)$ (sinos) com vértice em $x_i$. Em uma partição igualmente espaçada, ou seja, $h=x_i-x_{i-1}$ para todo $i=1,2,\\ldots,n$, temos\n",
        "\n",
        "$$B_i(x)=\\dfrac{1}{h^3}\\left\\{\\begin{array}{ll}\n",
        "(x-x_{i-2})^3, & \\mbox{ se } x_{i-2}\\le x \\le x_{i-1} \\\\\n",
        "h^3+3h^2(x-x_{i-1})+3h(x-x_{i-1})^2-3(x-x_{i-1})^3, & \\mbox{ se } x_{i-1}\\le x \\le x_{i}\\\\\n",
        "h^3+3h^2(x_{i+1}-x)+3h(x_{i+1}-x)^2-3(x_{i+1}-x)^3, & \\mbox{ se } x_i\\le x \\le x_{i+1}\\\\\n",
        "(x_{i+2}-x)^3, &\\mbox{ se } x_{i+1}\\le x \\le x_{i+2} \\\\\n",
        "0, & \\mbox{ se } x > x_{i+2} \\mbox{ ou } x < x_{i-2}\n",
        "\\end{array}\\right .$$\n",
        "No caso da interpolação por splines cúbicos, queremos determinar os coeficientes $a_i$ tais que:\n",
        "\n",
        "$$s_3(x) = \\sum_{i=-1}^{n+1} a_iB_i(x) \\mbox{ e } s_3(x_j)=y_j, j=0,1,\\ldots,n,$$\n",
        "onde $B_i$ é a base de splines cúbicos."
      ],
      "metadata": {
        "id": "UYxA7R92DahC"
      }
    },
    {
      "cell_type": "code",
      "source": [
        "# função base spline cúbica\n",
        "\n",
        "def B(x, a):\n",
        "    y = 0\n",
        "    h = a[1]-a[0]\n",
        "    if x > a[0] and x < a[1]:\n",
        "        y = (x - a[0])**3\n",
        "    if x > a[1] and x < a[2]:\n",
        "        y = h**3+3*h**2*(x-a[1])+3*h*(x-a[1])**2-3*(x-a[1])**3\n",
        "    if x > a[2] and x < a[3]:\n",
        "        y = h**3+3*h**2*(a[3]-x)+3*h*(a[3]-x)**2-3*(a[3]-x)**3\n",
        "    if x > a[3] and x < a[4]:\n",
        "        y = (a[4]-x)**3\n",
        "    return (1/h**3)*y\n",
        "\n",
        "a = [0.2, 0.4, 0.6, 0.8, 1]\n",
        "x = np.linspace(0,1,200)\n",
        "y = np.zeros(len(x))\n",
        "for i in range(len(x)):\n",
        "    y[i] = B(x[i],a)\n",
        "fig, ax = plt.subplots(figsize=(6.5, 4))\n",
        "ax.plot(x, y, '-', label ='função sino')\n",
        "ax.legend(loc='upper left', ncol=2)\n",
        "plt.show()"
      ],
      "metadata": {
        "colab": {
          "base_uri": "https://localhost:8080/",
          "height": 368
        },
        "id": "D7qI8B39wHtr",
        "outputId": "b750f9d6-16e3-48ac-c707-8fe773bcc4bc"
      },
      "execution_count": 3,
      "outputs": [
        {
          "output_type": "display_data",
          "data": {
            "text/plain": [
              "<Figure size 650x400 with 1 Axes>"
            ],
            "image/png": "[encoded data removed]"
          },
          "metadata": {}
        }
      ]
    },
    {
      "cell_type": "code",
      "source": [],
      "metadata": {
        "id": "9yRi2v8xwsBN"
      },
      "execution_count": null,
      "outputs": []
    }
  ]
}