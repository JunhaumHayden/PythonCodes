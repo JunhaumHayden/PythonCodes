{
  "nbformat": 4,
  "nbformat_minor": 0,
  "metadata": {
    "colab": {
      "provenance": [],
      "include_colab_link": true
    },
    "kernelspec": {
      "name": "python3",
      "display_name": "Python 3"
    },
    "language_info": {
      "name": "python"
    }
  },
  "cells": [
    {
      "cell_type": "markdown",
      "metadata": {
        "id": "view-in-github",
        "colab_type": "text"
      },
      "source": [
        "<a href=\"https://colab.research.google.com/github/pccalegari/exemplos-CN/blob/main/Unidade1_Erros_parte2.ipynb\" target=\"_parent\"><img src=\"https://colab.research.google.com/assets/colab-badge.svg\" alt=\"Open In Colab\"/></a>"
      ]
    },
    {
      "cell_type": "markdown",
      "source": [
        "# Erros - Primeira aula prática\n",
        "\n",
        "Na aula anterior, descrevemos diversos tipos de erros que podem estar inseridos em uma resolução de problema que envolve uma metodologia numérica.\n",
        "\n",
        "**Exemplo 1.** Vamos analisar os efeitos dos erros de arredondamento ao utilizarmos duas metodologias para aproximar as raízes de $ax^2-bx+c=0$, onde $a$ e $b$ são positivos. Considere $a=1$, $b=100.23$ e $c=1.2371$ e utilize 5 algarismos significativos para aproximar as raízes usando as expressões:\n",
        "\n",
        "$$x_1 = \\dfrac{b+\\sqrt{b^2-4ac}}{2a} \\ \\mbox{ e }\\ x_2 = \\dfrac{b-\\sqrt{b^2-4ac}}{2a}$$\n",
        "\n",
        "Compare a aproximação de $x_2$ com a aproximação fornecida pela propriedade $x_1x_2=c/a$ e com as raízes exatas: $x_1=100.2176558678$ e $x_2=0.0123441323$ (calculadas com mais algarismos significativos).\n",
        "\n",
        "*Resolvido e discutido em aula*.\n",
        "\n",
        "----------------------------------------------------------------------------\n",
        "\n",
        "A partir de agora vamos relembrar o conceito de algoritmo e resolver alguns exercícios.\n",
        "\n",
        "**Algoritmo:** pode ser entendido como um procedimento que descreve, sem ambiguidade, uma sequência de passos a ser executada, na resolução de um problema.\n",
        "\n",
        "A  seguir é apresentado um algoritmo que apresenta a precisão de uma máquina, o que depende da quantidade de *bits* utilizada para representar os números reais.\n",
        "\n",
        "**Exemplo 2.** Precisão da máquina.\n",
        "\n",
        "```\n",
        "1.  p = 1\n",
        "2.  c = 1\n",
        "3.  enquanto (c > 0) faça:\n",
        "4.     p = p/2\n",
        "5.     se (1 + p > 1) então:\n",
        "6.        c = c + 1\n",
        "7.     caso contrário\n",
        "8.        c = 0\n",
        "9.     fim se\n",
        "10. fim enquanto\n",
        "11. escreva p\n",
        "```\n",
        "\n",
        "Para ver a diferença entre a variável simples (*float* na linguagem C) e a variável com precisão dupla (*double* na linguagem C), vamos utilizar o módulo *numpy*. Este módulo necessita de instalação (mais detalhes veja [numpy](https://numpy.org/)) e para utilizá-lo:\n",
        "\n",
        "\n",
        "```\n",
        "import numpy as np\n",
        "```\n",
        "\n",
        "Para utilizar a precisão simples vamos usar ``` np.float32() ``` em cada variável real.\n",
        "\n"
      ],
      "metadata": {
        "id": "POitPBohFA1x"
      }
    },
    {
      "cell_type": "code",
      "execution_count": null,
      "metadata": {
        "id": "UuAjwN1AE8b1"
      },
      "outputs": [],
      "source": []
    },
    {
      "cell_type": "markdown",
      "source": [
        "\n",
        "**Exemplo 3.** Erros de Truncamento\n",
        "\n",
        "Dado $x$, calcular uma aproximação para $e^x$ usando a série de Taylor truncada, com $x_0=0$.\n",
        "\n",
        "$$e^x \\approx 1 + \\sum_{i=1}^{N}\\dfrac{x^i}{i!}=1 + x + \\dfrac{x^2}{2!} + \\dfrac{x^3}{3!}+\\ldots+\\dfrac{x^N}{N!}$$\n",
        "\n",
        "Avalie o erro cometido, com diferentes valores de $N$.\n",
        "\n",
        "*Nota*. A série de Taylor de $f(x)$, com $x = x_0+h$, é dada por\n",
        "\n",
        "$$f(x)=f(x_0)+f'(x_0)h + \\dfrac{f^{''}(x_0)h^2}{2!} + \\dfrac{f^{'''}(x_0)h^3}{3!}+\\ldots$$\n",
        "\n",
        "\n",
        "\n"
      ],
      "metadata": {
        "id": "dqkjUhVb34NO"
      }
    },
    {
      "cell_type": "code",
      "source": [],
      "metadata": {
        "id": "S06LAgcHJshq"
      },
      "execution_count": null,
      "outputs": []
    },
    {
      "cell_type": "markdown",
      "source": [
        "**Exemplo 4.** Aproximação da derivada.\n",
        "\n",
        "A partir da Série de Taylor, obtemos uma expressão para aproximar a Derivada de uma função. Este método de aproximação se chama **Diferenças Finitas**.\n",
        "\n",
        "$$f(x+h) = f(x) + f^{'}(x)h+\\dfrac{f^{''}(x)h^2}{2}+\\ldots+\\dfrac{f^{(n)}(x)h^n}{n!}+\\ldots = f(x) + f^{'}(x)h+ O(h^2)\\Longrightarrow f'(x) = \\dfrac{f(x+h) - f(x)}{h} + O(h),$$\n",
        "com $h$ suficientemente pequeno. O erro cometido na aproximação da derivada é $O(h)$.\n",
        "\n",
        "*Verificação Numérica*\n",
        "\n",
        "Grande parte dos métodos numéricos possui uma ordem de aproximação do erro que depende de $h$, com $h$ suficientemente pequeno. Por exemplo, a aproximação da derivada, vista anteriormente, na notação assintótica é $O(h)$, ordem de aproximação do método é $1$. Isso significa, que o erro diminui na ordem que $h$ diminui.\n",
        "\n",
        "Suponha que resolvemos um problema com $h$ e que o método utilizado tem ordem de aproximação $p$, ou seja, o erro diminui na ordem que $h^p$ diminui, $O(h^p)$. Repetimos a resolução com $h/2$ e obteremos um erro $O\\left(\\left(\\frac{h}{2}\\right)^p\\right)$ e continuamos esse processo. Ao analisarmos a razão entre dois erros consecutivos, obtemos:\n",
        "\n",
        "$$\\dfrac{E_h}{E_{\\frac{h}{2}}}=\\dfrac{O(h^p)}{O((\\frac{h}{2})^p)}\\approx\\dfrac{h^p}{\\dfrac{h^p}{2^p}}=2^p.$$\n",
        "\n",
        "Assim, numericamente verificamos o erro analisando a sequência de razões entre os erros cometidos. Esta sequência de razões deve convergir para $2^p$, onde $p$ é a ordem de aproximação do método numérico.\n",
        "\n",
        "Escreva um algoritmo para aproximar a derivada e faça a verificação numérica da ordem de aproximação.\n",
        "\n",
        "Vamos verificar a ordem de aproximação para a aproximação da derivada de $f(x)=\\sin(x)$ em $x=0$, começando com $h=0.5$."
      ],
      "metadata": {
        "id": "i588FYD5KBKq"
      }
    },
    {
      "cell_type": "code",
      "source": [],
      "metadata": {
        "id": "VzBBYGQmKEH_"
      },
      "execution_count": null,
      "outputs": []
    },
    {
      "cell_type": "code",
      "source": [],
      "metadata": {
        "id": "E5rxzPZxgjjR"
      },
      "execution_count": null,
      "outputs": []
    },
    {
      "cell_type": "markdown",
      "source": [
        "**Exemplo 5.** Erros.\n",
        "\n",
        "Norma 2: $||v||_2=\\left(\\sum_{i=1}^nv_i^2\\right)^{\\frac{1}{2}}$\n",
        "\n",
        "Norma $\\infty$: $\\displaystyle{||v||_{\\infty}=\\max_{1\\le i\\le n}|v_i|}$\n",
        "\n",
        "Escreva funções que recebam um vetor e calcule a norma $2$ e a norma $\\infty$."
      ],
      "metadata": {
        "id": "10DdCFdQJBQG"
      }
    },
    {
      "cell_type": "code",
      "source": [],
      "metadata": {
        "id": "C56BC4lCKJ3u"
      },
      "execution_count": null,
      "outputs": []
    }
  ]
}