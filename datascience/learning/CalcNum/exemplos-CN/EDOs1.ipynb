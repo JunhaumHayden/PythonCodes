{
  "nbformat": 4,
  "nbformat_minor": 0,
  "metadata": {
    "colab": {
      "provenance": [],
      "authorship_tag": "ABX9TyPIIRtjeuO+I9xJqAB6E7L0",
      "include_colab_link": true
    },
    "kernelspec": {
      "name": "python3",
      "display_name": "Python 3"
    },
    "language_info": {
      "name": "python"
    }
  },
  "cells": [
    {
      "cell_type": "markdown",
      "metadata": {
        "id": "view-in-github",
        "colab_type": "text"
      },
      "source": [
        "<a href=\"https://colab.research.google.com/github/pccalegari/exemplos-CN/blob/main/EDOs1.ipynb\" target=\"_parent\"><img src=\"https://colab.research.google.com/assets/colab-badge.svg\" alt=\"Open In Colab\"/></a>"
      ]
    },
    {
      "cell_type": "markdown",
      "source": [
        "# Métodos Numéricos para a solução de EDOs\n",
        "\n",
        "Nesta unidade, vamos estudar os método de passo único, explícitos e implícitos para aproximar a solução de Equações Diferenciais Ordinárias (EDOs). Além disso, também estudaremos a aplicação destes métodos para a solução de um sistema de EDOs.\n",
        "\n",
        "O Problema de Valor Inicial é dado por,\n",
        "\n",
        "$$\\begin{array}{ll}\n",
        "\\dfrac{dy}{dt} = f(t,y), & t\\in [t_0,t_F]\\\\ \\\\\n",
        "y(t_0) = y_0, & \\\\\n",
        "\\end{array}$$\n",
        "ond $f(t,y)$ é uma função contínua, dada pelo problema e $y_0$ é a condição inicial.\n",
        "\n",
        "**Método de Euler**\n",
        "\n",
        "Deduzido a partir da expansão da solução em Série de Taylor:\n",
        "\n",
        "$$y(t+\\Delta t) = y(t)+\\Delta t y'(t) + \\Delta t^2 y''(t) + O(\\Delta t^3)$$\n",
        "\n",
        "Assim, após discretizar o intervalo, temos $\\Delta t= (t_F-t_0)/N$ e $t_i=t_0+i\\Delta t$, com $i=0,1,\\ldots, N$ e  $N$ o número de subintervalos de $[t_0,t_F]$. Portanto, a aproximação da solução em $y(t_i)$, pelo **Método de Euler Explícito**, é dada por\n",
        "\n",
        "$$y_{i+1} = y_i + \\Delta t f(t_i, y_i).$$\n",
        "\n",
        "Já a aproximação da solução em $y(t_i)$, pelo **Método de Euler Implícito**, é dada por\n",
        "\n",
        "$$y_{i+1} = y_i + \\Delta t f(t_{i+1}, y_{i+1}).$$"
      ],
      "metadata": {
        "id": "b0_ebxA5V6uq"
      }
    },
    {
      "cell_type": "markdown",
      "source": [
        "**Exercícios**\n",
        "\n",
        "Implemente o método de Euler Implícito e Explícito para os seguintes PVIs:\n",
        "\n",
        "1. $\\dfrac{dy}{dt}=-ty, t\\in [0,1], y(0)=1$. Solução exata: $y(t) = e^{(-t^2)/2}$\n",
        "\n",
        "2. $y'=yx^2-y, x\\in[0,2], y(0)=1$. Solução exata: $y(x)=exp(-x+x^3/3)$\n",
        "\n",
        "3. $$\\begin{array}{lll}\n",
        "\\dfrac{dx}{dt} = -y(t),& x(0) = 0, & t\\in[0,1]\\\\ \\\\\n",
        "\\dfrac{dy}{dt} = x(t),& y(0)=1&\\\\\n",
        "\\end{array}$$"
      ],
      "metadata": {
        "id": "JYo3r-OKYBLz"
      }
    },
    {
      "cell_type": "markdown",
      "source": [
        "**Métodos de Runge-Kutta**\n",
        "\n",
        "Os métodos de Runge-Kutta são métodos de passo único e de alta ordem (erro local de truncamento) baseados em Série de Taylor. De forma geral,\n",
        "\n",
        "$$\\begin{array}{l}\n",
        "y_0=y(t_0), \\\\\n",
        "y_{k+1}= y_k + \\Delta t \\phi(\\Delta t, t, y) \\\\\n",
        "\\end{array}$$\n",
        "\n",
        "\n",
        "\n",
        "*   Runge-Kutta ordem 2:\n",
        "\n",
        "**Ponto Médio**\n",
        "$$\\left\\{\\begin{array}{l}\n",
        "y_0=y(t_0), \\\\\n",
        "y_{k+1}= y_k + \\Delta t f\\left(t_k+\\dfrac{\\Delta t}{2}, y_k+\\dfrac{\\Delta t}{2}f(t_k,y_k)\\right) \\\\\n",
        "\\end{array}\\right .$$\n",
        "\n",
        "**Euler Aprimorado**\n",
        "$$\\left\\{\\begin{array}{l}\n",
        "y_0=y(t_0), \\\\\n",
        "y_{k+1}= y_k + \\Delta t \\left(\\dfrac{k_1+k_2}{2}\\right) \\\\\n",
        "\\end{array}\\right .$$\n",
        "com $\\displaystyle{k_1=f(t_k,y_k)}$ e $\\displaystyle{k_2=f(t_k+\\Delta t, y_k+\\Delta t k_1)}$.\n",
        "\n",
        "*   Runge-Kutta ordem 3:\n",
        "\n",
        "$$\\left\\{\\begin{array}{l}\n",
        "y_0=y(t_0), \\\\\n",
        "y_{k+1}= y_k + \\Delta t \\left(\\dfrac{k_1+4k_2+k_3}{6}\\right) \\\\\n",
        "\\end{array}\\right .$$\n",
        "com $\\displaystyle{k_1=f(t_k,y_k)}$, $\\displaystyle{k_2=f\\left(t_k+\\dfrac{\\Delta t}{2}, y_k+\\dfrac{\\Delta t}{2} k_1\\right)}$ e $\\displaystyle{k_3=f\\left(t_k+\\Delta t, y_k-\\Delta t k_1+2\\Delta tk_2\\right)}$.\n",
        "\n",
        "*   Runge-Kutta ordem 4:\n",
        "\n",
        "\n",
        "$$\\left\\{\\begin{array}{l}\n",
        "y_0=y(t_0), \\\\\n",
        "y_{k+1}= y_k + \\Delta t \\left(\\dfrac{k_1+2k_2+2k_3+k_4}{6}\\right)\\\\\n",
        "\\end{array}\\right .$$\n",
        "com $\\displaystyle{k_1=f(t_k,y_k)}$, $\\displaystyle{k_2=f\\left(t_k+\\dfrac{\\Delta t}{2}, y_k+\\dfrac{\\Delta t}{2} k_1\\right)}$ e $\\displaystyle{k_3=f\\left(t_k+\\dfrac{\\Delta t}{2}, y_k+\\dfrac{\\Delta t}{2}k_2\\right)}$ e $\\displaystyle{k_4=f\\left(t_k+\\Delta t, y_k+\\Delta tk_3\\right)}$.\n",
        "\n"
      ],
      "metadata": {
        "id": "KUGJlYBV17hX"
      }
    }
  ]
}