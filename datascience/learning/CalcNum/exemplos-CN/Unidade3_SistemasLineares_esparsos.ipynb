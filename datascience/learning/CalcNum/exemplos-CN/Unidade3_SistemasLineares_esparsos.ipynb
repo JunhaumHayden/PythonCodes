{
  "nbformat": 4,
  "nbformat_minor": 0,
  "metadata": {
    "colab": {
      "provenance": [],
      "include_colab_link": true
    },
    "kernelspec": {
      "name": "python3",
      "display_name": "Python 3"
    },
    "language_info": {
      "name": "python"
    }
  },
  "cells": [
    {
      "cell_type": "markdown",
      "metadata": {
        "id": "view-in-github",
        "colab_type": "text"
      },
      "source": [
        "<a href=\"https://colab.research.google.com/github/pccalegari/exemplos-CN/blob/main/Unidade3_SistemasLineares_esparsos.ipynb\" target=\"_parent\"><img src=\"https://colab.research.google.com/assets/colab-badge.svg\" alt=\"Open In Colab\"/></a>"
      ]
    },
    {
      "cell_type": "markdown",
      "source": [
        "#Unidade 3 - Sistemas de equações lineares\n",
        "\n"
      ],
      "metadata": {
        "id": "Wp-w6nzL41n-"
      }
    },
    {
      "cell_type": "markdown",
      "source": [
        "\n",
        "**Fatoração LU**\n",
        "\n",
        "Com o método de Eliminação de Gauss obtemos a fatoração LU, ou seja, $A = LU$, onde $L$ é uma matriz triangular inferior, que contém os multiplicadores do processo de eliminação e 1s na diagonal e $U$ é a matriz triangular superior.\n",
        "\n",
        "Se forem realizadas trocas de linha durante o processo com pivoteamento parcial, teremos uma matriz $P$, chamada matriz de permutação. Uma matriz identidade com as mesmas trocas de linha realizadas durante o processo.\n",
        "\n",
        "A vantagem do uso da fatoração LU na resolução de sistemas é a redução do custo computacional. A solução do sistema $Ax = b \\rightarrow LUx = b$, implica na resolução de dois sistemas triangulares: $Ly=b$ e $Ux = y$.\n",
        "\n",
        "A fatoração LU possui o mesmo custo computacional que o método de Eliminação de Gauss, $O(n^3/3)$. Já a resolução de dois sistemas triangulares custa $O(2n^2)$ operações.\n",
        "\n",
        "Assim, uma vez fatorada a matriz $A$ o custo computacional de se resolver o sistema linear é reduzido. Por exemplo, com o método de eliminação de Gauss, um sistema com $N=10$ equações e incógnitas tem um custo computacional de aproximadamente $333$ operações. A resolução de um segundo sistema de equações que possui a mesma matriz de coeficientes terá um custo resduzido. Como já conhecemos a fatoração LU, teremos um custo computacional de aproximadamente $200$ operações, $60$% do custo da eliminação de Gauss. Uma redução de $40$%.\n",
        "Se $N=100$ o custo da eliminação de Gauss é aproximadamente $3.3\\times 10^5$ e o custo da resolução de dois sistemas triangulares, $2\\times 10^4$, aproximadamente, $0.6$% do custo da eliminação de Gauss.\n",
        "\n"
      ],
      "metadata": {
        "id": "Zju2UHiGBUTK"
      }
    },
    {
      "cell_type": "markdown",
      "source": [
        "**Matrizes esparsas**\n",
        "\n",
        "Uma matriz é chamada esparsa quando a quantidade de elementos não nulos é pequena quando comparada com a quantidade total de elementos da matriz.\n",
        "\n",
        "*Exemplo 1:*\n",
        "\n",
        "$\\displaystyle{A=\\left (\\begin{array}{ccccccc}\n",
        "1 & 2 & 0 & 0 & -1 & 0 & 0 \\\\\n",
        "0 & 1 & 3 & 0 & 0 & 0 & 0 \\\\\n",
        "-2 & 0 & 2 & 0 & 0 & 0 & 0 \\\\\n",
        "0 & 0 & 0 & 2 & -1 & 0 & 5 \\\\\n",
        "0 & 1 & 0 & 0 & 4 & 0 & 0 \\\\\n",
        "0 & 0 & 0 & 7 & 0 & -1 & 0 \\\\\n",
        "0 & 0 & 0 & 0 & 0 & 1 & 2\n",
        "\\end{array}\\right )}$ possui 16 elementos não nulos e 49 elementos.\n",
        "\n",
        "Se além de esparsa, os elementos não nulos se concentrarem em torno da diagonal, a matriz é chamada de matriz banda.\n",
        "\n",
        "*Exemplo 2:*\n",
        "\n",
        "A matrizes tridiagonais e as matrizes pentadiagonais, como\n",
        "$\\displaystyle{B=\\left (\\begin{array}{ccccccc}\n",
        "1 & 2 & -1 & 0 & 0 & 0 & 0 \\\\\n",
        "2 & 1 & 2 & -1 & 0 & 0 & 0 \\\\\n",
        "-1 & 2 & 1 & 2 & -1 & 0 & 0 \\\\\n",
        "0 & -1 & 2 & 1 & 2 & -1 & 0 \\\\\n",
        "0 & 0 & -1 & 2 & 1 & 2 & -1 \\\\\n",
        "0 & 0 & 0 & -1 & 2 & 1 & 2 \\\\\n",
        "0 & 0 & 0 & 0 & -1 & 2 & 1\n",
        "\\end{array}\\right )}.$\n",
        "\n",
        "**Matrizes tridiagonais**\n",
        "\n",
        "Métodos para sistemas lineares que possuem matrizes esparsas precisam ser implementados de forma que economizem tempo e espaço. Matrizes tridiagonais podem, por exemplo, ser armazenadas em três vetores, um para cada diagonal.\n",
        "\n",
        "$\\displaystyle{A = \\left (\\begin{array}{cccccc}\n",
        "d_1 & c_1 & 0 & 0 & 0 & 0 \\\\\n",
        "a_2 & d_2 & c_2 & 0 & 0 & 0 \\\\\n",
        "0 & a_3 & d_3 & c_3 & 0 & 0  \\\\\n",
        " &  & \\ddots & \\ddots & \\ddots &   \\\\\n",
        " 0 & 0 & 0 & a_{n-1} & d_{n-1} & c_{n-1}\\\\\n",
        " 0 & 0 & 0 & 0 & a_n & d_n\n",
        "\\end{array}\\right )}.$\n",
        "\n",
        "Para resolver um sistema tridiagonal $Ax = b$ vamos usar o seguinte algoritmo:\n",
        "\n",
        "Dados: $a$, $c$ e $d$ vetores que armazenam as três diagonais da matriz e $b$ o lado direito.\n",
        "\n",
        "\n",
        "1. Para $k = 1$ até $n-1$\n",
        "\n",
        "2. $\\ \\ \\ \\ \\ d_{k+1} = d_{k+1} - \\dfrac{a_{k+1}}{d_k}c_k$\n",
        "\n",
        "3. $\\ \\ \\ \\ \\ b_{k+1} = b_{k+1} - \\dfrac{a_{k+1}}{d_k}b_k$\n",
        "\n",
        "4. fim para\n",
        "\n",
        "5. $x_n = \\dfrac{b_n}{d_n}$\n",
        "\n",
        "6. Para $k=n-1$ até $1$\n",
        "\n",
        "7. $\\ \\ \\ \\ \\ x_{k} = \\dfrac{(b_{k+1} - c_k x_{k+1})}{d_k}$\n",
        "\n",
        "8. fim para\n",
        "\n",
        "*Exemplo 3:* Resolva o sitema linear tridiagonal usando o método de Eliminação de Gauss.\n",
        "\n",
        "$$\\left \\{\\begin{array}{ccccccc}\n",
        "2x_1 & - & x_2 & & & & & = & -1\\\\\n",
        "x_1 & + & 3x_2 & - & 2x_3 & & & = & 12\\\\\n",
        " &  & x_2 & - & 4x_3& + & x_4 &  = & 8\\\\\n",
        " &  &  & & x_3 & + & 2x_4  & = & 1 \\\\\n",
        " \\end{array}\\right .$$\n",
        "\n",
        "\n",
        "\n",
        "\n"
      ],
      "metadata": {
        "id": "BdHaJWF0Y0mN"
      }
    },
    {
      "cell_type": "markdown",
      "source": [
        "**Refinamento de solução:**\n",
        "\n",
        "É uma técnica iterativa para melhorar uma solução fornecida pelo método de Eliminação de Gauss.\n",
        "\n",
        "Vamos considerar o problema $Ax = b$ e o erro $e = x - \\hat{x}$, com $\\hat{x}$ uma solução aproximada. Assim, $x = e + \\hat{x}$. Reescrevemos o problema na forma residual:\n",
        "\n",
        "$$Ax = b\\Longrightarrow A(e+\\hat{x}) = b \\Longrightarrow Ae = b - A\\hat{x} = r,$$\n",
        "\n",
        "com $r=b-A\\hat{x}$ chamado resíduo. A ideia consiste em resolver o problema residual e obter uma nova aproximação, dada por $\\hat{\\hat{x}}=\\hat{x}+e$. Imporatante que o cálculo do resíduo (lado direito do problema residual) seja feito com dupla precisão. Assim, temos um processo iterativo para melhorar a solução.\n",
        "\n",
        "Dados: $A$ a matriz de coeficientes do sistema, $b$ o lado direito e $\\hat{x}$ uma solução aproximada.\n",
        "\n",
        "\n",
        "1. $x^{(0)} = \\hat{x}$\n",
        "\n",
        "2. Para $k=0,\\ldots, N$\n",
        "\n",
        "3. $\\ \\ \\ r^{(k)} = b - Ax^{(k)}$ (dupla precisão)\n",
        "\n",
        "3. $\\ \\ $ Resolva o sistema $Ae = r^{(k)}$\n",
        "\n",
        "4. $\\ \\ \\ x^{(k+1)} = x^{(k)} + e$\n",
        "\n",
        "5. fim para\n",
        "\n",
        "$N$ representa um número fixo de iterações. Na prática, outra possibilidade é utilizar um critério de parada baseado no resíduo, $\\|r\\|_{\\infty} = \\max_{1\\le i\\le n}|r_i|.$\n",
        "\n",
        "*Exemplo 4.*  Utilize a técnica de refinamento de solução, conhecendo a fatoração LU de $A$ feita com três algarismos significativos e solução aproximada $\\hat{x} = (1,0.998,1)$.\n",
        "\n",
        "$\\displaystyle{\\left\\{\\begin{array}{ccccccc}\n",
        "x_1 & + & 4x_2 & + & 52x_3 & = & 57\\\\\n",
        "27x_1 & + & 110x_2 & - & 3x_3 & = & 134\\\\\n",
        "22x_1 & + & 2x_2 & + & 14x_3 & = & 38\n",
        "\\end{array}\\right.}$\n",
        "\n",
        "A fatoração LU do sistema linear é:\n",
        "\n"
      ],
      "metadata": {
        "id": "RWURLtov4YkD"
      }
    },
    {
      "cell_type": "markdown",
      "source": [
        "**Referências:**\n",
        "\n",
        "[1] Capítulo 3. Noções de Cálculo Numérico.\n",
        "\n",
        "[2] Capítulo 2. Cálculo Numérico Computacional.\n",
        "\n",
        "[3] Capítulo 3. Cálculo Numérico: Aspectos Teóricos e Computacionais."
      ],
      "metadata": {
        "id": "IfnqEKGZ3mkk"
      }
    }
  ]
}