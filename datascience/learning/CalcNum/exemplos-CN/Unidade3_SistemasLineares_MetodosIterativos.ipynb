{
  "nbformat": 4,
  "nbformat_minor": 0,
  "metadata": {
    "colab": {
      "provenance": [],
      "include_colab_link": true
    },
    "kernelspec": {
      "name": "python3",
      "display_name": "Python 3"
    },
    "language_info": {
      "name": "python"
    }
  },
  "cells": [
    {
      "cell_type": "markdown",
      "metadata": {
        "id": "view-in-github",
        "colab_type": "text"
      },
      "source": [
        "<a href=\"https://colab.research.google.com/github/pccalegari/exemplos-CN/blob/main/Unidade3_SistemasLineares_MetodosIterativos.ipynb\" target=\"_parent\"><img src=\"https://colab.research.google.com/assets/colab-badge.svg\" alt=\"Open In Colab\"/></a>"
      ]
    },
    {
      "cell_type": "markdown",
      "source": [
        "#Unidade 3 - Sistemas de equações lineares - Métodos Iterativos\n",
        "\n",
        "São métodos que a partir de uma aproximação inicial $x^{(0)}$ obtemos uma sequência de aproximações $x^{(k)}$ para a solução do sistema $Ax=b$, num processo cuja convergência depende da matriz de coedicientes do sistema, $A$.\n",
        "\n",
        "**Método de Jacobi**: A partir de uma solução inicial $x^{(0)}$ e supondo $a_{ii}\\neq 0, \\forall i$, o processo iterativo é dados por:\n",
        "\n",
        "$$\\begin{array}{ccc}\n",
        "x_1^{(k+1)} & = & \\dfrac{1}{a_{11}}\\left(b_1-a_{12}x_2^{(k)} - a_{13}x_3^{(k)} - \\ldots - a_{1n}x_n^{(k)}\\right)\\\\\n",
        "x_2^{(k+1)} & = & \\dfrac{1}{a_{22}}\\left(b_2-a_{21}x_1^{(k)} - a_{23}x_3^{(k)} - \\ldots - a_{2n}x_n^{(k)}\\right)\\\\\n",
        "\\vdots & \\vdots & \\vdots \\\\\n",
        "x_n^{(k+1)} & = & \\dfrac{1}{a_{nn}}\\left(b_n-a_{n1}x_1^{(k)} - a_{n2}x_2^{(k)} - \\ldots - a_{nn-1}x_{n-1}^{(k)}\\right)\\\\\n",
        "\\end{array}$$\n",
        "\n",
        "*Exemplo 1.*\n",
        "\n",
        "Resolva o sistema linear, fazendo duas iterações do método de Jacobi e partindo de $x^{(0)}=(0,0,0,0)$. A solução exata é $x=(1,2,-1,1)$.\n",
        "\n",
        "$$\\left\\{\\begin{array}{cccccccccc}\n",
        "10x_1 & - & x_2 & + & 2x_3 & &  & = & 6\\\\\n",
        "-x_1 & + & 11x_2 & - & x_3 & + & 3x_4 & = & 25\\\\\n",
        "2x_1 & -  & x_2 & + & 10x_3 & - & x_4 & = & -11\\\\\n",
        "& & 3x_2 & - & x_3 & + & 8x_4 & = & 15\n",
        "\\end{array}\\right .$$\n",
        "\n",
        "Dados $A$, $b$ e $x⁰$\n",
        "1. $\\mbox{resmax} = 1$\n",
        "2. $\\mbox{tol} = 10^{-6}$\n",
        "3. $\\mbox{it} = 1$\n",
        "4. $\\mbox{itmax} = 1000$\n",
        "5. Enquanto( $\\mbox{resmax} > \\mbox{tol} \\mbox{ e } \\mbox{it} < \\mbox{itmax}$ ):\n",
        "6. $\\ \\ \\ \\mbox{ Para } i = 1\\mbox{ até } n$:\n",
        "7. $\\displaystyle{\\ \\ \\ \\ \\ \\ x_i = (b_i - \\sum_{j=1,j\\neq i}^na_{ij}x_j^0)/a_{ii}}$\n",
        "8. $\\ \\ \\ \\ x^0 = x$\n",
        "9. $\\ \\ \\ \\ \\mbox{resmax} = \\|b - Ax\\|_{\\infty}$\n",
        "10.$\\ \\ \\ \\ \\mbox{it} = \\mbox{it} + 1$\n",
        "\n",
        "\n",
        "**Método de Gauss-Seidel**:\n",
        "\n",
        " partir de uma solução inicial $x^{(0)}$ e supondo $a_{ii}\\neq 0, \\forall i$, o processo iterativo é dados por:\n",
        "\n",
        " $$\\begin{array}{ccc}\n",
        "x_1^{(k+1)} & = & \\dfrac{1}{a_{11}}\\left(b_1-a_{12}x_2^{(k)} - a_{13}x_3^{(k)} - \\ldots - a_{1n}x_n^{(k)}\\right)\\\\\n",
        "x_2^{(k+1)} & = & \\dfrac{1}{a_{22}}\\left(b_2-a_{21}x_1^{(k+1)} - a_{23}x_3^{(k)} - \\ldots - a_{2n}x_n^{(k)}\\right)\\\\\n",
        "\\vdots & \\vdots & \\vdots \\\\\n",
        "x_n^{(k+1)} & = & \\dfrac{1}{a_{nn}}\\left(b_n-a_{n1}x_1^{(k+1)} - a_{n2}x_2^{(k+1)} - \\ldots - a_{nn-1}x_{n-1}^{(k+1)}\\right)\\\\\n",
        "\\end{array}$$\n",
        "\n",
        "Note que:\n",
        "*   As componentes da solução atualizada já são utilizadas no cálculo da próxima componente.\n",
        "*   Em geral, o método de Gauss-Seidel converge mais rápido.\n",
        "*   O método de Jacobi apresenta vantagem quando se trata de programação paralela.\n",
        "*   O critério de parada para estes métodos iterativos é baseado no resíduo ou na diferença entre duas iterações. Ou seja, $\\|b-Ax^{(k)}\\|_{\\infty}$ ou $\\|x^{(k+1)}-x^{(k)}\\|_{\\infty}$.\n",
        "\n",
        "Dados $A$, $b$ e $x⁰$\n",
        "1. $\\mbox{resmax} = 1$\n",
        "2. $\\mbox{tol} = 10^{-6}$\n",
        "3. $\\mbox{it} = 1$\n",
        "4. $\\mbox{itmax} = 1000$\n",
        "5. Enquanto( $\\mbox{resmax} > \\mbox{tol} \\mbox{ e } \\mbox{it} < \\mbox{itmax}$ ):\n",
        "6. $\\ \\ \\ \\mbox{ Para } i = 1\\mbox{ até } n$:\n",
        "7. $\\displaystyle{\\ \\ \\ \\ \\ \\ x_i = (b_i - \\sum_{j=1}^{i-1}a_{ij}x_j - \\sum_{j=i+1}^na_{ij}x_j^0)/a_{ii}}$\n",
        "8. $\\ \\ \\ \\ x^0 = x$\n",
        "9. $\\ \\ \\ \\ \\mbox{resmax} = \\|b - Ax\\|_{\\infty}$\n",
        "10.$\\ \\ \\ \\ \\mbox{it} = \\mbox{it} + 1$\n",
        "\n",
        "*Exemplo 2.*\n",
        "\n",
        "Resolva o sistema linear, fazendo duas iterações do método de Gauss-Seidel e partindo de $x^{(0)}=(0,0,0,0)$. A solução exata é $x=(1,2,-1,1)$.\n",
        "\n",
        "$$\\left\\{\\begin{array}{cccccccccc}\n",
        "10x_1 & - & x_2 & + & 2x_3 & &  & = & 6\\\\\n",
        "-x_1 & + & 11x_2 & - & x_3 & + & 3x_4 & = & 25\\\\\n",
        "2x_1 & -  & x_2 & + & 10x_3 & - & x_4 & = & -11\\\\\n",
        "& & 3x_2 & - & x_3 & + & 8x_4 & = & 15\n",
        "\\end{array}\\right .$$\n",
        "\n",
        "\n",
        "\n"
      ],
      "metadata": {
        "id": "Wp-w6nzL41n-"
      }
    }
  ]
}