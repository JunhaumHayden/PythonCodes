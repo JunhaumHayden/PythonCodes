{
  "nbformat": 4,
  "nbformat_minor": 0,
  "metadata": {
    "colab": {
      "provenance": [],
      "include_colab_link": true
    },
    "kernelspec": {
      "name": "python3",
      "display_name": "Python 3"
    },
    "language_info": {
      "name": "python"
    }
  },
  "cells": [
    {
      "cell_type": "markdown",
      "metadata": {
        "id": "view-in-github",
        "colab_type": "text"
      },
      "source": [
        "<a href=\"https://colab.research.google.com/github/pccalegari/exemplos-CN/blob/main/Unidade2_Raizes_parte2.ipynb\" target=\"_parent\"><img src=\"https://colab.research.google.com/assets/colab-badge.svg\" alt=\"Open In Colab\"/></a>"
      ]
    },
    {
      "cell_type": "markdown",
      "source": [
        "# Equações Algébricas\n",
        "\n",
        "Na aula anterior estudamos os métodos da Bissecção e Falsa Posição. Além disso, iniciamos o estudo do Método das Aproximações Sucessivas (ou Método do Ponto Fixo). Vamos começar implementando os métodos já estudados.\n",
        "\n",
        "*Exemplo 1.* Implemente o Método da Bissecção para determinar a raiz positiva da função $f(x)=x^2-2$.\n",
        "\n",
        "Na aula passada, identificamos a raiz positiva isolada no intervalo $[1.3,1.7]$. A seguir, vamos implementar o algoritmo abaixo."
      ],
      "metadata": {
        "id": "POitPBohFA1x"
      }
    },
    {
      "cell_type": "markdown",
      "source": [
        "*Algoritmo: Método da Bissecção*\n",
        "\n",
        "Entrada: $f(x)$, $[a,b]$ e $\\delta$ (tolerância).\n",
        "Saída: $\\alpha$ (aproximação da raiz de $f(x)$).\n",
        "\n",
        "\n",
        "\n",
        "```\n",
        "1.  i = 1, imax = 100\n",
        "2.  x = (a + b)/2\n",
        "3.  enquanto( |b-a|/2 > delta e i < imax) faça:\n",
        "4.     se (f(a)*f(x) > 0) então:\n",
        "5.        a = x\n",
        "6.     caso contrário:\n",
        "7.        b = x\n",
        "8.     x = (b + a)/2\n",
        "9.     i = i + 1\n",
        "10. Escreva x, f(x)       \n",
        "```\n"
      ],
      "metadata": {
        "id": "yE8A3XAP1VPJ"
      }
    },
    {
      "cell_type": "code",
      "source": [],
      "metadata": {
        "id": "Nfr5S-I3PHpd"
      },
      "execution_count": null,
      "outputs": []
    },
    {
      "cell_type": "markdown",
      "source": [
        "**Exercício 1.** Utilize o método da Bissecção para aproximar a raiz de $f(x)=x\\ln(x)-3.2$ no intervalo $[2,3]$.\n",
        "\n",
        "*Exemplo 2.* Implemente o Método da Falsa Posição resolver o *Exemplo 1*.\n",
        "\n",
        "*Algoritmo: Método da Falsa Posição.*\n",
        "\n",
        "Entrada: $f(x)$, $[a,b]$ e $\\delta$ (tolerância).\n",
        "Saída: $\\alpha$ (aproximação da raiz de $f(x)$).\n",
        "\n",
        "```\n",
        "1.  i = 1, imax = 100\n",
        "2.  x = (a*f(b) - b*f(a))/(f(b) - f(a))\n",
        "3.  enquanto( |f(x)| > delta e i < imax) faça:\n",
        "4.     se (f(a)*f(x) > 0) então:\n",
        "5.        a = x\n",
        "6.     caso contrário:\n",
        "7.        b = x\n",
        "8.     x = (a*f(b) - b*f(a))/(f(b) - f(a))\n",
        "9.     i = i + 1\n",
        "10. Escreva x, f(x)       \n",
        "```\n",
        "\n",
        "**Exercício 2.** Compare os métodos implementados."
      ],
      "metadata": {
        "id": "7dK18Ycx6RH8"
      }
    },
    {
      "cell_type": "code",
      "source": [],
      "metadata": {
        "id": "hGnDj91ZQAR4"
      },
      "execution_count": null,
      "outputs": []
    },
    {
      "cell_type": "markdown",
      "source": [
        "**Método das Aproximações Sucessivas (Ponto Fixo):**\n",
        "\n",
        "Na aula passada, discutimos algumas formas de se obter a função de iteração $\\phi(x)$. Vamos implementar algumas delas e verificar o que acontece.\n",
        "\n",
        "*Exemplo 3.* A função quadrática $f(x)=x^2+0.96x-2.08=0$ possui duas raízes, uma positiva e outra negativa.\n",
        "\n",
        "(a) Implemente pelo menos duas funções de Ponto Fixo e analise a convergência da sequência gerada.\n",
        "\n",
        "\n",
        "\n"
      ],
      "metadata": {
        "id": "dqkjUhVb34NO"
      }
    },
    {
      "cell_type": "code",
      "source": [],
      "metadata": {
        "id": "rFhPp2uHmpX8"
      },
      "execution_count": null,
      "outputs": []
    },
    {
      "cell_type": "markdown",
      "source": [
        "**Teorema do Ponto Fixo**\n",
        "\n",
        "Seja $\\alpha$ a raiz de uma função $f(x)$, isolada em um intervalo $I$ e $\\phi(x)$ uma função tal que $\\alpha=\\phi(\\alpha)$. Se:\n",
        "1. $\\phi$ e $\\phi'$ são contínuas em $I$;\n",
        "2. $k=\\max_{x\\in I}|\\phi'(x)|< 1$; e,\n",
        "3. $x_0\\in I$ e $x_n=\\phi(x_{n-1})\\in I$, $n=1,2,3,\\ldots,$\n",
        "então a sequência $x_n$ converge para $\\alpha$.\n",
        "\n",
        "*Demonstração*: Veja a demonstração em [2].\n",
        "\n",
        "*Exemplo 3.* Considere $f(x)=x^2+0.96x-2.08=0$. Verifique as condições do Teorema do Ponto Fixo para as funções $\\phi_1(x)=2.08/(x+0.96)$ e $\\phi_2(x)=(2.08-x^2)/0.96$."
      ],
      "metadata": {
        "id": "HTfEt7c2nKLw"
      }
    },
    {
      "cell_type": "markdown",
      "source": [
        "*Exemplo 4.* Determinar uma aproximação para a raiz da função $f(x)=2x-\\cos(x)$, no intervalo $[0,\\pi/2]$, usando o método das Aproximações Sucessivas.\n"
      ],
      "metadata": {
        "id": "WbwbJGxnmp1O"
      }
    },
    {
      "cell_type": "code",
      "source": [],
      "metadata": {
        "id": "JU9K3kMCmtAz"
      },
      "execution_count": null,
      "outputs": []
    },
    {
      "cell_type": "markdown",
      "source": [
        "**Referências**\n",
        "\n",
        "[1] Burden e Faires. Numerical Analysis. Brook/Cole, 9th edition, 2011.\n",
        "\n",
        "[2] Flora, et al. Noções de Cálculo Numérico."
      ],
      "metadata": {
        "id": "0wHnWedroV_A"
      }
    }
  ]
}