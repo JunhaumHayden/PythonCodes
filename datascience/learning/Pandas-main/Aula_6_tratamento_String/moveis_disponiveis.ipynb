{
 "cells": [
  {
   "metadata": {
    "ExecuteTime": {
     "end_time": "2025-07-20T22:45:31.059124Z",
     "start_time": "2025-07-20T22:45:30.937889Z"
    }
   },
   "cell_type": "code",
   "source": "import pandas as pd",
   "id": "1ca12a4f13bd7414",
   "outputs": [],
   "execution_count": 1
  },
  {
   "cell_type": "code",
   "id": "initial_id",
   "metadata": {
    "collapsed": true,
    "ExecuteTime": {
     "end_time": "2025-07-20T22:46:24.020667Z",
     "start_time": "2025-07-20T22:46:23.531017Z"
    }
   },
   "source": [
    "dt_data = pd.read_json('../../dataset/moveis_disponiveis.json')\n",
    "dt_data.head()"
   ],
   "outputs": [
    {
     "data": {
      "text/plain": [
       "    id        data  vaga_disponivel preco\n",
       "0  857  2016-01-04            False  None\n",
       "1  857  2016-01-05            False  None\n",
       "2  857  2016-01-06            False  None\n",
       "3  857  2016-01-07            False  None\n",
       "4  857  2016-01-08            False  None"
      ],
      "text/html": [
       "<div>\n",
       "<style scoped>\n",
       "    .dataframe tbody tr th:only-of-type {\n",
       "        vertical-align: middle;\n",
       "    }\n",
       "\n",
       "    .dataframe tbody tr th {\n",
       "        vertical-align: top;\n",
       "    }\n",
       "\n",
       "    .dataframe thead th {\n",
       "        text-align: right;\n",
       "    }\n",
       "</style>\n",
       "<table border=\"1\" class=\"dataframe\">\n",
       "  <thead>\n",
       "    <tr style=\"text-align: right;\">\n",
       "      <th></th>\n",
       "      <th>id</th>\n",
       "      <th>data</th>\n",
       "      <th>vaga_disponivel</th>\n",
       "      <th>preco</th>\n",
       "    </tr>\n",
       "  </thead>\n",
       "  <tbody>\n",
       "    <tr>\n",
       "      <th>0</th>\n",
       "      <td>857</td>\n",
       "      <td>2016-01-04</td>\n",
       "      <td>False</td>\n",
       "      <td>None</td>\n",
       "    </tr>\n",
       "    <tr>\n",
       "      <th>1</th>\n",
       "      <td>857</td>\n",
       "      <td>2016-01-05</td>\n",
       "      <td>False</td>\n",
       "      <td>None</td>\n",
       "    </tr>\n",
       "    <tr>\n",
       "      <th>2</th>\n",
       "      <td>857</td>\n",
       "      <td>2016-01-06</td>\n",
       "      <td>False</td>\n",
       "      <td>None</td>\n",
       "    </tr>\n",
       "    <tr>\n",
       "      <th>3</th>\n",
       "      <td>857</td>\n",
       "      <td>2016-01-07</td>\n",
       "      <td>False</td>\n",
       "      <td>None</td>\n",
       "    </tr>\n",
       "    <tr>\n",
       "      <th>4</th>\n",
       "      <td>857</td>\n",
       "      <td>2016-01-08</td>\n",
       "      <td>False</td>\n",
       "      <td>None</td>\n",
       "    </tr>\n",
       "  </tbody>\n",
       "</table>\n",
       "</div>"
      ]
     },
     "execution_count": 4,
     "metadata": {},
     "output_type": "execute_result"
    }
   ],
   "execution_count": 4
  },
  {
   "metadata": {
    "ExecuteTime": {
     "end_time": "2025-07-20T22:49:38.767935Z",
     "start_time": "2025-07-20T22:49:38.751229Z"
    }
   },
   "cell_type": "code",
   "source": [
    "# Inspecionando o DataFrame\n",
    "dt_data.info()"
   ],
   "id": "c3ce01a2aac585fd",
   "outputs": [
    {
     "name": "stdout",
     "output_type": "stream",
     "text": [
      "<class 'pandas.core.frame.DataFrame'>\n",
      "Index: 365000 entries, 0 to 364999\n",
      "Data columns (total 4 columns):\n",
      " #   Column           Non-Null Count   Dtype \n",
      "---  ------           --------------   ----- \n",
      " 0   id               365000 non-null  int64 \n",
      " 1   data             365000 non-null  object\n",
      " 2   vaga_disponivel  365000 non-null  bool  \n",
      " 3   preco            270547 non-null  object\n",
      "dtypes: bool(1), int64(1), object(2)\n",
      "memory usage: 11.5+ MB\n"
     ]
    }
   ],
   "execution_count": 5
  },
  {
   "metadata": {
    "ExecuteTime": {
     "end_time": "2025-07-20T22:50:43.606498Z",
     "start_time": "2025-07-20T22:50:43.581354Z"
    }
   },
   "cell_type": "code",
   "source": [
    "# Temos interesse em analisar a coluna 'data' como datetime\n",
    "pd.to_datetime(dt_data['data'])"
   ],
   "id": "a04439044ccd50f",
   "outputs": [
    {
     "data": {
      "text/plain": [
       "0        2016-01-04\n",
       "1        2016-01-05\n",
       "2        2016-01-06\n",
       "3        2016-01-07\n",
       "4        2016-01-08\n",
       "            ...    \n",
       "364995   2016-12-29\n",
       "364996   2016-12-30\n",
       "364997   2016-12-31\n",
       "364998   2017-01-01\n",
       "364999   2017-01-02\n",
       "Name: data, Length: 365000, dtype: datetime64[ns]"
      ]
     },
     "execution_count": 6,
     "metadata": {},
     "output_type": "execute_result"
    }
   ],
   "execution_count": 6
  },
  {
   "metadata": {
    "ExecuteTime": {
     "end_time": "2025-07-20T22:51:31.460052Z",
     "start_time": "2025-07-20T22:51:31.437099Z"
    }
   },
   "cell_type": "code",
   "source": [
    "dt_data['data'] = pd.to_datetime(dt_data['data'])\n",
    "dt_data.head().info()"
   ],
   "id": "8f0232cf9533556b",
   "outputs": [
    {
     "name": "stdout",
     "output_type": "stream",
     "text": [
      "<class 'pandas.core.frame.DataFrame'>\n",
      "Index: 5 entries, 0 to 4\n",
      "Data columns (total 4 columns):\n",
      " #   Column           Non-Null Count  Dtype         \n",
      "---  ------           --------------  -----         \n",
      " 0   id               5 non-null      int64         \n",
      " 1   data             5 non-null      datetime64[ns]\n",
      " 2   vaga_disponivel  5 non-null      bool          \n",
      " 3   preco            0 non-null      object        \n",
      "dtypes: bool(1), datetime64[ns](1), int64(1), object(1)\n",
      "memory usage: 165.0+ bytes\n"
     ]
    }
   ],
   "execution_count": 7
  },
  {
   "metadata": {},
   "cell_type": "code",
   "outputs": [],
   "execution_count": null,
   "source": "",
   "id": "fda13c50295d2973"
  }
 ],
 "metadata": {
  "kernelspec": {
   "display_name": "Python 3",
   "language": "python",
   "name": "python3"
  },
  "language_info": {
   "codemirror_mode": {
    "name": "ipython",
    "version": 2
   },
   "file_extension": ".py",
   "mimetype": "text/x-python",
   "name": "python",
   "nbconvert_exporter": "python",
   "pygments_lexer": "ipython2",
   "version": "2.7.6"
  }
 },
 "nbformat": 4,
 "nbformat_minor": 5
}
