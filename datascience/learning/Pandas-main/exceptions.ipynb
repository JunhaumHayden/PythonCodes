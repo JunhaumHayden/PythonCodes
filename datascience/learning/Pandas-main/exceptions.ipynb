{
 "cells": [
  {
   "cell_type": "code",
   "id": "initial_id",
   "metadata": {
    "collapsed": true,
    "ExecuteTime": {
     "end_time": "2025-08-17T17:14:40.329736Z",
     "start_time": "2025-08-17T17:14:40.326848Z"
    }
   },
   "source": [
    "lista1 = [1,2,3,4,5]\n",
    "lista2 = [6]\n",
    "erros = 0\n",
    "try:\n",
    "    for _ in range(len(lista1)):\n",
    "        lista2.append(2)\n",
    "        print(lista2)\n",
    "        try:\n",
    "            if len(lista1) == len(lista2):\n",
    "                dados = [(lista1[i], lista2[i], lista1[i]+lista2[i]) for i in range(len(lista1))]\n",
    "\n",
    "            else:\n",
    "                raise IndexError('A quantidade de elementos em cada lista é diferente.')\n",
    "            print(\"nao entrou\")\n",
    "        except Exception as e:\n",
    "                # Aqui tratamos erro por registro, mas continuamos o loop\n",
    "                erros += 1\n",
    "                print(f\"⚠️ Erro ao processar: {e}\")\n",
    "                # Dependendo da política: relançar aqui se não puder ignorar\n",
    "                # raise\n",
    "except Exception as e:\n",
    "    print(type(e), f'Erro: {e}')\n",
    "else:\n",
    "    print(dados)\n"
   ],
   "outputs": [
    {
     "name": "stdout",
     "output_type": "stream",
     "text": [
      "[6, 2]\n",
      "⚠️ Erro ao processar: A quantidade de elementos em cada lista é diferente.\n",
      "[6, 2, 2]\n",
      "⚠️ Erro ao processar: A quantidade de elementos em cada lista é diferente.\n",
      "[6, 2, 2, 2]\n",
      "⚠️ Erro ao processar: A quantidade de elementos em cada lista é diferente.\n",
      "[6, 2, 2, 2, 2]\n",
      "nao entrou\n",
      "[6, 2, 2, 2, 2, 2]\n",
      "⚠️ Erro ao processar: A quantidade de elementos em cada lista é diferente.\n",
      "[(1, 6, 7), (2, 2, 4), (3, 2, 5), (4, 2, 6), (5, 2, 7)]\n"
     ]
    }
   ],
   "execution_count": 24
  },
  {
   "metadata": {},
   "cell_type": "markdown",
   "source": [
    "1. Faça um programa que solicite à pessoa usuária digitar dois números float e calcular a divisão entre esses números. O código deve conter um tratamento de erro, indicando o tipo de erro que foi gerado caso a divisão não seja possível de realizar.\n",
    "\n",
    "Teste o programa com o segundo valor numérico do input igual a 0. Também teste utilizando caracteres textuais no input para checar os tipos de erro que ocorrem."
   ],
   "id": "3b37cf082200435c"
  },
  {
   "metadata": {
    "ExecuteTime": {
     "end_time": "2025-08-17T15:39:25.387509Z",
     "start_time": "2025-08-17T15:39:20.432833Z"
    }
   },
   "cell_type": "code",
   "source": [
    "try:\n",
    "    numero_1 = float(input())\n",
    "    numero_2 = float(input())\n",
    "    divisao = numero_1 / numero_2\n",
    "except Exception as e:\n",
    "    print(type(e), f'Erro: {e}')\n"
   ],
   "id": "4d0372f91ba15b4e",
   "outputs": [],
   "execution_count": 6
  },
  {
   "metadata": {},
   "cell_type": "markdown",
   "source": [
    "2. Faça um programa que solicite à pessoa usuária digitar um texto que será uma chave a ser pesquisada no seguinte dicionário: idades = {'Júlia': 16, 'Carol': 23, 'Alberto': 19, 'Roberta': 17}, armazenando o resultado do valor em uma variável. O código deve conter um tratamento de erro KeyError, imprimindo a informação 'Nome não encontrado', caso ocorra o erro; e imprimir o valor caso não ocorra nenhum.\n",
    "\n",
    "Teste o programa com um nome presente em uma das chaves do dicionário e com um que não esteja no dicionário para verificar a mensagem de erro."
   ],
   "id": "2628f3ecf20a35a4"
  },
  {
   "metadata": {
    "ExecuteTime": {
     "end_time": "2025-08-17T15:42:49.943244Z",
     "start_time": "2025-08-17T15:42:44.468472Z"
    }
   },
   "cell_type": "code",
   "source": [
    "idades = {'Júlia': 16, 'Carol': 23, 'Alberto': 19, 'Roberta': 17}\n",
    "try:\n",
    "    chave = input()\n",
    "    valor = idades[chave]\n",
    "except KeyError:\n",
    "    print('Nome não encontrado')\n",
    "else:\n",
    "    print(valor)\n"
   ],
   "id": "436e10279436461",
   "outputs": [
    {
     "name": "stdout",
     "output_type": "stream",
     "text": [
      "23\n"
     ]
    }
   ],
   "execution_count": 8
  },
  {
   "metadata": {},
   "cell_type": "markdown",
   "source": "3. Crie uma função que recebe uma lista como parâmetro e converta todos os valores da lista para float. A função deve conter um tratamento de erro indicando o tipo de erro gerado e retornar a lista caso não tenha ocorrido nenhum erro. Por fim, deve ter a cláusula finally para imprimir o texto: 'Fim da execução da função'.",
   "id": "d9b473852af44aae"
  },
  {
   "metadata": {},
   "cell_type": "code",
   "outputs": [],
   "execution_count": null,
   "source": [
    "def converte_lista(lista):\n",
    "    try:\n",
    "        nova_lista = [float(elemento) for elemento in lista]\n",
    "    except Exception as e:\n",
    "        print(type(e), f'Erro: {e}')\n",
    "    else:\n",
    "        return nova_lista\n",
    "    finally:\n",
    "        print('Fim da execução da função')\n"
   ],
   "id": "60f3c02e42508fe6"
  },
  {
   "metadata": {},
   "cell_type": "markdown",
   "source": [
    "4. Crie uma função que recebe duas listas como parâmetros e agrupe os elementos um a um das listas, formando uma lista de tuplas de 3 elementos, no qual o primeiro e segundo elemento da tupla são os valores na posição i das listas e o terceiro elemento é a soma dos valores na posição i das listas.\n",
    "\n",
    "A função deve conter um tratamento de erro indicando o tipo de erro gerado e retornar como resultado a lista de tuplas. Caso as listas enviadas como parâmetro tenham tamanhos diferentes, a função deve retornar um IndexError com a frase: 'A quantidade de elementos em cada lista é diferente.' Dados para testar a função:"
   ],
   "id": "7c3c0c8014462631"
  },
  {
   "metadata": {
    "ExecuteTime": {
     "end_time": "2025-08-17T16:08:53.701870Z",
     "start_time": "2025-08-17T16:08:53.699590Z"
    }
   },
   "cell_type": "code",
   "source": [
    "def soma_listas(lista1, lista2):\n",
    "    try:\n",
    "        if len(lista1) == len(lista2):\n",
    "            dados = [(lista1[i], lista2[i], lista1[i]+lista2[i]) for i in range(len(lista1))]\n",
    "        else:\n",
    "            raise IndexError('A quantidade de elementos em cada lista é diferente.')\n",
    "    except Exception as e:\n",
    "        print(type(e), f'Erro: {e}')\n",
    "    else:\n",
    "        return dados\n",
    "print(soma_listas(lista1, lista2))"
   ],
   "id": "c1da1958ae54e958",
   "outputs": [
    {
     "name": "stdout",
     "output_type": "stream",
     "text": [
      "<class 'IndexError'> Erro: A quantidade de elementos em cada lista é diferente.\n",
      "None\n"
     ]
    }
   ],
   "execution_count": 9
  },
  {
   "metadata": {},
   "cell_type": "markdown",
   "source": [
    "5. Como desafio, você recebeu a tarefa de desenvolver um código que contabiliza as pontuações de estudantes de uma instituição de ensino de acordo com suas respostas num teste. Este código deve ser testado para um exemplo de 3 estudantes com uma lista de listas em que cada lista possui as respostas de 5 questões objetivas de cada estudante. Cada questão vale um ponto e as alternativas possíveis são A, B, C ou D.\n",
    "\n",
    "Caso alguma alternativa em um dos testes não esteja entre as alternativas possíveis, você deve lançar um ValueError com a mensagem \"A alternativa [alternativa] não é uma opção de alternativa válida\". O cálculo das 3 notas só será realizado mediante as entradas com as alternativas A, B, C ou D em todos os testes. Se não for lançada a exceção, será exibida uma lista com as notas em cada teste.\n",
    "\n",
    "Os dados para o teste do código são:"
   ],
   "id": "cd092e26f943fc2f"
  },
  {
   "metadata": {
    "ExecuteTime": {
     "end_time": "2025-08-17T16:10:50.067519Z",
     "start_time": "2025-08-17T16:10:50.065413Z"
    }
   },
   "cell_type": "code",
   "source": [
    "# Gabarito da prova:\n",
    "gabarito = ['D', 'A', 'B', 'C', 'A']\n",
    "# Notas sem exceção:\n",
    "testes_sem_ex = [['D', 'A', 'B', 'C', 'A'], ['C', 'A', 'A', 'C', 'A'], ['D', 'B', 'A', 'C', 'A']]\n",
    "# Notas com exceção:\n",
    "testes_com_ex = [['D', 'A', 'B', 'C', 'A'], ['C', 'A', 'A', 'E', 'A'], ['D', 'B', 'A', 'C', 'A']]\n",
    "\n"
   ],
   "id": "85e2630a779b715e",
   "outputs": [],
   "execution_count": 10
  },
  {
   "metadata": {},
   "cell_type": "markdown",
   "source": "> Dica: Para verificar se uma entrada da lista não está entre as alternativas possíveis, use a estrutura lista[i] not in ['A','B','C','D']. Por exemplo, 1 not in [2,3,4]... Saída: True.",
   "id": "9f35838619ddf771"
  },
  {
   "metadata": {
    "ExecuteTime": {
     "end_time": "2025-08-17T16:10:52.459594Z",
     "start_time": "2025-08-17T16:10:52.457102Z"
    }
   },
   "cell_type": "code",
   "source": [
    "#Função para correção das notas\n",
    "gabarito = ['D', 'A', 'B', 'C', 'A']\n",
    "\n",
    "# Criando a função que recebe a lista de listas com as notas dos estudantes\n",
    "def corretor(testes: list):\n",
    "  pontuacoes = [] # criando a lista que receberá as pontuações caso a exceção não seja lançada\n",
    "  try:\n",
    "    for teste in testes:\n",
    "      nota = 0 # variável que acumula a nota de cada estudante\n",
    "      for i in range(len(teste)):\n",
    "        if teste[i] not in ['A', 'B', 'C', 'D']: # Verificamos se temos uma alternativa valida\n",
    "          raise ValueError(f'A alternativa {teste[i]} não é uma opção de alternativa válida')\n",
    "        elif teste[i] == gabarito[i]: # Verificamos se as respostas são iguais e adicionamos à nota\n",
    "          nota += 1\n",
    "      pontuacoes.append(nota) # adicionamos a nota do(a) estudante na lista de pontuações\n",
    "  except Exception as e:\n",
    "    print(e)\n",
    "  else:\n",
    "    return pontuacoes # retornando a lista de pontuações se não lançarmos a exceção\n"
   ],
   "id": "8488886df459a437",
   "outputs": [],
   "execution_count": 11
  },
  {
   "metadata": {
    "ExecuteTime": {
     "end_time": "2025-08-17T16:10:55.163659Z",
     "start_time": "2025-08-17T16:10:55.160234Z"
    }
   },
   "cell_type": "code",
   "source": [
    "# Testando no exemplo que não lança exceção\n",
    "testes_sem_ex = [['D', 'A', 'B', 'C', 'A'], ['C', 'A', 'A', 'C', 'A'], ['D', 'B', 'A', 'C', 'A']]\n",
    "corretor(testes_sem_ex)\n"
   ],
   "id": "8c66a311e5e9d89a",
   "outputs": [
    {
     "data": {
      "text/plain": [
       "[5, 3, 3]"
      ]
     },
     "execution_count": 12,
     "metadata": {},
     "output_type": "execute_result"
    }
   ],
   "execution_count": 12
  },
  {
   "metadata": {
    "ExecuteTime": {
     "end_time": "2025-08-17T16:10:57.122602Z",
     "start_time": "2025-08-17T16:10:57.120245Z"
    }
   },
   "cell_type": "code",
   "source": [
    "# Testando no exemplo que lança exceção\n",
    "testes_com_ex = [['D', 'A', 'B', 'C', 'A'], ['C', 'A', 'A', 'E', 'A'], ['D', 'B', 'A', 'C', 'A']]\n",
    "corretor(testes_com_ex)\n"
   ],
   "id": "b1effed2250afb4b",
   "outputs": [
    {
     "name": "stdout",
     "output_type": "stream",
     "text": [
      "A alternativa E não é uma opção de alternativa válida\n"
     ]
    }
   ],
   "execution_count": 13
  },
  {
   "metadata": {},
   "cell_type": "markdown",
   "source": "",
   "id": "e23192088655673e"
  },
  {
   "metadata": {},
   "cell_type": "markdown",
   "source": [
    "6. Você está trabalhando com processamento de linguagem natural (NLP) e, dessa vez, sua líder requisitou que você criasse um trecho de código que recebe uma lista com as palavras separadas de uma frase gerada pelo ChatGPT.\n",
    "\n",
    "Você precisa criar uma função que avalia cada palavra desse texto e verificar se o tratamento para retirar os símbolos de pontuação (',' '.', '!' e '?') foi realizado. Caso contrário, será lançada uma exceção do tipo ValueError apontando o 1º caso em que foi detectado o uso de uma pontuação por meio da frase \"O texto apresenta pontuações na palavra \"[palavra]\".\". Essa demanda é voltada para a análise do padrão de frases geradas pela inteligência artificial.\n",
    "\n",
    "> Dica: Para verificar se uma ou mais das pontuações estão presentes em cada palavra, utilize a palavra chave or na condição if. Por exemplo, 'a' in 'alura' or 'b' in 'alura'… Saída: True\n",
    "\n",
    "Os dados para o teste do código são:"
   ],
   "id": "8fe2c8f1cddc14e"
  },
  {
   "metadata": {
    "ExecuteTime": {
     "end_time": "2025-08-17T16:11:44.686152Z",
     "start_time": "2025-08-17T16:11:44.683967Z"
    }
   },
   "cell_type": "code",
   "source": [
    "# Lista tratada:\n",
    "lista_tratada = ['Python', 'é', 'uma', 'linguagem', 'de', 'programação', 'poderosa', 'versátil',\n",
    "                  'e', 'fácil', 'de', 'aprender', 'utilizada', 'em', 'diversos', 'campos', 'desde',\n",
    "                  'análise', 'de', 'dados', 'até', 'inteligência', 'artificial']\n",
    "\n",
    "# Lista não tratada:\n",
    "lista_nao_tratada = ['Python', 'é', 'uma', 'linguagem', 'de', 'programação', 'poderosa,', 'versátil',\n",
    "                  'e', 'fácil,', 'de', 'aprender', 'utilizada', 'em', 'diversos', 'campos,', 'desde',\n",
    "                  'análise', 'de', 'dados', 'até', 'inteligência', 'artificial!']\n"
   ],
   "id": "836dece8979aa6fd",
   "outputs": [],
   "execution_count": 14
  },
  {
   "metadata": {},
   "cell_type": "code",
   "outputs": [],
   "execution_count": null,
   "source": [
    "# Função para avaliar o texto:\n",
    "# criando a função que recebe a lista de palavras\n",
    "def avalia_texto(texto: list):\n",
    "    for palavra in texto:\n",
    "        if ',' in palavra or '.' in palavra or '!' in palavra or '?' in palavra:\n",
    "            raise ValueError(f'O texto apresenta pontuações na palavra \"{palavra}\".')\n",
    "    return \"Texto já tratado!\" # retornando a verificação se não lançada a exceção\n"
   ],
   "id": "460ac4b187c0f470"
  },
  {
   "metadata": {},
   "cell_type": "code",
   "outputs": [],
   "execution_count": null,
   "source": [
    "# Testando sem exceção\n",
    "# Testando no exemplo que não lança exceção\n",
    "lista_tratada = ['Python', 'é', 'uma', 'linguagem', 'de', 'programação', 'poderosa', 'versátil',\n",
    "                  'e', 'fácil', 'de', 'aprender', 'utilizada', 'em', 'diversos', 'campos', 'desde',\n",
    "                  'análise', 'de', 'dados', 'até', 'inteligência', 'artificial']\n",
    "\n",
    "try:\n",
    "  avaliacao = avalia_texto(lista_tratada)\n",
    "except Exception as e:\n",
    "  print(e)\n",
    "else:\n",
    "  print(avaliacao)\n"
   ],
   "id": "9645fbfae63ed863"
  },
  {
   "metadata": {},
   "cell_type": "code",
   "outputs": [],
   "execution_count": null,
   "source": [
    "# Testando com exceção\n",
    "# Testando no exemplo que lança exceção\n",
    "lista_nao_tratada = ['Python', 'é', 'uma', 'linguagem', 'de', 'programação', 'poderosa,', 'versátil',\n",
    "                  'e', 'fácil,', 'de', 'aprender', 'utilizada', 'em', 'diversos', 'campos,', 'desde',\n",
    "                  'análise', 'de', 'dados', 'até', 'inteligência', 'artificial!']\n",
    "\n",
    "try:\n",
    "  avaliacao = avalia_texto(lista_nao_tratada)\n",
    "except Exception as e:\n",
    "  print(e)\n",
    "else:\n",
    "  print(avaliacao)\n"
   ],
   "id": "dd02b42be18201fc"
  },
  {
   "metadata": {},
   "cell_type": "markdown",
   "source": [
    "7. Você foi contratado(a) como uma pessoa cientista de dados para auxiliar um laboratório que faz experimentos sobre o comportamento de uma cultura de fungos. O laboratório precisa avaliar constantemente a razão (divisão) entre os dados de pressão e temperatura do ambiente controlado recolhidos durante a experimentação para definir a melhor condição para os testes.\n",
    "\n",
    "Para cumprir com a demanda, você precisa criar uma função divide_colunas que recebe os dados das colunas de pressão e temperatura (que vem no formato de listas) e gerar uma nova coluna com o resultado da divisão. Os parâmetros da função são as duas listas e você deve tratar dentro dela ao menos 2 tipos de exceções:\n",
    "\n",
    "    Verificar se as listas têm o mesmo tamanho (ValueError)\n",
    "    Verificar se existe alguma divisão por zero (ZeroDivisionError)\n",
    "\n",
    "Para testar a função, vamos realizar a divisão entre duas listas de dados coletados no experimento, com os valores de pressão e temperatura do ambiente controlado.\n",
    "\n",
    "Como teste, use os seguintes dados:"
   ],
   "id": "e7a0cd203ef09f2d"
  },
  {
   "metadata": {
    "ExecuteTime": {
     "end_time": "2025-08-17T16:22:50.641238Z",
     "start_time": "2025-08-17T16:22:50.639424Z"
    }
   },
   "cell_type": "code",
   "source": [
    "# Dados sem exceção:\n",
    "pressoes = [100, 120, 140, 160, 180]\n",
    "temperaturas = [20, 25, 30, 35, 40]\n",
    "\n",
    "# Dados com exceção: 1) Exceção de ZeroDivisionError\n",
    "pressoes = [60, 120, 140, 160, 180]\n",
    "temperaturas = [0, 25, 30, 35, 40]\n",
    "\n",
    "# 2) Exceção de ValueError\n",
    "pressoes = [100, 120, 140, 160]\n",
    "temperaturas = [20, 25, 30, 35, 40]\n",
    "\n"
   ],
   "id": "b166eb19badc8fd3",
   "outputs": [],
   "execution_count": 15
  },
  {
   "metadata": {
    "ExecuteTime": {
     "end_time": "2025-08-17T16:33:48.796514Z",
     "start_time": "2025-08-17T16:33:48.793767Z"
    }
   },
   "cell_type": "code",
   "source": [
    "# Função da divisão de colunas e tratamento das exceções:\n",
    "# criando a função que recebe as duas listas e a operação a ser realizada\n",
    "def divide_colunas(lista_1: list, lista_2: list) -> list:\n",
    "  # try-except que verifica se é possível calcular a divisão e lança exceção se as listas tem tamanhos diferentes\n",
    "  # ou se temos alguma divisão por zero em um dos cálculos entre os números das listas\n",
    "  try:\n",
    "    if len(lista_1) != len(lista_2): # Verificando se as listas tem o mesmo tamanho, se não lança uma exceção\n",
    "      raise ValueError(\"As listas precisam ter o mesmo tamanho\")\n",
    "\n",
    "    # A função zip pareia os elementos das listas e uma lista é gerada por meio da razão entre os pares\n",
    "    resultado = [round(a / b, 2) for a, b in zip(lista_1, lista_2)]\n",
    "  except ValueError as e:\n",
    "    print(e)\n",
    "  except ZeroDivisionError as e:\n",
    "    print(f\"{e}: A 2ª lista não pode possuir um valor igual a 0\")\n",
    "  except TypeError as e:\n",
    "    print(f\"{e}: A lista deve conter apenas itens numéricos\")\n",
    "  else:\n",
    "    return resultado\n"
   ],
   "id": "557eb2763117ffa2",
   "outputs": [],
   "execution_count": 22
  },
  {
   "metadata": {
    "ExecuteTime": {
     "end_time": "2025-08-17T16:33:51.044848Z",
     "start_time": "2025-08-17T16:33:51.042808Z"
    }
   },
   "cell_type": "code",
   "source": [
    "# Testando sem exceção\n",
    "# Testando no exemplo que não lança exceção\n",
    "pressoes = [100, 120, 140, 160, \"180\"]\n",
    "temperaturas = [20, 25, 30, 35, 40]\n",
    "\n",
    "divide_colunas(pressoes, temperaturas)\n"
   ],
   "id": "93d4e2355407b8a4",
   "outputs": [
    {
     "name": "stdout",
     "output_type": "stream",
     "text": [
      "unsupported operand type(s) for /: 'str' and 'int': A lista deve conter apenas itens numéricos\n"
     ]
    }
   ],
   "execution_count": 23
  },
  {
   "metadata": {
    "ExecuteTime": {
     "end_time": "2025-08-17T16:22:57.532759Z",
     "start_time": "2025-08-17T16:22:57.530985Z"
    }
   },
   "cell_type": "code",
   "source": [
    "# Testando com exceção (Caso 1)\n",
    "# Testando no exemplo que lança exceção (ZeroDivisionError)\n",
    "pressoes = [60, 120, 140, 160, 180]\n",
    "temperaturas = [0, 25, 30, 35, 40]\n",
    "\n",
    "divide_colunas(pressoes, temperaturas)\n"
   ],
   "id": "e2e2645818b602c4",
   "outputs": [
    {
     "name": "stdout",
     "output_type": "stream",
     "text": [
      "division by zero: A 2ª lista não pode possuir um valor igual a 0\n"
     ]
    }
   ],
   "execution_count": 18
  },
  {
   "metadata": {
    "ExecuteTime": {
     "end_time": "2025-08-17T16:22:59.595946Z",
     "start_time": "2025-08-17T16:22:59.594155Z"
    }
   },
   "cell_type": "code",
   "source": [
    "# Testando com exceção (Caso 2)\n",
    "# Testando no exemplo que lança exceção (ValueError)\n",
    "pressoes = [100, 120, 140, 160]\n",
    "temperaturas = [20, 25, 30, 35, 40]\n",
    "\n",
    "divide_colunas(pressoes, temperaturas)\n"
   ],
   "id": "79aba36f8dddd86b",
   "outputs": [
    {
     "name": "stdout",
     "output_type": "stream",
     "text": [
      "As listas precisam ter o mesmo tamanho\n"
     ]
    }
   ],
   "execution_count": 19
  },
  {
   "metadata": {},
   "cell_type": "markdown",
   "source": "> Dica: Você pode usar zip() para parear os dados da lista_1 com a lista_2. Crie uma estrutura try-except que caso uma das exceções sejam lançadas, podemos ver o tipo de erro na saída.",
   "id": "a71ad3863d2e6d41"
  }
 ],
 "metadata": {
  "kernelspec": {
   "display_name": "Python 3",
   "language": "python",
   "name": "python3"
  },
  "language_info": {
   "codemirror_mode": {
    "name": "ipython",
    "version": 2
   },
   "file_extension": ".py",
   "mimetype": "text/x-python",
   "name": "python",
   "nbconvert_exporter": "python",
   "pygments_lexer": "ipython2",
   "version": "2.7.6"
  }
 },
 "nbformat": 4,
 "nbformat_minor": 5
}
