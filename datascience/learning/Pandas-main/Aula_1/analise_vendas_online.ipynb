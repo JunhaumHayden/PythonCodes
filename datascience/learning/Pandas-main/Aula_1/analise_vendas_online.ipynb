{
 "cells": [
  {
   "metadata": {},
   "cell_type": "markdown",
   "source": [
    "# Vendas online\n",
    "\n",
    "#### O objetivo:\n",
    " Realizar a análise dos resultados de um evento com os clientes de uma empresa de vendas online.\n",
    "#### Cenários:\n",
    "Foi coletado um conjunto de dados que contém os clientes que mais gastaram com produtos dentro de 5 dias de vendas, que é o período de duração do evento. A análise tem a proposta de:\n",
    "  - Identificar o cliente com a maior compra na semana, que irá receber um prêmio da loja\n",
    "  - Ajudar a empresa a criar novas estratégias para atrair mais clientes.\n",
    "\n",
    " A base de dados `dados_vendas_clientes.json` contém informações importantes sobre os clientes como, o nome de cadastro do cliente, o valor total pago na compra e o dia da compra.\n",
    "\n"
   ],
   "id": "5608e08a28276511"
  },
  {
   "metadata": {
    "ExecuteTime": {
     "end_time": "2025-08-10T22:18:37.294250Z",
     "start_time": "2025-08-10T22:18:37.292827Z"
    }
   },
   "cell_type": "code",
   "source": [
    "import pandas as pd\n",
    "import numpy as np\n"
   ],
   "id": "b4566a9736b7d749",
   "outputs": [],
   "execution_count": 14
  },
  {
   "cell_type": "code",
   "id": "initial_id",
   "metadata": {
    "collapsed": true,
    "ExecuteTime": {
     "end_time": "2025-08-10T21:45:21.565163Z",
     "start_time": "2025-08-10T21:45:21.550924Z"
    }
   },
   "source": [
    "# abrir a base de dados com Pandas e aplicar o json_normalize.\n",
    "df_vendas = pd.read_json('../../dataset/dados_vendas_clientes.json')\n",
    "df_vendas"
   ],
   "outputs": [
    {
     "data": {
      "text/plain": [
       "                                        dados_vendas\n",
       "0  {'Data de venda': '06/06/2022', 'Cliente': ['@...\n",
       "1  {'Data de venda': '07/06/2022', 'Cliente': ['I...\n",
       "2  {'Data de venda': '08/06/2022', 'Cliente': ['I...\n",
       "3  {'Data de venda': '09/06/2022', 'Cliente': ['J...\n",
       "4  {'Data de venda': '10/06/2022', 'Cliente': ['M..."
      ],
      "text/html": [
       "<div>\n",
       "<style scoped>\n",
       "    .dataframe tbody tr th:only-of-type {\n",
       "        vertical-align: middle;\n",
       "    }\n",
       "\n",
       "    .dataframe tbody tr th {\n",
       "        vertical-align: top;\n",
       "    }\n",
       "\n",
       "    .dataframe thead th {\n",
       "        text-align: right;\n",
       "    }\n",
       "</style>\n",
       "<table border=\"1\" class=\"dataframe\">\n",
       "  <thead>\n",
       "    <tr style=\"text-align: right;\">\n",
       "      <th></th>\n",
       "      <th>dados_vendas</th>\n",
       "    </tr>\n",
       "  </thead>\n",
       "  <tbody>\n",
       "    <tr>\n",
       "      <th>0</th>\n",
       "      <td>{'Data de venda': '06/06/2022', 'Cliente': ['@...</td>\n",
       "    </tr>\n",
       "    <tr>\n",
       "      <th>1</th>\n",
       "      <td>{'Data de venda': '07/06/2022', 'Cliente': ['I...</td>\n",
       "    </tr>\n",
       "    <tr>\n",
       "      <th>2</th>\n",
       "      <td>{'Data de venda': '08/06/2022', 'Cliente': ['I...</td>\n",
       "    </tr>\n",
       "    <tr>\n",
       "      <th>3</th>\n",
       "      <td>{'Data de venda': '09/06/2022', 'Cliente': ['J...</td>\n",
       "    </tr>\n",
       "    <tr>\n",
       "      <th>4</th>\n",
       "      <td>{'Data de venda': '10/06/2022', 'Cliente': ['M...</td>\n",
       "    </tr>\n",
       "  </tbody>\n",
       "</table>\n",
       "</div>"
      ]
     },
     "execution_count": 3,
     "metadata": {},
     "output_type": "execute_result"
    }
   ],
   "execution_count": 3
  },
  {
   "metadata": {
    "ExecuteTime": {
     "end_time": "2025-08-10T21:45:21.852227Z",
     "start_time": "2025-08-10T21:45:21.850268Z"
    }
   },
   "cell_type": "code",
   "source": "type(df_vendas)",
   "id": "23695d96315a05b0",
   "outputs": [
    {
     "data": {
      "text/plain": [
       "pandas.core.frame.DataFrame"
      ]
     },
     "execution_count": 4,
     "metadata": {},
     "output_type": "execute_result"
    }
   ],
   "execution_count": 4
  },
  {
   "metadata": {
    "ExecuteTime": {
     "end_time": "2025-08-10T21:45:22.031197Z",
     "start_time": "2025-08-10T21:45:22.024944Z"
    }
   },
   "cell_type": "code",
   "source": "df_vendas.info()",
   "id": "a3314a1f49f0fb07",
   "outputs": [
    {
     "name": "stdout",
     "output_type": "stream",
     "text": [
      "<class 'pandas.core.frame.DataFrame'>\n",
      "RangeIndex: 5 entries, 0 to 4\n",
      "Data columns (total 1 columns):\n",
      " #   Column        Non-Null Count  Dtype \n",
      "---  ------        --------------  ----- \n",
      " 0   dados_vendas  5 non-null      object\n",
      "dtypes: object(1)\n",
      "memory usage: 172.0+ bytes\n"
     ]
    }
   ],
   "execution_count": 5
  },
  {
   "metadata": {},
   "cell_type": "markdown",
   "source": [
    "#### Analise inicial dos dados\n",
    "O arquivo contem informacoes aninhadas. Ha 5 linhas, uma data do evento, cada linha representa as informacoes de compras realizadas em uma data"
   ],
   "id": "49c67e0926807c15"
  },
  {
   "metadata": {
    "ExecuteTime": {
     "end_time": "2025-08-10T21:45:22.137665Z",
     "start_time": "2025-08-10T21:45:22.133607Z"
    }
   },
   "cell_type": "code",
   "source": [
    "# Normalizando os dados com pd.json_normalize()\n",
    "df_vendas = pd.json_normalize(df_vendas['dados_vendas'])\n",
    "df_vendas"
   ],
   "id": "aae71729f4f0154d",
   "outputs": [
    {
     "data": {
      "text/plain": [
       "  Data de venda                                            Cliente  \\\n",
       "0    06/06/2022  [@ANA _LUCIA 321, DieGO ARMANDIU 210, DieGO AR...   \n",
       "1    07/06/2022  [Isabely JOanes 738, Isabely JOanes 738, Isabe...   \n",
       "2    08/06/2022  [Isabely JOanes 738, JOãO Gabriel 671, Julya m...   \n",
       "3    09/06/2022  [Julya meireles 914, MaRIA Julia 444, MaRIA Ju...   \n",
       "4    10/06/2022  [MaRIA Julia 444, PEDRO PASCO 812, Paulo castr...   \n",
       "\n",
       "                                Valor da compra  \n",
       "0    [R$ 836,5, R$ 573,33, R$ 392,8, R$ 512,34]  \n",
       "1  [R$ 825,31, R$ 168,07, R$ 339,18, R$ 314,69]  \n",
       "2  [R$ 682,05, R$ 386,34, R$ 622,65, R$ 630,79]  \n",
       "3   [R$ 390,3, R$ 759,16, R$ 334,47, R$ 678,78]  \n",
       "4  [R$ 314,24, R$ 311,15, R$ 899,16, R$ 885,24]  "
      ],
      "text/html": [
       "<div>\n",
       "<style scoped>\n",
       "    .dataframe tbody tr th:only-of-type {\n",
       "        vertical-align: middle;\n",
       "    }\n",
       "\n",
       "    .dataframe tbody tr th {\n",
       "        vertical-align: top;\n",
       "    }\n",
       "\n",
       "    .dataframe thead th {\n",
       "        text-align: right;\n",
       "    }\n",
       "</style>\n",
       "<table border=\"1\" class=\"dataframe\">\n",
       "  <thead>\n",
       "    <tr style=\"text-align: right;\">\n",
       "      <th></th>\n",
       "      <th>Data de venda</th>\n",
       "      <th>Cliente</th>\n",
       "      <th>Valor da compra</th>\n",
       "    </tr>\n",
       "  </thead>\n",
       "  <tbody>\n",
       "    <tr>\n",
       "      <th>0</th>\n",
       "      <td>06/06/2022</td>\n",
       "      <td>[@ANA _LUCIA 321, DieGO ARMANDIU 210, DieGO AR...</td>\n",
       "      <td>[R$ 836,5, R$ 573,33, R$ 392,8, R$ 512,34]</td>\n",
       "    </tr>\n",
       "    <tr>\n",
       "      <th>1</th>\n",
       "      <td>07/06/2022</td>\n",
       "      <td>[Isabely JOanes 738, Isabely JOanes 738, Isabe...</td>\n",
       "      <td>[R$ 825,31, R$ 168,07, R$ 339,18, R$ 314,69]</td>\n",
       "    </tr>\n",
       "    <tr>\n",
       "      <th>2</th>\n",
       "      <td>08/06/2022</td>\n",
       "      <td>[Isabely JOanes 738, JOãO Gabriel 671, Julya m...</td>\n",
       "      <td>[R$ 682,05, R$ 386,34, R$ 622,65, R$ 630,79]</td>\n",
       "    </tr>\n",
       "    <tr>\n",
       "      <th>3</th>\n",
       "      <td>09/06/2022</td>\n",
       "      <td>[Julya meireles 914, MaRIA Julia 444, MaRIA Ju...</td>\n",
       "      <td>[R$ 390,3, R$ 759,16, R$ 334,47, R$ 678,78]</td>\n",
       "    </tr>\n",
       "    <tr>\n",
       "      <th>4</th>\n",
       "      <td>10/06/2022</td>\n",
       "      <td>[MaRIA Julia 444, PEDRO PASCO 812, Paulo castr...</td>\n",
       "      <td>[R$ 314,24, R$ 311,15, R$ 899,16, R$ 885,24]</td>\n",
       "    </tr>\n",
       "  </tbody>\n",
       "</table>\n",
       "</div>"
      ]
     },
     "execution_count": 6,
     "metadata": {},
     "output_type": "execute_result"
    }
   ],
   "execution_count": 6
  },
  {
   "metadata": {},
   "cell_type": "markdown",
   "source": [
    "## Etapa 2\n",
    "\n",
    "Agora pode-se avançar nas transformações desses dados. E será dividido em:\n",
    "- Remover os dados em listas dentro do DataFrame;\n",
    "- Verificar os tipos de dados;\n",
    "- Identificar colunas numéricas;\n",
    "- Transformar a coluna numérica para o tipo numérico."
   ],
   "id": "e9a5eb5dfd692a25"
  },
  {
   "metadata": {},
   "cell_type": "markdown",
   "source": "### Etapa 2 - passo 1: Remover os dados em listas dentro do DataFrame (dataframe plano)",
   "id": "fd2f9a35afcff3d1"
  },
  {
   "metadata": {
    "ExecuteTime": {
     "end_time": "2025-08-10T21:45:22.299334Z",
     "start_time": "2025-08-10T21:45:22.297332Z"
    }
   },
   "cell_type": "code",
   "source": [
    "# Criando uma lista com os nomes das colunas do DataFrame\n",
    "# A lista será usada posteriormente para aplicar o método explode\n",
    "colunas = list(df_vendas.columns)\n",
    "colunas"
   ],
   "id": "f60acaa25069624a",
   "outputs": [
    {
     "data": {
      "text/plain": [
       "['Data de venda', 'Cliente', 'Valor da compra']"
      ]
     },
     "execution_count": 7,
     "metadata": {},
     "output_type": "execute_result"
    }
   ],
   "execution_count": 7
  },
  {
   "metadata": {
    "ExecuteTime": {
     "end_time": "2025-08-10T21:50:08.700184Z",
     "start_time": "2025-08-10T21:50:08.695495Z"
    }
   },
   "cell_type": "code",
   "source": [
    "df_vendas = df_vendas.explode(colunas[1:]) # Aplicando o método explode nas colunas a partir da 4ª coluna ('descricao_local')\n",
    "df_vendas"
   ],
   "id": "748283a9249490dd",
   "outputs": [
    {
     "data": {
      "text/plain": [
       "  Data de venda             Cliente Valor da compra\n",
       "0    06/06/2022     @ANA _LUCIA 321        R$ 836,5\n",
       "0    06/06/2022  DieGO ARMANDIU 210       R$ 573,33\n",
       "0    06/06/2022  DieGO ARMANDIU 210        R$ 392,8\n",
       "0    06/06/2022  DieGO ARMANDIU 210       R$ 512,34\n",
       "1    07/06/2022  Isabely JOanes 738       R$ 825,31\n",
       "1    07/06/2022  Isabely JOanes 738       R$ 168,07\n",
       "1    07/06/2022  Isabely JOanes 738       R$ 339,18\n",
       "1    07/06/2022  Isabely JOanes 738       R$ 314,69\n",
       "2    08/06/2022  Isabely JOanes 738       R$ 682,05\n",
       "2    08/06/2022    JOãO Gabriel 671       R$ 386,34\n",
       "2    08/06/2022  Julya meireles 914       R$ 622,65\n",
       "2    08/06/2022  Julya meireles 914       R$ 630,79\n",
       "3    09/06/2022  Julya meireles 914        R$ 390,3\n",
       "3    09/06/2022     MaRIA Julia 444       R$ 759,16\n",
       "3    09/06/2022     MaRIA Julia 444       R$ 334,47\n",
       "3    09/06/2022     MaRIA Julia 444       R$ 678,78\n",
       "4    10/06/2022     MaRIA Julia 444       R$ 314,24\n",
       "4    10/06/2022     PEDRO PASCO 812       R$ 311,15\n",
       "4    10/06/2022    Paulo castro 481       R$ 899,16\n",
       "4    10/06/2022   Thiago fritzz 883       R$ 885,24"
      ],
      "text/html": [
       "<div>\n",
       "<style scoped>\n",
       "    .dataframe tbody tr th:only-of-type {\n",
       "        vertical-align: middle;\n",
       "    }\n",
       "\n",
       "    .dataframe tbody tr th {\n",
       "        vertical-align: top;\n",
       "    }\n",
       "\n",
       "    .dataframe thead th {\n",
       "        text-align: right;\n",
       "    }\n",
       "</style>\n",
       "<table border=\"1\" class=\"dataframe\">\n",
       "  <thead>\n",
       "    <tr style=\"text-align: right;\">\n",
       "      <th></th>\n",
       "      <th>Data de venda</th>\n",
       "      <th>Cliente</th>\n",
       "      <th>Valor da compra</th>\n",
       "    </tr>\n",
       "  </thead>\n",
       "  <tbody>\n",
       "    <tr>\n",
       "      <th>0</th>\n",
       "      <td>06/06/2022</td>\n",
       "      <td>@ANA _LUCIA 321</td>\n",
       "      <td>R$ 836,5</td>\n",
       "    </tr>\n",
       "    <tr>\n",
       "      <th>0</th>\n",
       "      <td>06/06/2022</td>\n",
       "      <td>DieGO ARMANDIU 210</td>\n",
       "      <td>R$ 573,33</td>\n",
       "    </tr>\n",
       "    <tr>\n",
       "      <th>0</th>\n",
       "      <td>06/06/2022</td>\n",
       "      <td>DieGO ARMANDIU 210</td>\n",
       "      <td>R$ 392,8</td>\n",
       "    </tr>\n",
       "    <tr>\n",
       "      <th>0</th>\n",
       "      <td>06/06/2022</td>\n",
       "      <td>DieGO ARMANDIU 210</td>\n",
       "      <td>R$ 512,34</td>\n",
       "    </tr>\n",
       "    <tr>\n",
       "      <th>1</th>\n",
       "      <td>07/06/2022</td>\n",
       "      <td>Isabely JOanes 738</td>\n",
       "      <td>R$ 825,31</td>\n",
       "    </tr>\n",
       "    <tr>\n",
       "      <th>1</th>\n",
       "      <td>07/06/2022</td>\n",
       "      <td>Isabely JOanes 738</td>\n",
       "      <td>R$ 168,07</td>\n",
       "    </tr>\n",
       "    <tr>\n",
       "      <th>1</th>\n",
       "      <td>07/06/2022</td>\n",
       "      <td>Isabely JOanes 738</td>\n",
       "      <td>R$ 339,18</td>\n",
       "    </tr>\n",
       "    <tr>\n",
       "      <th>1</th>\n",
       "      <td>07/06/2022</td>\n",
       "      <td>Isabely JOanes 738</td>\n",
       "      <td>R$ 314,69</td>\n",
       "    </tr>\n",
       "    <tr>\n",
       "      <th>2</th>\n",
       "      <td>08/06/2022</td>\n",
       "      <td>Isabely JOanes 738</td>\n",
       "      <td>R$ 682,05</td>\n",
       "    </tr>\n",
       "    <tr>\n",
       "      <th>2</th>\n",
       "      <td>08/06/2022</td>\n",
       "      <td>JOãO Gabriel 671</td>\n",
       "      <td>R$ 386,34</td>\n",
       "    </tr>\n",
       "    <tr>\n",
       "      <th>2</th>\n",
       "      <td>08/06/2022</td>\n",
       "      <td>Julya meireles 914</td>\n",
       "      <td>R$ 622,65</td>\n",
       "    </tr>\n",
       "    <tr>\n",
       "      <th>2</th>\n",
       "      <td>08/06/2022</td>\n",
       "      <td>Julya meireles 914</td>\n",
       "      <td>R$ 630,79</td>\n",
       "    </tr>\n",
       "    <tr>\n",
       "      <th>3</th>\n",
       "      <td>09/06/2022</td>\n",
       "      <td>Julya meireles 914</td>\n",
       "      <td>R$ 390,3</td>\n",
       "    </tr>\n",
       "    <tr>\n",
       "      <th>3</th>\n",
       "      <td>09/06/2022</td>\n",
       "      <td>MaRIA Julia 444</td>\n",
       "      <td>R$ 759,16</td>\n",
       "    </tr>\n",
       "    <tr>\n",
       "      <th>3</th>\n",
       "      <td>09/06/2022</td>\n",
       "      <td>MaRIA Julia 444</td>\n",
       "      <td>R$ 334,47</td>\n",
       "    </tr>\n",
       "    <tr>\n",
       "      <th>3</th>\n",
       "      <td>09/06/2022</td>\n",
       "      <td>MaRIA Julia 444</td>\n",
       "      <td>R$ 678,78</td>\n",
       "    </tr>\n",
       "    <tr>\n",
       "      <th>4</th>\n",
       "      <td>10/06/2022</td>\n",
       "      <td>MaRIA Julia 444</td>\n",
       "      <td>R$ 314,24</td>\n",
       "    </tr>\n",
       "    <tr>\n",
       "      <th>4</th>\n",
       "      <td>10/06/2022</td>\n",
       "      <td>PEDRO PASCO 812</td>\n",
       "      <td>R$ 311,15</td>\n",
       "    </tr>\n",
       "    <tr>\n",
       "      <th>4</th>\n",
       "      <td>10/06/2022</td>\n",
       "      <td>Paulo castro 481</td>\n",
       "      <td>R$ 899,16</td>\n",
       "    </tr>\n",
       "    <tr>\n",
       "      <th>4</th>\n",
       "      <td>10/06/2022</td>\n",
       "      <td>Thiago fritzz 883</td>\n",
       "      <td>R$ 885,24</td>\n",
       "    </tr>\n",
       "  </tbody>\n",
       "</table>\n",
       "</div>"
      ]
     },
     "execution_count": 11,
     "metadata": {},
     "output_type": "execute_result"
    }
   ],
   "execution_count": 11
  },
  {
   "metadata": {
    "ExecuteTime": {
     "end_time": "2025-08-10T21:51:03.845071Z",
     "start_time": "2025-08-10T21:51:03.842048Z"
    }
   },
   "cell_type": "code",
   "source": [
    "df_vendas.reset_index(inplace = True,drop=True) # inplace=True para que seja substituido o index , drop=True para que a coluna dos index antigos seja descartada\n",
    "df_vendas.head()"
   ],
   "id": "7b0dc31af51751a8",
   "outputs": [
    {
     "data": {
      "text/plain": [
       "  Data de venda             Cliente Valor da compra\n",
       "0    06/06/2022     @ANA _LUCIA 321        R$ 836,5\n",
       "1    06/06/2022  DieGO ARMANDIU 210       R$ 573,33\n",
       "2    06/06/2022  DieGO ARMANDIU 210        R$ 392,8\n",
       "3    06/06/2022  DieGO ARMANDIU 210       R$ 512,34\n",
       "4    07/06/2022  Isabely JOanes 738       R$ 825,31"
      ],
      "text/html": [
       "<div>\n",
       "<style scoped>\n",
       "    .dataframe tbody tr th:only-of-type {\n",
       "        vertical-align: middle;\n",
       "    }\n",
       "\n",
       "    .dataframe tbody tr th {\n",
       "        vertical-align: top;\n",
       "    }\n",
       "\n",
       "    .dataframe thead th {\n",
       "        text-align: right;\n",
       "    }\n",
       "</style>\n",
       "<table border=\"1\" class=\"dataframe\">\n",
       "  <thead>\n",
       "    <tr style=\"text-align: right;\">\n",
       "      <th></th>\n",
       "      <th>Data de venda</th>\n",
       "      <th>Cliente</th>\n",
       "      <th>Valor da compra</th>\n",
       "    </tr>\n",
       "  </thead>\n",
       "  <tbody>\n",
       "    <tr>\n",
       "      <th>0</th>\n",
       "      <td>06/06/2022</td>\n",
       "      <td>@ANA _LUCIA 321</td>\n",
       "      <td>R$ 836,5</td>\n",
       "    </tr>\n",
       "    <tr>\n",
       "      <th>1</th>\n",
       "      <td>06/06/2022</td>\n",
       "      <td>DieGO ARMANDIU 210</td>\n",
       "      <td>R$ 573,33</td>\n",
       "    </tr>\n",
       "    <tr>\n",
       "      <th>2</th>\n",
       "      <td>06/06/2022</td>\n",
       "      <td>DieGO ARMANDIU 210</td>\n",
       "      <td>R$ 392,8</td>\n",
       "    </tr>\n",
       "    <tr>\n",
       "      <th>3</th>\n",
       "      <td>06/06/2022</td>\n",
       "      <td>DieGO ARMANDIU 210</td>\n",
       "      <td>R$ 512,34</td>\n",
       "    </tr>\n",
       "    <tr>\n",
       "      <th>4</th>\n",
       "      <td>07/06/2022</td>\n",
       "      <td>Isabely JOanes 738</td>\n",
       "      <td>R$ 825,31</td>\n",
       "    </tr>\n",
       "  </tbody>\n",
       "</table>\n",
       "</div>"
      ]
     },
     "execution_count": 12,
     "metadata": {},
     "output_type": "execute_result"
    }
   ],
   "execution_count": 12
  },
  {
   "metadata": {},
   "cell_type": "markdown",
   "source": [
    "### Etapa 02 - passo 02:\n",
    "- Verificar os tipos de dados\n",
    "- Identificar colunas numéricas;\n",
    "- Transformar a coluna numérica para o tipo numérico."
   ],
   "id": "fbe82753e508b2ae"
  },
  {
   "metadata": {
    "ExecuteTime": {
     "end_time": "2025-08-10T21:53:29.107332Z",
     "start_time": "2025-08-10T21:53:29.102676Z"
    }
   },
   "cell_type": "code",
   "source": "df_vendas.info()",
   "id": "af03f5fb8cf258dd",
   "outputs": [
    {
     "name": "stdout",
     "output_type": "stream",
     "text": [
      "<class 'pandas.core.frame.DataFrame'>\n",
      "RangeIndex: 20 entries, 0 to 19\n",
      "Data columns (total 3 columns):\n",
      " #   Column           Non-Null Count  Dtype \n",
      "---  ------           --------------  ----- \n",
      " 0   Data de venda    20 non-null     object\n",
      " 1   Cliente          20 non-null     object\n",
      " 2   Valor da compra  20 non-null     object\n",
      "dtypes: object(3)\n",
      "memory usage: 612.0+ bytes\n"
     ]
    }
   ],
   "execution_count": 13
  },
  {
   "metadata": {},
   "cell_type": "markdown",
   "source": [
    "#### Passos da EDA:\n",
    "\n",
    "1. **Identificar o tipo de dado de cada coluna**\n",
    "\n",
    "- Saber se é numérico, texto, data/hora, booleano, etc.\n",
    "- Isso define quais operações e análises são possíveis.\n",
    "2. **Separar colunas numéricas e não numéricas**\n",
    "\n",
    "- Numéricas → permitem soma, média, estatísticas, correlações, histogramas.\n",
    "- Não numéricas (categóricas ou texto) → permitem contagens, agrupamentos, análise de frequência, conversões para category para otimizar memória.\n",
    "- Datas → permitem extrair componentes (dia, mês, hora) e analisar tendências temporais.\n",
    "\n",
    "3. **Aplicar os devidos tratamentos**\n",
    "\n",
    "- Numéricas: conversão de string para número, tratamento de outliers, preenchimento de nulos.\n",
    "- Categóricas: padronização de escrita, remoção de espaços, ajuste de capitalização.\n",
    "- Datas: conversão para datetime, padronização de formato, ajuste de timezone se necessário.\n",
    "\n",
    "Neste exemplo:\n",
    "\n",
    "- `Data de venda` → converter para datetime (coluna de data).\n",
    "- `Cliente` → tratar como categórica (texto).\n",
    "- `Valor da compra` → converter para float (numérica)."
   ],
   "id": "481a847055013fc7"
  },
  {
   "metadata": {},
   "cell_type": "markdown",
   "source": [
    "#### Funcao: detect_and_convert_types(df: pd.DataFrame, threshold=0.8)\n",
    "função que recebe um DataFrame, detecta os tipos das colunas, converte cada coluna para o tipo apropriado (numérico, datetime ou categórico) e retorna o DataFrame já transformado junto com a classificação das colunas:\n",
    "\n",
    "O que ele faz:\n",
    "1. Tenta converter colunas object para datetime se mais de 80% dos valores forem válidos.\n",
    "2. Tenta converter colunas object para numérico (removendo “R$” e trocando vírgula por ponto) se mais de 80% forem convertíveis.\n",
    "3. Classifica as colunas restantes como:\n",
    "    - Numéricas (np.number)\n",
    "    - Datas (datetime64)\n",
    "    - Categóricas (resto)."
   ],
   "id": "7b538ed1b655a8f8"
  },
  {
   "metadata": {
    "ExecuteTime": {
     "end_time": "2025-08-10T23:17:20.444801Z",
     "start_time": "2025-08-10T23:17:20.441332Z"
    }
   },
   "cell_type": "code",
   "outputs": [],
   "execution_count": 22,
   "source": [
    "import pandas as pd\n",
    "import numpy as np\n",
    "# função que recebe um DataFrame, detecta os tipos das colunas, converte cada coluna para o tipo apropriado (numérico, datetime ou categórico) e retorna o DataFrame já transformado junto com a classificação das colunas:\n",
    "def detect_and_convert_types(df: pd.DataFrame, threshold=0.8):\n",
    "    \"\"\"\n",
    "    Detecta tipos e tenta converter colunas de um DataFrame:\n",
    "    - Converte para datetime e numérico se taxa de sucesso >= threshold.\n",
    "    - Mantém o tipo original e gera aviso caso contrário.\n",
    "    - Converte colunas categóricas para category.\n",
    "\n",
    "    Parâmetros:\n",
    "    - df: DataFrame original\n",
    "    - threshold: proporção mínima de valores convertidos para aceitar a conversão (default 0.8)\n",
    "\n",
    "    Retorna:\n",
    "    - df convertido (cópia)\n",
    "    - dicionário com listas de colunas por tipo detectado\n",
    "    \"\"\"\n",
    "    df = df.copy()\n",
    "\n",
    "    # Para armazenar colunas que não foram convertidas\n",
    "    warnings = []\n",
    "\n",
    "    # Tentar converter para datetime\n",
    "    for col in df.columns:\n",
    "        if df[col].dtype == object:\n",
    "            try:\n",
    "                converted = pd.to_datetime(df[col], errors='coerce', dayfirst=True)\n",
    "            # Se a maioria dos valores não for NaT, mantém como datetime\n",
    "                success_rate = converted.notna().mean()\n",
    "                if success_rate >= threshold:\n",
    "                    df[col] = converted\n",
    "                else:\n",
    "                    warnings.append(f\"Coluna '{col}' NÃO convertida para datetime (taxa de sucesso: {success_rate:.2%})\")\n",
    "            except Exception as e:\n",
    "                warnings.append(f\"Coluna '{col}' NÃO convertida para datetime devido a erro: {e}\")\n",
    "\n",
    "    # Tentar converter para numérico\n",
    "    for col in df.columns:\n",
    "        if df[col].dtype == object:\n",
    "            temp = pd.to_numeric(df[col].replace({',': '.', 'R\\$': ''}, regex=True), errors='coerce')\n",
    "            # Se a maioria conseguir converter, mantém como numérico\n",
    "            success_rate = temp.notna().mean()\n",
    "            if success_rate >= threshold:\n",
    "                df[col] = temp\n",
    "            else:\n",
    "                warnings.append(f\"Coluna '{col}' NÃO convertida para numérico (taxa de sucesso: {success_rate:.2%})\")\n",
    "\n",
    "    # Classificação final\n",
    "    numeric_cols = df.select_dtypes(include=[np.number]).columns.tolist()\n",
    "    date_cols = df.select_dtypes(include=['datetime64[ns]', 'datetime64[ns, UTC]']).columns.tolist()\n",
    "    categorical_cols = [col for col in df.columns if col not in numeric_cols + date_cols]\n",
    "\n",
    "    # Converter categóricas para category\n",
    "    # Colunas categóricas normalmente ficam como 'object', mas pode otimizar para 'category'\n",
    "    for col in categorical_cols:\n",
    "        df[col] = df[col].astype('category')\n",
    "\n",
    "    tipos = {\n",
    "        \"numeric\": numeric_cols,\n",
    "        \"categorical\": categorical_cols,\n",
    "        \"dates\": date_cols\n",
    "    }\n",
    "\n",
    "    # Exibir avisos\n",
    "    if warnings:\n",
    "        print(\"\\nAvisos durante conversão:\")\n",
    "        for w in warnings:\n",
    "            print(f\" - {w}\")\n",
    "    else:\n",
    "        print(\"Todas as colunas convertidas com sucesso.\")\n",
    "\n",
    "    return df, tipos\n",
    "\n",
    "# Exemplo de uso:\n",
    "# df_converted, tipos = detect_convert_with_warnings(df)\n",
    "# print(tipos)\n"
   ],
   "id": "454fb52ee32ce26"
  },
  {
   "metadata": {
    "ExecuteTime": {
     "end_time": "2025-08-10T23:17:25.310670Z",
     "start_time": "2025-08-10T23:17:25.305343Z"
    }
   },
   "cell_type": "code",
   "source": [
    "# Usando a funcao para converter tipos do dataframe\n",
    "df, tipos = detect_and_convert_types(df_vendas)\n",
    "print(\"Numéricas:\", tipos['numeric'])\n",
    "print(\"Categóricas:\", tipos['categorical'])\n",
    "print(\"Datas:\", tipos['dates'])\n",
    "df"
   ],
   "id": "12a8bc0363b6f5f9",
   "outputs": [
    {
     "name": "stdout",
     "output_type": "stream",
     "text": [
      "\n",
      "Avisos durante conversão:\n",
      " - Coluna 'Cliente' NÃO convertida para datetime (taxa de sucesso: 0.00%)\n",
      " - Coluna 'Cliente' NÃO convertida para numérico (taxa de sucesso: 0.00%)\n",
      "Numéricas: ['Valor da compra']\n",
      "Categóricas: ['Cliente']\n",
      "Datas: ['Data de venda']\n"
     ]
    },
    {
     "name": "stderr",
     "output_type": "stream",
     "text": [
      "/tmp/ipykernel_21098/3587483065.py:28: UserWarning: Could not infer format, so each element will be parsed individually, falling back to `dateutil`. To ensure parsing is consistent and as-expected, please specify a format.\n",
      "  converted = pd.to_datetime(df[col], errors='coerce', dayfirst=True)\n"
     ]
    },
    {
     "data": {
      "text/plain": [
       "   Data de venda             Cliente  Valor da compra\n",
       "0     2022-06-06     @ANA _LUCIA 321           836.50\n",
       "1     2022-06-06  DieGO ARMANDIU 210           573.33\n",
       "2     2022-06-06  DieGO ARMANDIU 210           392.80\n",
       "3     2022-06-06  DieGO ARMANDIU 210           512.34\n",
       "4     2022-06-07  Isabely JOanes 738           825.31\n",
       "5     2022-06-07  Isabely JOanes 738           168.07\n",
       "6     2022-06-07  Isabely JOanes 738           339.18\n",
       "7     2022-06-07  Isabely JOanes 738           314.69\n",
       "8     2022-06-08  Isabely JOanes 738           682.05\n",
       "9     2022-06-08    JOãO Gabriel 671           386.34\n",
       "10    2022-06-08  Julya meireles 914           622.65\n",
       "11    2022-06-08  Julya meireles 914           630.79\n",
       "12    2022-06-09  Julya meireles 914           390.30\n",
       "13    2022-06-09     MaRIA Julia 444           759.16\n",
       "14    2022-06-09     MaRIA Julia 444           334.47\n",
       "15    2022-06-09     MaRIA Julia 444           678.78\n",
       "16    2022-06-10     MaRIA Julia 444           314.24\n",
       "17    2022-06-10     PEDRO PASCO 812           311.15\n",
       "18    2022-06-10    Paulo castro 481           899.16\n",
       "19    2022-06-10   Thiago fritzz 883           885.24"
      ],
      "text/html": [
       "<div>\n",
       "<style scoped>\n",
       "    .dataframe tbody tr th:only-of-type {\n",
       "        vertical-align: middle;\n",
       "    }\n",
       "\n",
       "    .dataframe tbody tr th {\n",
       "        vertical-align: top;\n",
       "    }\n",
       "\n",
       "    .dataframe thead th {\n",
       "        text-align: right;\n",
       "    }\n",
       "</style>\n",
       "<table border=\"1\" class=\"dataframe\">\n",
       "  <thead>\n",
       "    <tr style=\"text-align: right;\">\n",
       "      <th></th>\n",
       "      <th>Data de venda</th>\n",
       "      <th>Cliente</th>\n",
       "      <th>Valor da compra</th>\n",
       "    </tr>\n",
       "  </thead>\n",
       "  <tbody>\n",
       "    <tr>\n",
       "      <th>0</th>\n",
       "      <td>2022-06-06</td>\n",
       "      <td>@ANA _LUCIA 321</td>\n",
       "      <td>836.50</td>\n",
       "    </tr>\n",
       "    <tr>\n",
       "      <th>1</th>\n",
       "      <td>2022-06-06</td>\n",
       "      <td>DieGO ARMANDIU 210</td>\n",
       "      <td>573.33</td>\n",
       "    </tr>\n",
       "    <tr>\n",
       "      <th>2</th>\n",
       "      <td>2022-06-06</td>\n",
       "      <td>DieGO ARMANDIU 210</td>\n",
       "      <td>392.80</td>\n",
       "    </tr>\n",
       "    <tr>\n",
       "      <th>3</th>\n",
       "      <td>2022-06-06</td>\n",
       "      <td>DieGO ARMANDIU 210</td>\n",
       "      <td>512.34</td>\n",
       "    </tr>\n",
       "    <tr>\n",
       "      <th>4</th>\n",
       "      <td>2022-06-07</td>\n",
       "      <td>Isabely JOanes 738</td>\n",
       "      <td>825.31</td>\n",
       "    </tr>\n",
       "    <tr>\n",
       "      <th>5</th>\n",
       "      <td>2022-06-07</td>\n",
       "      <td>Isabely JOanes 738</td>\n",
       "      <td>168.07</td>\n",
       "    </tr>\n",
       "    <tr>\n",
       "      <th>6</th>\n",
       "      <td>2022-06-07</td>\n",
       "      <td>Isabely JOanes 738</td>\n",
       "      <td>339.18</td>\n",
       "    </tr>\n",
       "    <tr>\n",
       "      <th>7</th>\n",
       "      <td>2022-06-07</td>\n",
       "      <td>Isabely JOanes 738</td>\n",
       "      <td>314.69</td>\n",
       "    </tr>\n",
       "    <tr>\n",
       "      <th>8</th>\n",
       "      <td>2022-06-08</td>\n",
       "      <td>Isabely JOanes 738</td>\n",
       "      <td>682.05</td>\n",
       "    </tr>\n",
       "    <tr>\n",
       "      <th>9</th>\n",
       "      <td>2022-06-08</td>\n",
       "      <td>JOãO Gabriel 671</td>\n",
       "      <td>386.34</td>\n",
       "    </tr>\n",
       "    <tr>\n",
       "      <th>10</th>\n",
       "      <td>2022-06-08</td>\n",
       "      <td>Julya meireles 914</td>\n",
       "      <td>622.65</td>\n",
       "    </tr>\n",
       "    <tr>\n",
       "      <th>11</th>\n",
       "      <td>2022-06-08</td>\n",
       "      <td>Julya meireles 914</td>\n",
       "      <td>630.79</td>\n",
       "    </tr>\n",
       "    <tr>\n",
       "      <th>12</th>\n",
       "      <td>2022-06-09</td>\n",
       "      <td>Julya meireles 914</td>\n",
       "      <td>390.30</td>\n",
       "    </tr>\n",
       "    <tr>\n",
       "      <th>13</th>\n",
       "      <td>2022-06-09</td>\n",
       "      <td>MaRIA Julia 444</td>\n",
       "      <td>759.16</td>\n",
       "    </tr>\n",
       "    <tr>\n",
       "      <th>14</th>\n",
       "      <td>2022-06-09</td>\n",
       "      <td>MaRIA Julia 444</td>\n",
       "      <td>334.47</td>\n",
       "    </tr>\n",
       "    <tr>\n",
       "      <th>15</th>\n",
       "      <td>2022-06-09</td>\n",
       "      <td>MaRIA Julia 444</td>\n",
       "      <td>678.78</td>\n",
       "    </tr>\n",
       "    <tr>\n",
       "      <th>16</th>\n",
       "      <td>2022-06-10</td>\n",
       "      <td>MaRIA Julia 444</td>\n",
       "      <td>314.24</td>\n",
       "    </tr>\n",
       "    <tr>\n",
       "      <th>17</th>\n",
       "      <td>2022-06-10</td>\n",
       "      <td>PEDRO PASCO 812</td>\n",
       "      <td>311.15</td>\n",
       "    </tr>\n",
       "    <tr>\n",
       "      <th>18</th>\n",
       "      <td>2022-06-10</td>\n",
       "      <td>Paulo castro 481</td>\n",
       "      <td>899.16</td>\n",
       "    </tr>\n",
       "    <tr>\n",
       "      <th>19</th>\n",
       "      <td>2022-06-10</td>\n",
       "      <td>Thiago fritzz 883</td>\n",
       "      <td>885.24</td>\n",
       "    </tr>\n",
       "  </tbody>\n",
       "</table>\n",
       "</div>"
      ]
     },
     "execution_count": 23,
     "metadata": {},
     "output_type": "execute_result"
    }
   ],
   "execution_count": 23
  },
  {
   "metadata": {},
   "cell_type": "markdown",
   "source": [
    "#### Sobre o warning do Pandas\n",
    "```plaintext\n",
    "UserWarning: Could not infer format, so each element will be parsed individually, falling back to `dateutil`.\n",
    "To ensure parsing is consistent and as-expected, please specify a format.\n",
    "```\n",
    "Esse aviso ocorre porque o pd.to_datetime() não conseguiu detectar de forma direta o formato de data na coluna Data de venda.\n",
    "Por isso, ele recorreu ao parser genérico do dateutil, que analisa cada valor separadamente.\n",
    "\n",
    "Isso não é um erro, mas:\n",
    "- Pode deixar a conversão mais lenta (porque analisa valor por valor).\n",
    "- Pode gerar inconsistências se houver formatos misturados (ex.: \"01/02/2025\" e \"2025-02-01\").\n",
    "\n",
    "**Como evitar o warning**\n",
    "\n",
    "Se você sabe o formato das datas, informe no parâmetro format:\n",
    "```python\n",
    "df['Data de venda'] = pd.to_datetime(df['Data de venda'], format='%d/%m/%Y', dayfirst=True)\n",
    "```\n",
    "Assim:\n",
    "- O Pandas não precisa “adivinhar” o formato.\n",
    "- A conversão é mais rápida e confiável.\n",
    "- O *warning* desaparece."
   ],
   "id": "d4751df55a7df880"
  },
  {
   "metadata": {},
   "cell_type": "markdown",
   "source": [
    "### Convertendo as colunas\n",
    "#### `astype()` do Pandas/NumPy vs funções de conversão específicas (`pd.to_numeric()`, `pd.to_datetime()`):\n",
    "- `astype()` é um método simples e rápido que converte o tipo de uma série ou array, mas não faz parsing ou validação dos dados. Se a coluna já está \"quase no tipo certo\" (por exemplo, números armazenados como floats mas você quer int), `astype()` é muito eficiente.\n",
    "\n",
    "- `pd.to_numeric()` e `pd.to_datetime()` são funções mais robustas e \"inteligentes\" que tentam interpretar strings, fazer parsing, converter formatos, lidar com erros e valores inválidos. Por exemplo, converter \"R$ 1.200,50\" para número, ou \"25/07/2025\" para datetime. Essas funções são mais custosas em tempo, pois fazem análise e tratamento.\n",
    "\n",
    "#### Quando usar o quê?\n",
    "- Se você tem certeza que os dados já estão limpos e no formato correto e só quer mudar o tipo (ex: float64 para float32 ou object categórico para category), use astype(), pois é mais rápido e direto.\n",
    "- Se você precisa converter strings sujas, parsear datas ou transformar números em texto com símbolos para número real, então use as funções especializadas como pd.to_numeric() ou pd.to_datetime().\n",
    "\n",
    "#### Neste fluxo ETL\n",
    "\n",
    "No passo de transformação, normalmente você vai:\n",
    "- Primeiro usar as funções especializadas para interpretar e limpar dados (ex: pd.to_numeric, pd.to_datetime com errors='coerce').\n",
    "- Depois, quando os dados estiverem limpos, usar astype() para ajustar tipos menores, por exemplo:\n",
    "```python\n",
    "    df['quantidade'] = df['quantidade'].astype('int32')  # se já sabe que não há NaNs\n",
    "    df['categoria'] = df['categoria'].astype('category')\n",
    "```\n",
    "#### Resumo\n",
    "- `astype()` é mais eficiente, mas só deve ser usado quando os dados já estiverem no formato correto (ou você quer só reduzir o tipo).\n",
    "- Funções de conversão (`pd.to_numeric`, `pd.to_datetime`) são mais robustas e usadas para parsing e limpeza, mas custam mais tempo.\n",
    "\n",
    "Essas funções facilitam o tratamento de dados sujos e variados, comuns em bases reais, e tornam seu código mais resiliente a mudanças no formato dos dados.\n",
    "\n",
    "Depois que os dados já estiverem limpos, você pode usar astype() para ajustar tipos de forma mais eficiente (por exemplo, converter float64 para float32 ou objeto para category) — mas isso é uma otimização pós-processamento.\n",
    "| Objetivo                       | Função recomendada |\n",
    "| ------------------------------ | ------------------ |\n",
    "| Converter strings para números | `pd.to_numeric()`  |\n",
    "| Converter strings para datas   | `pd.to_datetime()` |\n",
    "| Ajustar tipo já correto        | `.astype()`        |\n"
   ],
   "id": "9e9b1183daa24646"
  },
  {
   "metadata": {},
   "cell_type": "code",
   "outputs": [],
   "execution_count": null,
   "source": [
    "# Exemplo de conversao\n",
    "col_types = classify_columns(df)\n",
    "\n",
    "# Converte colunas numéricas para float (ou int, se preferir)\n",
    "for col in col_types['numeric']:\n",
    "    df[col] = pd.to_numeric(df[col], errors='coerce')\n",
    "\n",
    "# Converte colunas de datas para datetime (se ainda não estiver)\n",
    "for col in col_types['dates']:\n",
    "    df[col] = pd.to_datetime(df[col], errors='coerce', dayfirst=True)  # ajuste o formato se souber\n",
    "\n",
    "# Colunas categóricas normalmente ficam como 'object', mas pode otimizar para 'category'\n",
    "for col in col_types['categorical']:\n",
    "    df[col] = df[col].astype('category')\n",
    "\n",
    "# Agora o df está com os tipos convertidos corretamente\n"
   ],
   "id": "6782d7b3ed78a9a8"
  },
  {
   "metadata": {
    "ExecuteTime": {
     "end_time": "2025-08-10T23:17:28.583859Z",
     "start_time": "2025-08-10T23:17:28.580293Z"
    }
   },
   "cell_type": "code",
   "source": "df.info()",
   "id": "1f0dc55b7d63aa25",
   "outputs": [
    {
     "name": "stdout",
     "output_type": "stream",
     "text": [
      "<class 'pandas.core.frame.DataFrame'>\n",
      "RangeIndex: 20 entries, 0 to 19\n",
      "Data columns (total 3 columns):\n",
      " #   Column           Non-Null Count  Dtype         \n",
      "---  ------           --------------  -----         \n",
      " 0   Data de venda    20 non-null     datetime64[ns]\n",
      " 1   Cliente          20 non-null     category      \n",
      " 2   Valor da compra  20 non-null     float64       \n",
      "dtypes: category(1), datetime64[ns](1), float64(1)\n",
      "memory usage: 844.0 bytes\n"
     ]
    }
   ],
   "execution_count": 24
  },
  {
   "metadata": {
    "ExecuteTime": {
     "end_time": "2025-08-10T23:49:25.098051Z",
     "start_time": "2025-08-10T23:49:25.094953Z"
    }
   },
   "cell_type": "code",
   "source": "df_vendas.info()\n",
   "id": "5b2cc8c565e9049f",
   "outputs": [
    {
     "name": "stdout",
     "output_type": "stream",
     "text": [
      "<class 'pandas.core.frame.DataFrame'>\n",
      "RangeIndex: 20 entries, 0 to 19\n",
      "Data columns (total 3 columns):\n",
      " #   Column           Non-Null Count  Dtype         \n",
      "---  ------           --------------  -----         \n",
      " 0   Data de venda    20 non-null     datetime64[ns]\n",
      " 1   Cliente          20 non-null     object        \n",
      " 2   Valor da compra  20 non-null     float64       \n",
      "dtypes: datetime64[ns](1), float64(1), object(1)\n",
      "memory usage: 612.0+ bytes\n"
     ]
    }
   ],
   "execution_count": 25
  },
  {
   "metadata": {},
   "cell_type": "code",
   "outputs": [],
   "execution_count": null,
   "source": "",
   "id": "acb7fd3cfa26a452"
  }
 ],
 "metadata": {
  "kernelspec": {
   "display_name": "Python 3",
   "language": "python",
   "name": "python3"
  },
  "language_info": {
   "codemirror_mode": {
    "name": "ipython",
    "version": 2
   },
   "file_extension": ".py",
   "mimetype": "text/x-python",
   "name": "python",
   "nbconvert_exporter": "python",
   "pygments_lexer": "ipython2",
   "version": "2.7.6"
  }
 },
 "nbformat": 4,
 "nbformat_minor": 5
}
