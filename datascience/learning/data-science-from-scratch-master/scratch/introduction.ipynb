{
 "cells": [
  {
   "metadata": {},
   "cell_type": "markdown",
   "source": [
    "# tarefa 01\n",
    "Identificar os \"conectores-chaves\" entre um lista usuarios.\n",
    "### Dados:\n",
    " - data dump (trata-se de uma lista em que cada usuario é representado por um dict, que contém o seu `id`(int) e seu `name`)\n",
    "  - dados de relação de amizade em uma lista de pares"
   ],
   "id": "cad52c8aa6a8a368"
  },
  {
   "cell_type": "code",
   "id": "initial_id",
   "metadata": {
    "collapsed": true,
    "ExecuteTime": {
     "end_time": "2025-08-15T19:16:25.712061Z",
     "start_time": "2025-08-15T19:16:25.709163Z"
    }
   },
   "source": [
    "# data dump\n",
    "users = [\n",
    "    { \"id\": 0, \"name\": \"Hero\" },\n",
    "    { \"id\": 1, \"name\": \"Dunn\" },\n",
    "    { \"id\": 2, \"name\": \"Sue\" },\n",
    "    { \"id\": 3, \"name\": \"Chi\" },\n",
    "    { \"id\": 4, \"name\": \"Thor\" },\n",
    "    { \"id\": 5, \"name\": \"Clive\" },\n",
    "    { \"id\": 6, \"name\": \"Hicks\" },\n",
    "    { \"id\": 7, \"name\": \"Devin\" },\n",
    "    { \"id\": 8, \"name\": \"Kate\" },\n",
    "    { \"id\": 9, \"name\": \"Klein\" }\n",
    "]"
   ],
   "outputs": [],
   "execution_count": 1
  },
  {
   "metadata": {
    "ExecuteTime": {
     "end_time": "2025-08-15T19:16:50.235244Z",
     "start_time": "2025-08-15T19:16:50.233570Z"
    }
   },
   "cell_type": "code",
   "source": [
    "friendship_pairs = [(0, 1), (0, 2), (1, 2), (1, 3), (2, 3), (3, 4),\n",
    "                    (4, 5), (5, 6), (5, 7), (6, 8), (7, 8), (8, 9)]"
   ],
   "id": "59f5587f00fc9e1e",
   "outputs": [],
   "execution_count": 2
  },
  {
   "metadata": {},
   "cell_type": "markdown",
   "source": [
    "> Uma lista de pares não é eficiente para representar as amizades do usuario 1, pois é necessario iterar todos os pares em busca dos que contem o usuario 1. se houver um grande numero de pares, isso levará muito tempo\n",
    "\n",
    "### Complexidade\n",
    "\n",
    "Se $n$ é o número de pares (arestas) na lista:\n",
    "- **Tempo**: O algoritmo precisa olhar cada par uma vez → $O(n)$.\n",
    "- **Espaço adicional**: Apenas para armazenar o resultado ou variáveis auxiliares → $O(f)$, onde $f$ = número de amigos do usuário 1 (para armazenar o resultado), $O(1)$ se ignorarmos a saída.\n",
    "\n",
    "**Problema**: Se a lista tiver milhões de pares, a busca se torna lenta."
   ],
   "id": "5ccac20cf6438229"
  },
  {
   "metadata": {
    "ExecuteTime": {
     "end_time": "2025-08-15T21:03:30.695716Z",
     "start_time": "2025-08-15T21:03:30.693753Z"
    }
   },
   "cell_type": "code",
   "source": [
    "# Lista de pares (ingênua)\n",
    "user = 1\n",
    "\n",
    "# Encontrar todos os amigos do usuário 1\n",
    "friends_of_user = []\n",
    "for a, b in friendship_pairs:\n",
    "    if a == user:\n",
    "        friends_of_user.append(b)\n",
    "    elif b == user:\n",
    "        friends_of_user.append(a)\n",
    "\n",
    "print(friends_of_user)\n"
   ],
   "id": "80f12a1869b933eb",
   "outputs": [
    {
     "name": "stdout",
     "output_type": "stream",
     "text": [
      "[0, 2, 3]\n"
     ]
    }
   ],
   "execution_count": 8
  },
  {
   "metadata": {},
   "cell_type": "markdown",
   "source": [
    "### Complexidade:\n",
    "- Tempo:\n",
    "    - **Construção**: $O(n)$, percorremos cada par uma vez.\n",
    "    - **Consulta**: $O(g)$, onde $g$ = número de amigos do usuário 1.\n",
    "\n",
    "**Vantagem**: A consulta é muito mais rápida, principalmente em redes grandes."
   ],
   "id": "29cff616f0626e5a"
  },
  {
   "metadata": {
    "ExecuteTime": {
     "end_time": "2025-08-15T21:09:38.282633Z",
     "start_time": "2025-08-15T21:09:38.280477Z"
    }
   },
   "cell_type": "code",
   "source": [
    "# initialize the dict an ampty list for each user id:\n",
    "friendship = {user[\"id\"]: [] for user in users}\n",
    "friendship"
   ],
   "id": "7b716a8b84b8ded2",
   "outputs": [
    {
     "data": {
      "text/plain": [
       "{0: [], 1: [], 2: [], 3: [], 4: [], 5: [], 6: [], 7: [], 8: [], 9: []}"
      ]
     },
     "execution_count": 10,
     "metadata": {},
     "output_type": "execute_result"
    }
   ],
   "execution_count": 10
  },
  {
   "metadata": {
    "ExecuteTime": {
     "end_time": "2025-08-15T21:14:21.622622Z",
     "start_time": "2025-08-15T21:14:21.620601Z"
    }
   },
   "cell_type": "code",
   "source": [
    "for a, b in friendship_pairs:\n",
    "    print(f\"chave: {a}, valor: {b}\")"
   ],
   "id": "56f83f4926723266",
   "outputs": [
    {
     "name": "stdout",
     "output_type": "stream",
     "text": [
      "chave: 0, valor: 1\n",
      "chave: 0, valor: 2\n",
      "chave: 1, valor: 2\n",
      "chave: 1, valor: 3\n",
      "chave: 2, valor: 3\n",
      "chave: 3, valor: 4\n",
      "chave: 4, valor: 5\n",
      "chave: 5, valor: 6\n",
      "chave: 5, valor: 7\n",
      "chave: 6, valor: 8\n",
      "chave: 7, valor: 8\n",
      "chave: 8, valor: 9\n"
     ]
    }
   ],
   "execution_count": 12
  },
  {
   "metadata": {
    "ExecuteTime": {
     "end_time": "2025-08-15T21:11:40.210448Z",
     "start_time": "2025-08-15T21:11:40.206936Z"
    }
   },
   "cell_type": "code",
   "source": [
    "# Construir lista de adjacência\n",
    "adjacency = {}\n",
    "for a, b in friendship_pairs:\n",
    "    adjacency.setdefault(a, []).append(b)\n",
    "    adjacency.setdefault(b, []).append(a)\n",
    "\n",
    "# Agora é muito rápido acessar os amigos de qualquer usuário\n",
    "friends_of_user = adjacency.get(user, [])\n",
    "print(friends_of_user)\n",
    "adjacency\n"
   ],
   "id": "94c11e2a231f0db2",
   "outputs": [
    {
     "name": "stdout",
     "output_type": "stream",
     "text": [
      "[0, 2, 3]\n"
     ]
    },
    {
     "data": {
      "text/plain": [
       "{0: [1, 2],\n",
       " 1: [0, 2, 3],\n",
       " 2: [0, 1, 3],\n",
       " 3: [1, 2, 4],\n",
       " 4: [3, 5],\n",
       " 5: [4, 6, 7],\n",
       " 6: [5, 8],\n",
       " 7: [5, 8],\n",
       " 8: [6, 7, 9],\n",
       " 9: [8]}"
      ]
     },
     "execution_count": 11,
     "metadata": {},
     "output_type": "execute_result"
    }
   ],
   "execution_count": 11
  },
  {
   "metadata": {
    "ExecuteTime": {
     "end_time": "2025-08-15T20:58:30.434385Z",
     "start_time": "2025-08-15T20:58:30.431655Z"
    }
   },
   "cell_type": "code",
   "source": [
    "# Lista de adjacência (usando dicionário)\n",
    "# And loop over the friendship pairs to populate it:\n",
    "for i, j in friendship_pairs:\n",
    "    friendship[i].append(j)\n",
    "    friendship[j].append(i)\n",
    "friendship"
   ],
   "id": "f06ca1e8185b36d6",
   "outputs": [
    {
     "data": {
      "text/plain": [
       "{0: [1, 2, 1, 2, 1, 2],\n",
       " 1: [0, 2, 3, 0, 2, 3, 0, 2, 3],\n",
       " 2: [0, 1, 3, 0, 1, 3, 0, 1, 3],\n",
       " 3: [1, 2, 4, 1, 2, 4, 1, 2, 4],\n",
       " 4: [3, 5, 3, 5, 3, 5],\n",
       " 5: [4, 6, 7, 4, 6, 7, 4, 6, 7],\n",
       " 6: [5, 8, 5, 8, 5, 8],\n",
       " 7: [5, 8, 5, 8, 5, 8],\n",
       " 8: [6, 7, 9, 6, 7, 9, 6, 7, 9],\n",
       " 9: [8, 8, 8]}"
      ]
     },
     "execution_count": 7,
     "metadata": {},
     "output_type": "execute_result"
    }
   ],
   "execution_count": 7
  },
  {
   "metadata": {},
   "cell_type": "code",
   "outputs": [],
   "execution_count": null,
   "source": "",
   "id": "f0fd47076af1374"
  }
 ],
 "metadata": {
  "kernelspec": {
   "display_name": "Python 3",
   "language": "python",
   "name": "python3"
  },
  "language_info": {
   "codemirror_mode": {
    "name": "ipython",
    "version": 2
   },
   "file_extension": ".py",
   "mimetype": "text/x-python",
   "name": "python",
   "nbconvert_exporter": "python",
   "pygments_lexer": "ipython2",
   "version": "2.7.6"
  }
 },
 "nbformat": 4,
 "nbformat_minor": 5
}
