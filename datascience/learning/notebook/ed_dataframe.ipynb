{
 "cells": [
  {
   "metadata": {},
   "cell_type": "markdown",
   "source": [
    "# Do ponto de vista da estrutura de dados, o que é um DataFrame?\n",
    "\n",
    "Em ciência da computação, um DataFrame é uma estrutura de dados composta, que pode ser descrita como:\n",
    "\n",
    "- Uma tabela bidimensional baseada em uma coleção ordenada de colunas nomeadas, onde cada coluna é uma sequência homogênea (tipo único) e as colunas podem ter tipos heterogêneos entre si.\n",
    "\n",
    "## Em termos técnicos:\n",
    "\n",
    "Um DataFrame é equivalente a:\n",
    "\n",
    "1. Um vetor de registros (tuplas) → se pensarmos linha por linha.\n",
    "2. Ou um dicionário de vetores (listas/arrays) → se pensarmos por colunas.\n",
    "\n",
    "## Estrutura interna (em Pandas, por exemplo):\n",
    "\n",
    "Internamente, o Pandas implementa um DataFrame como:\n",
    "```python\n",
    "DataFrame ≈ OrderedDict<str, Series>\n",
    "\n",
    "```\n",
    "- Cada coluna é uma Series (um array unidimensional com índice).\n",
    "- O DataFrame é um mapeamento de nomes de colunas para essas Series.\n",
    "- Todas as Series compartilham o mesmo índice (linha por linha).\n",
    "\n",
    "## Comparação com estruturas clássicas:\n",
    "| Conceito clássico\t| Equivalente no DataFrame\n",
    "| ----------------------|--------------------------\n",
    "| Tabela\t| DataFrame\n",
    "| Registro/Tupla\t| Linha (Row)\n",
    "| Campo/Campo nomeado\t| Coluna\n",
    "| Vetor homogêneo\t| Série (Series)\n",
    "| Lista de tuplas\t| DataFrame por linha\n",
    "| Dicionário de listas\t| DataFrame por coluna\n",
    "| Array 2D com rótulos\t| DataFrame (com index e columns)\n",
    "\n",
    "## Propriedades formais\n",
    "\n",
    "-    Bidimensionalidade: dados indexados por duas chaves: linha (index) e coluna (column).\n",
    "\n",
    "-    Heterogeneidade por coluna: cada coluna pode ter um tipo distinto, ao contrário de um numpy.ndarray, que é homogêneo.\n",
    "\n",
    "-    Rótulos nomeados: permite acesso eficiente por nomes (label-based), além de posições (position-based).\n",
    "\n",
    "🏗️ Estrutura conceitual (modelo de dados):\n",
    "```plaintext\n",
    "DataFrame\n",
    "├── Index (índice das linhas)\n",
    "├── Columns (rótulos das colunas)\n",
    "└── Data (valores em células, organizados por coluna)\n",
    "\n",
    "```\n",
    "## Em resumo:\n",
    "Um `DataFrame`, em ciência da computação, é uma estrutura de dados composta e rotulada, que combina características de `arrays`, `listas`, `dicionários` e `tabelas relacionais` — permitindo representação, acesso e manipulação eficiente de dados tabulares heterogêneos.\n",
    "\n",
    "## Exemplo prático"
   ],
   "id": "46034d25a4581754"
  },
  {
   "cell_type": "code",
   "id": "initial_id",
   "metadata": {
    "collapsed": true,
    "ExecuteTime": {
     "end_time": "2025-07-21T18:03:20.509659Z",
     "start_time": "2025-07-21T18:03:20.391807Z"
    }
   },
   "source": "import pandas as pd",
   "outputs": [],
   "execution_count": 1
  },
  {
   "metadata": {
    "ExecuteTime": {
     "end_time": "2025-07-21T18:03:50.552678Z",
     "start_time": "2025-07-21T18:03:50.545847Z"
    }
   },
   "cell_type": "code",
   "source": [
    "# Criando um DataFrame simples\n",
    "df = pd.DataFrame({\n",
    "    'nome': ['Ana', 'Bruno', 'Carlos'],\n",
    "    'idade': [25, 30, 28],\n",
    "    'cidade': ['SP', 'RJ', 'BH']\n",
    "})\n",
    "df"
   ],
   "id": "44b358f2f3f68fcb",
   "outputs": [
    {
     "data": {
      "text/plain": [
       "     nome  idade cidade\n",
       "0     Ana     25     SP\n",
       "1   Bruno     30     RJ\n",
       "2  Carlos     28     BH"
      ],
      "text/html": [
       "<div>\n",
       "<style scoped>\n",
       "    .dataframe tbody tr th:only-of-type {\n",
       "        vertical-align: middle;\n",
       "    }\n",
       "\n",
       "    .dataframe tbody tr th {\n",
       "        vertical-align: top;\n",
       "    }\n",
       "\n",
       "    .dataframe thead th {\n",
       "        text-align: right;\n",
       "    }\n",
       "</style>\n",
       "<table border=\"1\" class=\"dataframe\">\n",
       "  <thead>\n",
       "    <tr style=\"text-align: right;\">\n",
       "      <th></th>\n",
       "      <th>nome</th>\n",
       "      <th>idade</th>\n",
       "      <th>cidade</th>\n",
       "    </tr>\n",
       "  </thead>\n",
       "  <tbody>\n",
       "    <tr>\n",
       "      <th>0</th>\n",
       "      <td>Ana</td>\n",
       "      <td>25</td>\n",
       "      <td>SP</td>\n",
       "    </tr>\n",
       "    <tr>\n",
       "      <th>1</th>\n",
       "      <td>Bruno</td>\n",
       "      <td>30</td>\n",
       "      <td>RJ</td>\n",
       "    </tr>\n",
       "    <tr>\n",
       "      <th>2</th>\n",
       "      <td>Carlos</td>\n",
       "      <td>28</td>\n",
       "      <td>BH</td>\n",
       "    </tr>\n",
       "  </tbody>\n",
       "</table>\n",
       "</div>"
      ]
     },
     "execution_count": 4,
     "metadata": {},
     "output_type": "execute_result"
    }
   ],
   "execution_count": 4
  },
  {
   "metadata": {
    "ExecuteTime": {
     "end_time": "2025-07-21T18:05:30.693831Z",
     "start_time": "2025-07-21T18:05:30.691483Z"
    }
   },
   "cell_type": "code",
   "source": [
    "# Explorando a estrutura interna\n",
    "# colunas\n",
    "df.columns"
   ],
   "id": "e46a504e66fb162c",
   "outputs": [
    {
     "data": {
      "text/plain": [
       "Index(['nome', 'idade', 'cidade'], dtype='object')"
      ]
     },
     "execution_count": 7,
     "metadata": {},
     "output_type": "execute_result"
    }
   ],
   "execution_count": 7
  },
  {
   "metadata": {
    "ExecuteTime": {
     "end_time": "2025-07-21T18:05:15.745410Z",
     "start_time": "2025-07-21T18:05:15.743447Z"
    }
   },
   "cell_type": "code",
   "source": [
    "# index - linhas\n",
    "df.index"
   ],
   "id": "eac0a268198477c3",
   "outputs": [
    {
     "data": {
      "text/plain": [
       "RangeIndex(start=0, stop=3, step=1)"
      ]
     },
     "execution_count": 6,
     "metadata": {},
     "output_type": "execute_result"
    }
   ],
   "execution_count": 6
  },
  {
   "metadata": {},
   "cell_type": "markdown",
   "source": "> → O índice das linhas também é uma estrutura (Index), que pode ser um RangeIndex, DatetimeIndex, etc.",
   "id": "de05ccb4f80eec2b"
  },
  {
   "metadata": {
    "ExecuteTime": {
     "end_time": "2025-07-21T18:06:59.958329Z",
     "start_time": "2025-07-21T18:06:59.956350Z"
    }
   },
   "cell_type": "code",
   "source": [
    "# Dados do DataFrame (valores crus)\n",
    "df.values"
   ],
   "id": "9dc421531af71ea0",
   "outputs": [
    {
     "data": {
      "text/plain": [
       "array([['Ana', 25, 'SP'],\n",
       "       ['Bruno', 30, 'RJ'],\n",
       "       ['Carlos', 28, 'BH']], dtype=object)"
      ]
     },
     "execution_count": 9,
     "metadata": {},
     "output_type": "execute_result"
    }
   ],
   "execution_count": 9
  },
  {
   "metadata": {},
   "cell_type": "markdown",
   "source": "> → Um numpy.ndarray 2D com os dados (menos eficiente para tipos mistos).",
   "id": "c246a39c16445742"
  },
  {
   "metadata": {
    "ExecuteTime": {
     "end_time": "2025-07-21T18:08:29.477542Z",
     "start_time": "2025-07-21T18:08:29.475623Z"
    }
   },
   "cell_type": "code",
   "source": [
    "# Coluna isolada é uma Series (estrutura unidimensional)\n",
    "type(df['idade'])"
   ],
   "id": "d154af3e5e748a80",
   "outputs": [
    {
     "data": {
      "text/plain": [
       "pandas.core.series.Series"
      ]
     },
     "execution_count": 10,
     "metadata": {},
     "output_type": "execute_result"
    }
   ],
   "execution_count": 10
  },
  {
   "metadata": {},
   "cell_type": "markdown",
   "source": "> → Cada coluna é uma Series, que é um array com índice associado.",
   "id": "4ae1fbeea52c702c"
  },
  {
   "metadata": {
    "ExecuteTime": {
     "end_time": "2025-07-21T18:09:37.993472Z",
     "start_time": "2025-07-21T18:09:37.990290Z"
    }
   },
   "cell_type": "code",
   "source": [
    "# Representação como dict de colunas\n",
    "df.to_dict()"
   ],
   "id": "3371a5121a7c90c1",
   "outputs": [
    {
     "data": {
      "text/plain": [
       "{'nome': {0: 'Ana', 1: 'Bruno', 2: 'Carlos'},\n",
       " 'idade': {0: 25, 1: 30, 2: 28},\n",
       " 'cidade': {0: 'SP', 1: 'RJ', 2: 'BH'}}"
      ]
     },
     "execution_count": 11,
     "metadata": {},
     "output_type": "execute_result"
    }
   ],
   "execution_count": 11
  },
  {
   "metadata": {},
   "cell_type": "markdown",
   "source": "> → Um DataFrame pode ser visto como um dicionário de colunas, onde cada valor é um dicionário de índice → valor.",
   "id": "1afa2c849a3109e6"
  },
  {
   "metadata": {},
   "cell_type": "markdown",
   "source": [
    "## Estrutura conceitual\n",
    "``` plaintext\n",
    "DataFrame df\n",
    "│\n",
    "├── .columns ──> ['nome', 'idade', 'cidade']\n",
    "├── .index   ──> [0, 1, 2]\n",
    "└── .data (colunas como Series):\n",
    "    ├── df['nome']   → ['Ana', 'Bruno', 'Carlos']\n",
    "    ├── df['idade']  → [25, 30, 28]\n",
    "    └── df['cidade'] → ['SP', 'RJ', 'BH']\n",
    "\n",
    "```\n",
    "## Conclusão técnica:\n",
    "\n",
    "    Internamente, o DataFrame é um mapeamento de nomes de colunas para Series, e todas as Series compartilham o mesmo índice.\n",
    "\n",
    "    Essa estrutura permite realizar operações vetorizadas, filtragem, agrupamento, merge, etc., de forma eficiente."
   ],
   "id": "76ac1afcd1850f2d"
  },
  {
   "metadata": {},
   "cell_type": "code",
   "outputs": [],
   "execution_count": null,
   "source": "",
   "id": "560d8991d3995239"
  }
 ],
 "metadata": {
  "kernelspec": {
   "display_name": "Python 3",
   "language": "python",
   "name": "python3"
  },
  "language_info": {
   "codemirror_mode": {
    "name": "ipython",
    "version": 2
   },
   "file_extension": ".py",
   "mimetype": "text/x-python",
   "name": "python",
   "nbconvert_exporter": "python",
   "pygments_lexer": "ipython2",
   "version": "2.7.6"
  }
 },
 "nbformat": 4,
 "nbformat_minor": 5
}
