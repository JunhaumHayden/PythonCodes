{
 "nbformat": 4,
 "nbformat_minor": 0,
 "metadata": {
  "colab": {
   "provenance": []
  },
  "kernelspec": {
   "name": "python3",
   "display_name": "Python 3 (ipykernel)",
   "language": "python"
  },
  "language_info": {
   "name": "python"
  }
 },
 "cells": [
  {
   "cell_type": "markdown",
   "source": [
    "O dataset utilizado para esse desafio é uma versão modificada do arquivo presente no Kaggle:\n",
    "https://www.kaggle.com/datasets/joshmcadams/oranges-vs-grapefruit\n",
    "\n",
    "O link do arquivo raw que vamos usar (aquele usamos para ler direto do Github) é esse aqui: \n",
    "https://raw.githubusercontent.com/allanspadini/numpy/dados/citrus.csv"
   ],
   "metadata": {
    "id": "MDEopNpWHa21"
   }
  },
  {
   "metadata": {
    "ExecuteTime": {
     "end_time": "2025-08-09T19:35:14.859461Z",
     "start_time": "2025-08-09T19:35:14.857755Z"
    }
   },
   "cell_type": "code",
   "source": [
    "import numpy as np\n",
    "import pandas as pd"
   ],
   "outputs": [],
   "execution_count": 4
  },
  {
   "cell_type": "markdown",
   "source": [
    "# Leitura dos dados "
   ],
   "metadata": {
    "id": "tD0UDJwx11Pm"
   }
  },
  {
   "cell_type": "markdown",
   "source": [
    "Se você clicar no link verá que temos um arquivo com 6 colunas, sendo a primeira coluna do arquivo uma coluna de texto e a primeira linha do arquivo também é uma coluna de texto. \n",
    "\n"
   ],
   "metadata": {
    "id": "JtAll0D51rnJ"
   }
  },
  {
   "metadata": {
    "ExecuteTime": {
     "end_time": "2025-08-09T19:36:08.350283Z",
     "start_time": "2025-08-09T19:36:08.266479Z"
    }
   },
   "cell_type": "code",
   "source": [
    "# Apenas para visualizar o arquivo\n",
    "df = pd.read_csv('https://raw.githubusercontent.com/allanspadini/numpy/dados/citrus.csv')\n",
    "df.head()\n"
   ],
   "outputs": [
    {
     "data": {
      "text/plain": [
       "     nome  diametro   peso  vermelho  verde  azul\n",
       "0  orange      2.96  86.76       172     85     2\n",
       "1  orange      3.91  88.05       166     78     3\n",
       "2  orange      4.42  95.17       156     81     2\n",
       "3  orange      4.47  95.60       163     81     4\n",
       "4  orange      4.48  95.76       161     72     9"
      ],
      "text/html": [
       "<div>\n",
       "<style scoped>\n",
       "    .dataframe tbody tr th:only-of-type {\n",
       "        vertical-align: middle;\n",
       "    }\n",
       "\n",
       "    .dataframe tbody tr th {\n",
       "        vertical-align: top;\n",
       "    }\n",
       "\n",
       "    .dataframe thead th {\n",
       "        text-align: right;\n",
       "    }\n",
       "</style>\n",
       "<table border=\"1\" class=\"dataframe\">\n",
       "  <thead>\n",
       "    <tr style=\"text-align: right;\">\n",
       "      <th></th>\n",
       "      <th>nome</th>\n",
       "      <th>diametro</th>\n",
       "      <th>peso</th>\n",
       "      <th>vermelho</th>\n",
       "      <th>verde</th>\n",
       "      <th>azul</th>\n",
       "    </tr>\n",
       "  </thead>\n",
       "  <tbody>\n",
       "    <tr>\n",
       "      <th>0</th>\n",
       "      <td>orange</td>\n",
       "      <td>2.96</td>\n",
       "      <td>86.76</td>\n",
       "      <td>172</td>\n",
       "      <td>85</td>\n",
       "      <td>2</td>\n",
       "    </tr>\n",
       "    <tr>\n",
       "      <th>1</th>\n",
       "      <td>orange</td>\n",
       "      <td>3.91</td>\n",
       "      <td>88.05</td>\n",
       "      <td>166</td>\n",
       "      <td>78</td>\n",
       "      <td>3</td>\n",
       "    </tr>\n",
       "    <tr>\n",
       "      <th>2</th>\n",
       "      <td>orange</td>\n",
       "      <td>4.42</td>\n",
       "      <td>95.17</td>\n",
       "      <td>156</td>\n",
       "      <td>81</td>\n",
       "      <td>2</td>\n",
       "    </tr>\n",
       "    <tr>\n",
       "      <th>3</th>\n",
       "      <td>orange</td>\n",
       "      <td>4.47</td>\n",
       "      <td>95.60</td>\n",
       "      <td>163</td>\n",
       "      <td>81</td>\n",
       "      <td>4</td>\n",
       "    </tr>\n",
       "    <tr>\n",
       "      <th>4</th>\n",
       "      <td>orange</td>\n",
       "      <td>4.48</td>\n",
       "      <td>95.76</td>\n",
       "      <td>161</td>\n",
       "      <td>72</td>\n",
       "      <td>9</td>\n",
       "    </tr>\n",
       "  </tbody>\n",
       "</table>\n",
       "</div>"
      ]
     },
     "execution_count": 7,
     "metadata": {},
     "output_type": "execute_result"
    }
   ],
   "execution_count": 7
  },
  {
   "metadata": {},
   "cell_type": "markdown",
   "source": [
    "Analisando o arquivo, podemos ver que temos 5 colunas de dados numéricos, e a primeira coluna de texto e a primeira linha também de texto.\n",
    "Nessa etapa, deve-se efetuar a leitura dos dados:\n",
    "1. importar a `NumPy`\n",
    "2. Usar a metodo `loadtxt()`.\n",
    "3. Usear o link da url.\n",
    "4. `usecols`: para pular a primeira coluna.\n",
    "5. `np.arange`: para criar a sequência de números que representam as colunas.\n",
    "6. `skiprows=1`: para que a primeira linha de texto seja desconsiderada na leitura do arquivo."
   ]
  },
  {
   "cell_type": "code",
   "source": [
    "date = np.loadtxt('https://raw.githubusercontent.com/allanspadini/numpy/dados/citrus.csv',\n",
    "                        delimiter=',',\n",
    "                        usecols=np.arange(1,6),\n",
    "                        skiprows=1)\n",
    "date"
   ],
   "metadata": {
    "id": "ATVhjGg0HZs1",
    "ExecuteTime": {
     "end_time": "2025-08-09T19:33:35.110044Z",
     "start_time": "2025-08-09T19:33:35.104838Z"
    }
   },
   "outputs": [
    {
     "data": {
      "text/plain": [
       "array([[  2.96,  86.76, 172.  ,  85.  ,   2.  ],\n",
       "       [  3.91,  88.05, 166.  ,  78.  ,   3.  ],\n",
       "       [  4.42,  95.17, 156.  ,  81.  ,   2.  ],\n",
       "       ...,\n",
       "       [ 15.59, 256.5 , 168.  ,  82.  ,  20.  ],\n",
       "       [ 15.92, 260.14, 142.  ,  72.  ,  11.  ],\n",
       "       [ 16.45, 261.51, 152.  ,  74.  ,   2.  ]])"
      ]
     },
     "execution_count": 3,
     "metadata": {},
     "output_type": "execute_result"
    }
   ],
   "execution_count": 3
  },
  {
   "metadata": {},
   "cell_type": "markdown",
   "source": [
    "## vantagens dos arrays\n",
    "As listas em Python são estruturas de dados básicas que podem conter elementos de diferentes tipos (inteiros, strings, outras listas, etc.). Já a Numpy (Numerical Python) é uma biblioteca do Python que fornece suporte a arrays multidimensionais, estruturas de dados mais avançadas e eficientes para cálculos numéricos.\n",
    "\n",
    "Aqui está um exemplo de como transformar uma lista em um array Numpy:"
   ]
  },
  {
   "metadata": {},
   "cell_type": "code",
   "outputs": [],
   "execution_count": null,
   "source": [
    "# cria uma lista\n",
    "lista = [1, 2, 3, 4, 5]\n",
    "\n",
    "# transforma a lista em um array Numpy\n",
    "array = np.array(lista)\n",
    "\n",
    "print(\"Lista: \", lista)\n",
    "print(\"Array: \", array)\n"
   ]
  },
  {
   "metadata": {},
   "cell_type": "markdown",
   "source": [
    "Existem várias vantagens em usar arrays Numpy ao invés de listas regulares do Python e aqui estão algumas:\n",
    "\n",
    "### Eficiência de processamento\n",
    "\n",
    "As operações matemáticas em arrays Numpy são muito mais rápidas do que em listas regulares, pois a NumPy foi otimizada para trabalhar com conjuntos de dados homogêneos e libera memória do computador rapidamente.\n",
    "\n",
    "### Facilidade de uso\n",
    "\n",
    "As operações matemáticas em arrays Numpy são expressas de forma muito mais clara e concisa do que em listas regulares, tornando o código mais fácil de ler e manter.\n",
    "\n",
    "### Integração com outras bibliotecas\n",
    "\n",
    "A Numpy é uma das bibliotecas mais utilizadas em ciência de dados e aprendizado de máquina. Muitas outras bibliotecas, como a Pandas e a Matplotlib, são projetadas para trabalhar diretamente com arrays Numpy.\n",
    "\n",
    "Comparativo de performance: `listas` vs `arrays`\n",
    "\n",
    "Focando na eficiência, podemos comparar o tempo levado para efetuar um cálculo utilizando listas e arrays."
   ]
  },
  {
   "metadata": {},
   "cell_type": "code",
   "outputs": [],
   "execution_count": null,
   "source": [
    "import time\n",
    "\n",
    "# cria uma lista com 1000000 elementos\n",
    "lista = list(range(1000000))\n",
    "\n",
    "# transforma a lista em um array Numpy\n",
    "array = np.array(lista)\n",
    "\n",
    "# começa a cronometrar o tempo para a operação com a lista\n",
    "start_time = time.time()\n",
    "\n",
    "# realiza a operação de elevar ao quadrado cada elemento da lista\n",
    "lista_quadrado = [i**2 for i in lista]\n",
    "\n",
    "# para o cronômetro\n",
    "list_time = time.time() - start_time\n",
    "\n",
    "# começa a cronometrar o tempo para a operação com o array\n",
    "start_time = time.time()\n",
    "\n",
    "# realiza a operação de elevar ao quadrado cada elemento do array\n",
    "array_quadrado = array**2\n",
    "\n",
    "# para o cronômetro\n",
    "array_time = time.time() - start_time\n",
    "\n",
    "print(\"Tempo da operação com a lista: \", list_time)\n",
    "print(\"Tempo da operação com o array: \", array_time)\n"
   ]
  },
  {
   "metadata": {},
   "cell_type": "markdown",
   "source": ""
  },
  {
   "cell_type": "markdown",
   "source": [
    "## vantagens dos arrays\n",
    "As listas em Python são estruturas de dados básicas que podem conter elementos de diferentes tipos (inteiros, strings, outras listas, etc.). Já a Numpy (Numerical Python) é uma biblioteca do Python que fornece suporte a arrays multidimensionais, estruturas de dados mais avançadas e eficientes para cálculos numéricos.\n",
    "\n",
    "Aqui está um exemplo de como transformar uma lista em um array Numpy:## vantagens dos arrays\n",
    "As listas em Python são estruturas de dados básicas que podem conter elementos de diferentes tipos (inteiros, strings, outras listas, etc.). Já a Numpy (Numerical Python) é uma biblioteca do Python que fornece suporte a arrays multidimensionais, estruturas de dados mais avançadas e eficientes para cálculos numéricos.\n",
    "\n",
    "Aqui está um exemplo de como transformar uma lista em um array Numpy:# Seleção de dados"
   ],
   "metadata": {
    "id": "iBFZDsV75fjE"
   }
  },
  {
   "cell_type": "markdown",
   "source": [
    "Desses a colunas que iremos avaliar são as de diâmetro e peso. Crie um arrays específicos para guardar o diâmetro e peso da laranja e toranja. O diâmtro está na coluna zero e o peso na coluna 1. Os dados referentes a laranja vão até a linha 4999 e os referentes à toranja iniciam na linha 5000 do arquivo. "
   ],
   "metadata": {
    "id": "IDkwBFww5nEq"
   }
  },
  {
   "cell_type": "code",
   "source": [],
   "metadata": {
    "id": "cyzpCTh75Ih0"
   },
   "execution_count": null,
   "outputs": []
  },
  {
   "cell_type": "markdown",
   "source": [
    "# Visualização de dados"
   ],
   "metadata": {
    "id": "mcXYXlLC81em"
   }
  },
  {
   "cell_type": "markdown",
   "source": [
    "Importe a biblioteca matplotlib e crie um gráfico separado para a laranja e outro para a toranja do peso pelo diâmetro. "
   ],
   "metadata": {
    "id": "BVOuTNe485QX"
   }
  },
  {
   "cell_type": "code",
   "source": [],
   "metadata": {
    "id": "4K68mbLk8DvJ"
   },
   "execution_count": null,
   "outputs": []
  },
  {
   "cell_type": "markdown",
   "source": [
    "# O coeficiente das retas"
   ],
   "metadata": {
    "id": "-aGgWuRB-Uqv"
   }
  },
  {
   "cell_type": "markdown",
   "source": [
    "As duas parecem ter uma inclinação muito parecida em uma primeira inspeção visual vamos determinar os coeficientes da reta para cada um dos casos. \n",
    "\n",
    "Lembre que para o coeficiente angular precisamos implementar a função:\n",
    "$$ \\hat{a} = \\frac{n*Soma( X_i*Y_i ) - Soma( X_i )*Soma(Y_i)}{n Soma(X_i^2) - (Soma(X_i))^2}$$ \n",
    "\n",
    "e para o coeficiente linear:\n",
    "$$ \\hat{b} = Media(Y_i) - \\hat{a} * Media(X_i) $$\n"
   ],
   "metadata": {
    "id": "vc814-m7B1Xh"
   }
  },
  {
   "cell_type": "markdown",
   "source": [
    "Perceba que nesse caso o X é o diâmtro e o Y é o peso. Além disso o n é o número de elementos dentro do X, por exemplo.Ele vai ser diferente para a laranja e toranja. Determine o coefiecente para cada caso:"
   ],
   "metadata": {
    "id": "d4Hk5fyPCf3v"
   }
  },
  {
   "cell_type": "code",
   "source": [],
   "metadata": {
    "id": "n3J8iOeDBkgn"
   },
   "execution_count": null,
   "outputs": []
  },
  {
   "cell_type": "code",
   "source": [],
   "metadata": {
    "id": "OdUBKX3WDClF"
   },
   "execution_count": null,
   "outputs": []
  },
  {
   "cell_type": "code",
   "source": [],
   "metadata": {
    "id": "31oiIbk5DEcu"
   },
   "execution_count": null,
   "outputs": []
  },
  {
   "cell_type": "code",
   "source": [],
   "metadata": {
    "id": "LgVZSkLaDG_W"
   },
   "execution_count": null,
   "outputs": []
  },
  {
   "cell_type": "code",
   "source": [],
   "metadata": {
    "id": "C7CT4dwqDPlJ"
   },
   "execution_count": null,
   "outputs": []
  },
  {
   "cell_type": "code",
   "source": [],
   "metadata": {
    "id": "4VMDvta8DRad"
   },
   "execution_count": null,
   "outputs": []
  },
  {
   "cell_type": "markdown",
   "source": [
    "Se deu tudo você deve ter chegado em valores diferentes para cada um dos casos. Então, embora a inclinação da reta seja parecida nós descobrimos que os coeficientes da reta servem como uma forma de diferenciar se as frutas são laranjas ou toranjas. "
   ],
   "metadata": {
    "id": "MSBkD4piDWFx"
   }
  },
  {
   "cell_type": "markdown",
   "source": [
    "# Estimando através de números aleatórios"
   ],
   "metadata": {
    "id": "gnovlUPFD0dL"
   }
  },
  {
   "cell_type": "markdown",
   "source": [
    "Agora ao invés de usar a fórmula fechada utilize a np.random.uniform para gerar valores aleatórios para determinar o coeficiente angular da toranja. Nesse caso vamos assumir que b é igual a 17. Utilize o random.seed(84). "
   ],
   "metadata": {
    "id": "wyjSiESPD75_"
   }
  },
  {
   "cell_type": "code",
   "source": [],
   "metadata": {
    "id": "BBVu9EVqDT-R"
   },
   "execution_count": null,
   "outputs": []
  },
  {
   "cell_type": "code",
   "source": [],
   "metadata": {
    "id": "_M7pZGIpEXxZ"
   },
   "execution_count": null,
   "outputs": []
  },
  {
   "cell_type": "code",
   "source": [],
   "metadata": {
    "id": "PIyp8gDlEqa2"
   },
   "execution_count": null,
   "outputs": []
  },
  {
   "cell_type": "markdown",
   "source": [
    "\n",
    "Se deu tudo certo a menor norma que você alcançou foi 104.40529157196431."
   ],
   "metadata": {
    "id": "HH8OQeRFEyXN"
   }
  },
  {
   "cell_type": "code",
   "source": [
    "np.min(norma)"
   ],
   "metadata": {
    "id": "QIOTN9cOEs-V"
   },
   "execution_count": null,
   "outputs": []
  },
  {
   "cell_type": "markdown",
   "source": [
    "Algo que não foi passado no curso é que também podemos utilizar condições dentro dos colchetes dos arrays para encontrar um determinado valor. O código abaixo mostra o coeficiente angular que corresponde ao menor valor da norma. Repare que a condição é a: norma == np.min(norma)."
   ],
   "metadata": {
    "id": "y9wucQ9_FDe9"
   }
  },
  {
   "cell_type": "code",
   "source": [
    "coef_angulares[norma == np.min(norma)]"
   ],
   "metadata": {
    "id": "b2PIjDBfExLd"
   },
   "execution_count": null,
   "outputs": []
  },
  {
   "metadata": {},
   "cell_type": "code",
   "outputs": [],
   "execution_count": null,
   "source": [
    "norma = np.array([])\n",
    "np.random.seed(84)\n",
    "coef_angulares = np.random.uniform(low=0.0,high=30.0,size=100)\n",
    "\n",
    "for i in range(100):\n",
    "  norma = np.append(norma,np.linalg.norm(Y- (coef_angulares[i]*X+b)))"
   ]
  },
  {
   "cell_type": "markdown",
   "source": [
    "# Parabéns por ter chegado até aqui.\n",
    "\n",
    "https://media.giphy.com/media/l2JJHEW1lToNnJzxe/giphy.gif"
   ],
   "metadata": {
    "id": "MJLSkwqMGzE5"
   }
  }
 ]
}
