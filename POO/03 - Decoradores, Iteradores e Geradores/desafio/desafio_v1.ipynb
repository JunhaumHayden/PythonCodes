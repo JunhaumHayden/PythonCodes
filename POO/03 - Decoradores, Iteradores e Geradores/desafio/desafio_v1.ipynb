{
 "cells": [
  {
   "metadata": {
    "ExecuteTime": {
     "end_time": "2025-08-22T17:27:51.946894Z",
     "start_time": "2025-08-22T17:27:33.840473Z"
    }
   },
   "cell_type": "code",
   "source": [
    "from desafio_v1 import *\n",
    "\n",
    "main_menu()"
   ],
   "id": "33820639427f7681",
   "outputs": [
    {
     "name": "stdout",
     "output_type": "stream",
     "text": [
      "\n",
      "@@@ Operação inválida, por favor selecione novamente a operação desejada. @@@\n"
     ]
    }
   ],
   "execution_count": 1
  }
 ],
 "metadata": {
  "kernelspec": {
   "display_name": "Python 3",
   "language": "python",
   "name": "python3"
  },
  "language_info": {
   "codemirror_mode": {
    "name": "ipython",
    "version": 2
   },
   "file_extension": ".py",
   "mimetype": "text/x-python",
   "name": "python",
   "nbconvert_exporter": "python",
   "pygments_lexer": "ipython2",
   "version": "2.7.6"
  }
 },
 "nbformat": 4,
 "nbformat_minor": 5
}
