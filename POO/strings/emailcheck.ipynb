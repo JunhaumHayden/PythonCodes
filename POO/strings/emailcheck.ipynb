{
 "cells": [
  {
   "cell_type": "code",
   "id": "initial_id",
   "metadata": {
    "collapsed": true,
    "ExecuteTime": {
     "end_time": "2025-07-12T18:06:01.943174Z",
     "start_time": "2025-07-12T18:05:46.549556Z"
    }
   },
   "source": [
    "# Entrada do usuário\n",
    "email = input().strip()\n",
    "\n",
    "# TODO: Verifique as regras do e-mail:\n",
    "if (\n",
    "  ' ' not in email and\n",
    "  email.count('@') == 1 and\n",
    "  not email.startswith('@') and\n",
    "  not email.endswith('@') and\n",
    "  '.' in email.split('@')[-1]\n",
    "  ):\n",
    "    print('E-mail válido')\n",
    "else:\n",
    "    print('E-mail inválido')"
   ],
   "outputs": [
    {
     "name": "stdout",
     "output_type": "stream",
     "text": [
      "E-mail válido\n"
     ]
    }
   ],
   "execution_count": 3
  }
 ],
 "metadata": {
  "kernelspec": {
   "display_name": "Python 3",
   "language": "python",
   "name": "python3"
  },
  "language_info": {
   "codemirror_mode": {
    "name": "ipython",
    "version": 2
   },
   "file_extension": ".py",
   "mimetype": "text/x-python",
   "name": "python",
   "nbconvert_exporter": "python",
   "pygments_lexer": "ipython2",
   "version": "2.7.6"
  }
 },
 "nbformat": 4,
 "nbformat_minor": 5
}
