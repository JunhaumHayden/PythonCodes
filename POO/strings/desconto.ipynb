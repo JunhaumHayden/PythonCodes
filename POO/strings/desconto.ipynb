{
 "cells": [
  {
   "cell_type": "code",
   "id": "initial_id",
   "metadata": {
    "collapsed": true,
    "ExecuteTime": {
     "end_time": "2025-07-12T17:34:17.573378Z",
     "start_time": "2025-07-12T17:34:17.570510Z"
    }
   },
   "source": [
    "# Dicionário com os valores de desconto\n",
    "descontos = {\n",
    "    \"DESCONTO10\": 0.10,\n",
    "    \"DESCONTO20\": 0.20,\n",
    "    \"SEM_DESCONTO\": 0.00\n",
    "}\n",
    "descontos"
   ],
   "outputs": [
    {
     "data": {
      "text/plain": [
       "{'DESCONTO10': 0.1, 'DESCONTO20': 0.2, 'SEM_DESCONTO': 0.0}"
      ]
     },
     "execution_count": 3,
     "metadata": {},
     "output_type": "execute_result"
    }
   ],
   "execution_count": 3
  },
  {
   "metadata": {},
   "cell_type": "code",
   "outputs": [],
   "execution_count": null,
   "source": [
    "# Entrada do usuário\n",
    "preco = float(input().strip())\n",
    "cupom = input().strip().upper()"
   ],
   "id": "799c9a4f926c0ee6"
  },
  {
   "metadata": {
    "ExecuteTime": {
     "end_time": "2025-07-12T17:34:20.194579Z",
     "start_time": "2025-07-12T17:34:20.193038Z"
    }
   },
   "cell_type": "code",
   "source": [
    "# Entrada do usuário\n",
    "preco = float(100)\n",
    "cupom = 'DESCONTO10'\n",
    "\n"
   ],
   "id": "c033e691eeb9c0a6",
   "outputs": [],
   "execution_count": 4
  },
  {
   "metadata": {
    "ExecuteTime": {
     "end_time": "2025-07-12T17:37:31.179519Z",
     "start_time": "2025-07-12T17:37:31.177783Z"
    }
   },
   "cell_type": "code",
   "source": [
    "if cupom in descontos:\n",
    "    desconto = descontos[cupom]\n",
    "    print (f'{preco * (1 - desconto):.2f}')\n",
    "else:\n",
    "    desconto = 0.00\n",
    "    print (f'{preco * (1 - desconto):.2f}')\n"
   ],
   "id": "77854bea89d0b4b4",
   "outputs": [
    {
     "name": "stdout",
     "output_type": "stream",
     "text": [
      "90.00\n"
     ]
    }
   ],
   "execution_count": 6
  }
 ],
 "metadata": {
  "kernelspec": {
   "display_name": "Python 3",
   "language": "python",
   "name": "python3"
  },
  "language_info": {
   "codemirror_mode": {
    "name": "ipython",
    "version": 2
   },
   "file_extension": ".py",
   "mimetype": "text/x-python",
   "name": "python",
   "nbconvert_exporter": "python",
   "pygments_lexer": "ipython2",
   "version": "2.7.6"
  }
 },
 "nbformat": 4,
 "nbformat_minor": 5
}
