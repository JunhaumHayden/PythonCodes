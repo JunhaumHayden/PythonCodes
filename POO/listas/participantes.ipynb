{
 "cells": [
  {
   "cell_type": "code",
   "id": "initial_id",
   "metadata": {
    "collapsed": true,
    "ExecuteTime": {
     "end_time": "2025-07-12T17:02:20.402611Z",
     "start_time": "2025-07-12T17:02:20.401187Z"
    }
   },
   "source": "eventos = {}",
   "outputs": [],
   "execution_count": 55
  },
  {
   "metadata": {
    "ExecuteTime": {
     "end_time": "2025-07-12T17:02:21.820459Z",
     "start_time": "2025-07-12T17:02:21.818452Z"
    }
   },
   "cell_type": "code",
   "source": [
    "#n = int(input()).strip()\n",
    "linha = [\"Lucas,_Fotografia\",\"Ana,_Viagem\", \"Carlos,_Fotografia\"]\n",
    "print(f\"message recebido: {linha} ({type(linha)})\")\n",
    "n = len(linha)\n",
    "n"
   ],
   "id": "5466e8d4bc32cf3e",
   "outputs": [
    {
     "name": "stdout",
     "output_type": "stream",
     "text": [
      "message recebido: ['Lucas,_Fotografia', 'Ana,_Viagem', 'Carlos,_Fotografia'] (<class 'list'>)\n"
     ]
    },
    {
     "data": {
      "text/plain": [
       "3"
      ]
     },
     "execution_count": 56,
     "metadata": {},
     "output_type": "execute_result"
    }
   ],
   "execution_count": 56
  },
  {
   "metadata": {
    "ExecuteTime": {
     "end_time": "2025-07-12T17:02:23.725613Z",
     "start_time": "2025-07-12T17:02:23.723209Z"
    }
   },
   "cell_type": "code",
   "source": [
    "for i in range(n):\n",
    "    #evento = input().strip()\n",
    "    print(f'linha {i}: {linha[i]}')\n",
    "    nome, tema = map(str, linha[i].split(','))\n",
    "    tema = tema.replace('_', '')\n",
    "    print(nome)\n",
    "    print(tema)\n",
    "    print(eventos)\n",
    "    if tema not in eventos:\n",
    "        eventos[tema] = []\n",
    "        print(f'Add evento:\\n {eventos}')\n",
    "    eventos[tema].append(nome)\n",
    "eventos\n"
   ],
   "id": "18aa6937358ecbe1",
   "outputs": [
    {
     "name": "stdout",
     "output_type": "stream",
     "text": [
      "linha 0: Lucas,_Fotografia\n",
      "Lucas\n",
      "Fotografia\n",
      "{}\n",
      "Add evento:\n",
      " {'Fotografia': []}\n",
      "linha 1: Ana,_Viagem\n",
      "Ana\n",
      "Viagem\n",
      "{'Fotografia': ['Lucas']}\n",
      "Add evento:\n",
      " {'Fotografia': ['Lucas'], 'Viagem': []}\n",
      "linha 2: Carlos,_Fotografia\n",
      "Carlos\n",
      "Fotografia\n",
      "{'Fotografia': ['Lucas'], 'Viagem': ['Ana']}\n"
     ]
    },
    {
     "data": {
      "text/plain": [
       "{'Fotografia': ['Lucas', 'Carlos'], 'Viagem': ['Ana']}"
      ]
     },
     "execution_count": 57,
     "metadata": {},
     "output_type": "execute_result"
    }
   ],
   "execution_count": 57
  },
  {
   "metadata": {
    "ExecuteTime": {
     "end_time": "2025-07-12T17:02:39.413192Z",
     "start_time": "2025-07-12T17:02:39.411558Z"
    }
   },
   "cell_type": "code",
   "source": [
    "for tema, nomes in eventos.items():\n",
    "    print(f'{tema}: {\", \".join(nomes)}')\n"
   ],
   "id": "90f17598417d0927",
   "outputs": [
    {
     "name": "stdout",
     "output_type": "stream",
     "text": [
      "Fotografia: Lucas, Carlos\n",
      "Viagem: Ana\n"
     ]
    }
   ],
   "execution_count": 59
  },
  {
   "metadata": {
    "ExecuteTime": {
     "end_time": "2025-07-12T17:01:18.182326Z",
     "start_time": "2025-07-12T17:01:18.180309Z"
    }
   },
   "cell_type": "code",
   "source": [
    "n = ' dada_ '\n",
    "n = n.strip()\n",
    "print(n)\n",
    "n = n.replace('_', '')\n",
    "n"
   ],
   "id": "54620dfbe796fa56",
   "outputs": [
    {
     "name": "stdout",
     "output_type": "stream",
     "text": [
      "dada_\n"
     ]
    },
    {
     "data": {
      "text/plain": [
       "'dada'"
      ]
     },
     "execution_count": 50,
     "metadata": {},
     "output_type": "execute_result"
    }
   ],
   "execution_count": 50
  },
  {
   "metadata": {},
   "cell_type": "code",
   "outputs": [],
   "execution_count": null,
   "source": "",
   "id": "14889fc80451b1b9"
  }
 ],
 "metadata": {
  "kernelspec": {
   "display_name": "Python 3",
   "language": "python",
   "name": "python3"
  },
  "language_info": {
   "codemirror_mode": {
    "name": "ipython",
    "version": 2
   },
   "file_extension": ".py",
   "mimetype": "text/x-python",
   "name": "python",
   "nbconvert_exporter": "python",
   "pygments_lexer": "ipython2",
   "version": "2.7.6"
  }
 },
 "nbformat": 4,
 "nbformat_minor": 5
}
