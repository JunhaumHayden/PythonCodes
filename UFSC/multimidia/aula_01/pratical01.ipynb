{
 "cells": [
  {
   "metadata": {
    "ExecuteTime": {
     "end_time": "2025-09-18T00:44:08.142356Z",
     "start_time": "2025-09-18T00:44:08.140664Z"
    }
   },
   "cell_type": "code",
   "source": [
    "# Aula prática de áudio digital\n",
    "import numpy as np\n",
    "import matplotlib.pyplot as plt\n",
    "from scipy.io import wavfile\n",
    "from scipy.signal import resample\n",
    "from IPython.display import Audio, display\n",
    "import ipywidgets as widgets\n",
    "import os\n"
   ],
   "id": "a9259e1622ce6fc6",
   "outputs": [],
   "execution_count": 47
  },
  {
   "cell_type": "code",
   "id": "initial_id",
   "metadata": {
    "collapsed": true,
    "ExecuteTime": {
     "end_time": "2025-09-18T00:44:08.188252Z",
     "start_time": "2025-09-18T00:44:08.184278Z"
    }
   },
   "source": [
    "\n",
    "def process_audio_advanced(filename, target_rate=40000, bits=16, initial_time=0, duration=5):\n",
    "    # Ler arquivo original:\n",
    "    # - original_rate -> taxa de amostragem em Hz\n",
    "    # - audio_data -> um array NumPy contendo as amostras do áudio.\n",
    "    # - audio_data.shape (1 ou 2): número de canais: 1D para mono e 2D para estéreo\n",
    "    original_rate, audio_data = wavfile.read(filename)\n",
    "\n",
    "    # Se estéreo, pegar apenas um canal\n",
    "    if len(audio_data.shape) > 1:\n",
    "        audio_data = audio_data[:,0]\n",
    "        # Seleciona todas as linhas (:) e apenas a primeira coluna (0), ou seja, o canal esquerdo.\n",
    "\n",
    "    # Altera a taxa de amostragem do áudio (resampling),\n",
    "    # len(audio_data) → número total de amostras no áudio original.\n",
    "    # original_rate → taxa de amostragem do áudio original (em Hz).\n",
    "    # target_rate → nova taxa de amostragem desejada (em Hz).\n",
    "    # Ajusta o número de amostras do áudio para a nova taxa de amostragem.\n",
    "    num_samples = int(len(audio_data) * target_rate / original_rate)\n",
    "\n",
    "    # gera o novo áudio com a taxa de amostragem selecionada\n",
    "    audio_resampled = resample(audio_data, num_samples)\n",
    "\n",
    "    #determina o maior valor de amostra\n",
    "    max_val = np.max(np.abs(audio_resampled))\n",
    "\n",
    "    # Normaliza o áudio:\n",
    "    # - Divide cada amostra pelo valor absoluto máximo (max_val) do áudio resampleado.\n",
    "    # - Resultado: valores entre -1 e 1, independentemente da amplitude original.\n",
    "    audio_normalized = audio_resampled / max_val\n",
    "\n",
    "    max_val = np.max(np.abs(audio_resampled))\n",
    "    if bits == 8:\n",
    "        # Converte para byte entre [0,255], onde 127 é zero\n",
    "        audio_processed = np.uint8(audio_normalized*127 + 128)\n",
    "    elif bits == 16:\n",
    "        # Converte para int16 entre [-32767, +32767]\n",
    "        audio_processed = np.int16(audio_normalized * 32767)\n",
    "    elif bits == 4:\n",
    "        # audio_processed: valores inteiros de -7 até +7 (15 níveis)\n",
    "        audio_processed = np.round(audio_normalized * 7)\n",
    "        # Reescala para [0, 14]\n",
    "        audio_processed = audio_processed + 7\n",
    "        # Mapeia para [0, 255]\n",
    "        audio_processed = np.uint8(audio_processed * (255 // 14))\n",
    "    else:\n",
    "        raise ValueError(\"Bits permitidos: 4, 8 ou 16\")\n",
    "\n",
    "    # Salvar arquivo\n",
    "    base, ext = os.path.splitext(filename)\n",
    "    output_filename = f\"{base}_{target_rate}Hz_{bits}bit.wav\"\n",
    "    wavfile.write(output_filename, target_rate, audio_processed)\n",
    "    print(f\"Arquivo salvo como: {output_filename}\")\n",
    "\n",
    "    if bits == 8 or bits == 4:\n",
    "        # Antes de calcular a FFT, converta para float centrado em zero\n",
    "        audio_processed = audio_processed.astype(np.float32)        # converte para float\n",
    "        audio_processed = audio_processed - 128                     # remove offset DC\n",
    "    fft_vals = np.fft.rfft(audio_processed)\n",
    "    fft_freq = np.fft.rfftfreq(len(audio_processed), 1/target_rate)\n",
    "    magnitude = np.abs(fft_vals)\n",
    "\n",
    "\n",
    "    # Plot waveform\n",
    "    plt.figure(figsize=(12, 3))\n",
    "    time_axis = np.linspace(0, len(audio_processed)/target_rate, num=len(audio_processed))\n",
    "    plt.plot(time_axis, audio_processed)\n",
    "    plt.title(f\"Waveform - Rate: {target_rate} Hz, Bits: {bits}\")\n",
    "    plt.xlabel(\"Time [s]\")\n",
    "    plt.ylabel(\"Amplitude\")\n",
    "    plt.show()\n",
    "\n",
    "    # Plot espectro de frequência\n",
    "    plt.figure(figsize=(12, 3))\n",
    "    plt.plot(fft_freq, magnitude)\n",
    "    plt.title(f\"Frequency Spectrum\")\n",
    "    plt.xlabel(\"Frequency [Hz]\")\n",
    "    plt.ylabel(\"Magnitude\")\n",
    "    plt.show()\n",
    "\n",
    "    # Plot waveform\n",
    "    plt.figure(figsize=(12, 3))\n",
    "    time_axis = np.linspace(0, len(audio_processed)/target_rate, num=len(audio_processed))\n",
    "    plt.plot(time_axis, audio_processed)\n",
    "    plt.title(f\"Waveform - Rate: {target_rate} Hz, Bits: {bits}\")\n",
    "    plt.xlabel(\"Time [s]\")\n",
    "    plt.ylabel(\"Amplitude\")\n",
    "    plt.xlim([initial_time, initial_time + duration]) # Limit x-axis to 0-1 seconds\n",
    "    plt.show()\n",
    "\n",
    "    # Reproduzir áudio\n",
    "    display(Audio(audio_processed, rate=target_rate))\n",
    "\n"
   ],
   "outputs": [],
   "execution_count": 48
  },
  {
   "metadata": {
    "ExecuteTime": {
     "end_time": "2025-09-18T00:44:08.231773Z",
     "start_time": "2025-09-18T00:44:08.230401Z"
    }
   },
   "cell_type": "code",
   "source": [
    "    # Arquivo de áudio\n",
    "    filename = \"audio.wav\""
   ],
   "id": "3e561a6235a1fd30",
   "outputs": [],
   "execution_count": 49
  },
  {
   "metadata": {
    "ExecuteTime": {
     "end_time": "2025-09-18T00:44:08.680008Z",
     "start_time": "2025-09-18T00:44:08.275492Z"
    }
   },
   "cell_type": "code",
   "source": [
    "\n",
    "\n",
    "# Widget interativo\n",
    "widgets.interact(\n",
    "    process_audio_advanced,\n",
    "    filename=widgets.fixed(filename),\n",
    "    target_rate=widgets.IntSlider(min=4000, max=44100, step=1000, value=8000, description=\"Sampling Rate\"),\n",
    "    bits=widgets.Dropdown(options=[4, 8, 16], value=8, description=\"Bits per Sample\")\n",
    ")"
   ],
   "id": "d32c49e16005ce7f",
   "outputs": [
    {
     "data": {
      "text/plain": [
       "interactive(children=(IntSlider(value=8000, description='Sampling Rate', max=44100, min=4000, step=1000), Drop…"
      ],
      "application/vnd.jupyter.widget-view+json": {
       "version_major": 2,
       "version_minor": 0,
       "model_id": "47d0d4df9eec45d5b4bd5a0e7044c5a5"
      }
     },
     "metadata": {},
     "output_type": "display_data",
     "jetTransient": {
      "display_id": null
     }
    },
    {
     "data": {
      "text/plain": [
       "<function __main__.process_audio_advanced(filename, target_rate=40000, bits=16, initial_time=0, duration=5)>"
      ]
     },
     "execution_count": 50,
     "metadata": {},
     "output_type": "execute_result"
    }
   ],
   "execution_count": 50
  },
  {
   "metadata": {},
   "cell_type": "markdown",
   "source": [
    "Procedimentos:\n",
    "\n",
    "1) Entre no colab https://colab.research.google.com/ e abra um notebook com o código abaixo e faça o upload do arquivo audio.wav. Este arquivo tem uma taxa de amostragem de 44.1Khz, 16 bits/amostra e é mono.\n",
    "\n",
    "2) Estude o código python\n",
    "\n",
    "3) Responda as questões abaixo:"
   ],
   "id": "6e815d3edcb90ded"
  },
  {
   "metadata": {},
   "cell_type": "markdown",
   "source": [
    "A) Vá no notebook e altere o som para manter os parâmetros próximos do original: 40kHz e 16 bits por amostra. Em seguida responda:\n",
    "\n",
    "i) Qual é a maior frequência de som no arquivo?\n",
    "\n",
    "ii) Indique o maior componente de frequência (em Hertz) possível quando estes parâmetros de digitalização são utilizados.\n",
    "\n",
    "iii) Qual é o tamanho teórico do áudio (parte de dados);\n",
    "\n",
    "iv) O tamanho do arquivo em bytes (ver propriedades do arquivo, ou Linux utilize o comando \"ls -l audio.wav) e indique o motivo da diferença entre este tamanho e o calculado em ii).\n",
    "\n",
    "v) O tamanho do arquivo em disco em bytes, observando as propriedades do arquivo, ou no linux utilize \"du -s -B1 audio.wav\", e indique o motivo da diferença entre este tamanho e o tamanho do arquivo em ii).\n",
    "\n",
    "vi) Indique o o tamanho deste arquivo em disco se  o seu HD fosse formatado para um tamanho de bloco (unidade de alocação em disco) de 2048 B."
   ],
   "id": "4faa9ad1c1e68689"
  },
  {
   "metadata": {},
   "cell_type": "markdown",
   "source": "### Alterar som para 40khz e 16 bits",
   "id": "c75921874920d8a"
  },
  {
   "metadata": {
    "ExecuteTime": {
     "end_time": "2025-09-18T01:08:06.221677Z",
     "start_time": "2025-09-18T01:08:05.616883Z"
    }
   },
   "cell_type": "code",
   "source": [
    "# Widget interativo\n",
    "widgets.interact(\n",
    "    process_audio_advanced,\n",
    "    filename=widgets.fixed(filename),\n",
    "    target_rate=widgets.IntSlider(min=4000, max=44100, step=1000, value=40000, description=\"Sampling Rate\"),\n",
    "    bits=widgets.Dropdown(options=[4, 8, 16], value=16, description=\"Bits per Sample\"),\n",
    "    initial_time=widgets.FloatSlider(min=0, max=30, step=1, value=0, description=\"Initial Time (s)\"),\n",
    "    duration=widgets.FloatSlider(min=0.1, max=10, step=0.1, value=1, description=\"Duration (s)\")\n",
    ")"
   ],
   "id": "32bd0e4a885feedd",
   "outputs": [
    {
     "data": {
      "text/plain": [
       "interactive(children=(IntSlider(value=40000, description='Sampling Rate', max=44100, min=4000, step=1000), Dro…"
      ],
      "application/vnd.jupyter.widget-view+json": {
       "version_major": 2,
       "version_minor": 0,
       "model_id": "4326d78e6b754f89865c362f03af5cc0"
      }
     },
     "metadata": {},
     "output_type": "display_data",
     "jetTransient": {
      "display_id": null
     }
    },
    {
     "data": {
      "text/plain": [
       "<function __main__.process_audio_advanced(filename, target_rate=40000, bits=16, initial_time=0, duration=5)>"
      ]
     },
     "execution_count": 52,
     "metadata": {},
     "output_type": "execute_result"
    }
   ],
   "execution_count": null
  },
  {
   "metadata": {
    "ExecuteTime": {
     "end_time": "2025-09-18T01:12:26.830408Z",
     "start_time": "2025-09-18T01:12:26.826771Z"
    }
   },
   "cell_type": "code",
   "source": [
    "# i) Examine the frequency spectrum plot from the previous step.\n",
    "# Based on visual inspection of the plot, the highest frequency with significant magnitude appears to be around 18000 Hz.\n",
    "\n",
    "# ii) Calculate the Nyquist frequency for a sampling rate of 40kHz.\n",
    "sampling_rate = 40000  # Hz\n",
    "nyquist_frequency = sampling_rate / 2\n",
    "print(f\"ii) The Nyquist frequency for a sampling rate of {sampling_rate} Hz is: {nyquist_frequency} Hz\")\n",
    "\n",
    "# iii) Calculate the theoretical size of the audio data.\n",
    "# To do this, we need the duration of the original audio.\n",
    "# We can get this from the original_rate and the length of audio_data before resampling.\n",
    "original_rate, audio_data_original = wavfile.read(filename)\n",
    "if len(audio_data_original.shape) > 1:\n",
    "    audio_data_original = audio_data_original[:,0]\n",
    "duration = len(audio_data_original) / original_rate\n",
    "\n",
    "target_rate = 40000  # Hz\n",
    "bits_per_sample = 16\n",
    "bytes_per_sample = bits_per_sample / 8\n",
    "\n",
    "theoretical_size_bytes = duration * target_rate * bytes_per_sample\n",
    "print(f\"iii) The theoretical size of the audio data is: {theoretical_size_bytes} bytes\")"
   ],
   "id": "68c0cf939b844953",
   "outputs": [
    {
     "name": "stdout",
     "output_type": "stream",
     "text": [
      "ii) The Nyquist frequency for a sampling rate of 40000 Hz is: 20000.0 Hz\n",
      "iii) The theoretical size of the audio data is: 2400000.0 bytes\n"
     ]
    }
   ],
   "execution_count": 53
  },
  {
   "metadata": {},
   "cell_type": "markdown",
   "source": "## ## alterar a taxa de amostragem para 10kHz,   e mantendo 16-bits por amostra\n",
   "id": "4b68fb3e1463d4e0"
  },
  {
   "metadata": {},
   "cell_type": "code",
   "outputs": [],
   "execution_count": null,
   "source": [
    "# Widget interativo\n",
    "widgets.interact(\n",
    "    process_audio_advanced,\n",
    "    filename=widgets.fixed(filename),\n",
    "    target_rate=widgets.IntSlider(min=4000, max=44100, step=1000, value=10000, description=\"Sampling Rate\"),\n",
    "    bits=widgets.Dropdown(options=[4, 8, 16], value=16, description=\"Bits per Sample\"),\n",
    "    initial_time=widgets.FloatSlider(min=0, max=30, step=1, value=0, description=\"Initial Time (s)\"),\n",
    "    duration=widgets.FloatSlider(min=0.1, max=10, step=0.1, value=1, description=\"Duration (s)\")\n",
    ")"
   ],
   "id": "860ca2f85deb6668"
  },
  {
   "metadata": {},
   "cell_type": "markdown",
   "source": "## alterar a taxa de amostragem para 4kHz   e mantendo 4-bits por amostra",
   "id": "761dde4254d2b24c"
  },
  {
   "metadata": {},
   "cell_type": "code",
   "outputs": [],
   "execution_count": null,
   "source": [
    "# Widget interativo\n",
    "widgets.interact(\n",
    "    process_audio_advanced,\n",
    "    filename=widgets.fixed(filename),\n",
    "    target_rate=widgets.IntSlider(min=4000, max=44100, step=1000, value=4000, description=\"Sampling Rate\"),\n",
    "    bits=widgets.Dropdown(options=[4, 8, 16], value=4, description=\"Bits per Sample\"),\n",
    "    initial_time=widgets.FloatSlider(min=0, max=30, step=1, value=0, description=\"Initial Time (s)\"),\n",
    "    duration=widgets.FloatSlider(min=0.1, max=10, step=0.1, value=1, description=\"Duration (s)\")\n",
    ")"
   ],
   "id": "edc70dbe76680536"
  }
 ],
 "metadata": {
  "kernelspec": {
   "display_name": "Python 3",
   "language": "python",
   "name": "python3"
  },
  "language_info": {
   "codemirror_mode": {
    "name": "ipython",
    "version": 2
   },
   "file_extension": ".py",
   "mimetype": "text/x-python",
   "name": "python",
   "nbconvert_exporter": "python",
   "pygments_lexer": "ipython2",
   "version": "2.7.6"
  }
 },
 "nbformat": 4,
 "nbformat_minor": 5
}
